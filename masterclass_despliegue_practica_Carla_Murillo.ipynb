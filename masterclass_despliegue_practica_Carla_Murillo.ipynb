{
  "cells": [
    {
      "cell_type": "markdown",
      "metadata": {
        "id": "Sjxqlo8oG8og"
      },
      "source": [
        "# Práctica Final: Clasificación de Documentos con Scikit-learn y MLflow\n",
        "\n",
        "En esta práctica, utilizarás un conjunto de datos de Scikit-learn (podeís usar el mismo que en el notebook de Intro MLFlow) para entrenar un modelo de clasificación de documentos. El objetivo es construir un modelo capaz de clasificar automáticamente documentos en categorías predefinidas.\n",
        "\n",
        "Pasos a seguir:\n",
        "\n",
        "    Exploración de Datos: Analiza el conjunto de datos proporcionado para comprender su estructura y contenido.\n",
        "\n",
        "    Preprocesamiento de Texto: Realiza tareas de preprocesamiento de texto, como tokenización y vectorización, para preparar los datos para el modelado.\n",
        "\n",
        "    Entrenamiento del Modelo: Utiliza algoritmos de clasificación de Scikit-learn para entrenar un modelo con los datos preprocesados.\n",
        "\n",
        "    Evaluación del Modelo: Evalúa el rendimiento del modelo utilizando métricas de evaluación estándar como precisión y recall.\n",
        "\n",
        "    Registro de Métricas con MLflow: Utiliza MLflow para registrar métricas y hiperparámetros durante el entrenamiento, facilitando la gestión y comparación de experimentos.\n",
        "\n",
        "\n",
        "Nota: Dado que no voy a poder tener acceso a vuestros logs de MLFlow añadirme las imagenes de la interfaz de MLFlow en el notebook"
      ]
    },
    {
      "cell_type": "code",
      "execution_count": null,
      "metadata": {
        "colab": {
          "base_uri": "https://localhost:8080/"
        },
        "id": "kV1bTzING8on",
        "outputId": "72b00e96-b1fd-4055-8320-72c285ef378d"
      },
      "outputs": [
        {
          "output_type": "stream",
          "name": "stdout",
          "text": [
            "Collecting mlflow\n",
            "  Downloading mlflow-2.11.3-py3-none-any.whl (19.7 MB)\n",
            "\u001b[2K     \u001b[90m━━━━━━━━━━━━━━━━━━━━━━━━━━━━━━━━━━━━━━━━\u001b[0m \u001b[32m19.7/19.7 MB\u001b[0m \u001b[31m43.0 MB/s\u001b[0m eta \u001b[36m0:00:00\u001b[0m\n",
            "\u001b[?25hRequirement already satisfied: click<9,>=7.0 in /usr/local/lib/python3.10/dist-packages (from mlflow) (8.1.7)\n",
            "Requirement already satisfied: cloudpickle<4 in /usr/local/lib/python3.10/dist-packages (from mlflow) (2.2.1)\n",
            "Requirement already satisfied: entrypoints<1 in /usr/local/lib/python3.10/dist-packages (from mlflow) (0.4)\n",
            "Collecting gitpython<4,>=3.1.9 (from mlflow)\n",
            "  Downloading GitPython-3.1.43-py3-none-any.whl (207 kB)\n",
            "\u001b[2K     \u001b[90m━━━━━━━━━━━━━━━━━━━━━━━━━━━━━━━━━━━━━━━━\u001b[0m \u001b[32m207.3/207.3 kB\u001b[0m \u001b[31m13.9 MB/s\u001b[0m eta \u001b[36m0:00:00\u001b[0m\n",
            "\u001b[?25hRequirement already satisfied: pyyaml<7,>=5.1 in /usr/local/lib/python3.10/dist-packages (from mlflow) (6.0.1)\n",
            "Requirement already satisfied: protobuf<5,>=3.12.0 in /usr/local/lib/python3.10/dist-packages (from mlflow) (3.20.3)\n",
            "Requirement already satisfied: pytz<2025 in /usr/local/lib/python3.10/dist-packages (from mlflow) (2023.4)\n",
            "Requirement already satisfied: requests<3,>=2.17.3 in /usr/local/lib/python3.10/dist-packages (from mlflow) (2.31.0)\n",
            "Collecting packaging<24 (from mlflow)\n",
            "  Downloading packaging-23.2-py3-none-any.whl (53 kB)\n",
            "\u001b[2K     \u001b[90m━━━━━━━━━━━━━━━━━━━━━━━━━━━━━━━━━━━━━━━━\u001b[0m \u001b[32m53.0/53.0 kB\u001b[0m \u001b[31m3.7 MB/s\u001b[0m eta \u001b[36m0:00:00\u001b[0m\n",
            "\u001b[?25hRequirement already satisfied: importlib-metadata!=4.7.0,<8,>=3.7.0 in /usr/local/lib/python3.10/dist-packages (from mlflow) (7.1.0)\n",
            "Requirement already satisfied: sqlparse<1,>=0.4.0 in /usr/local/lib/python3.10/dist-packages (from mlflow) (0.4.4)\n",
            "Collecting alembic!=1.10.0,<2 (from mlflow)\n",
            "  Downloading alembic-1.13.1-py3-none-any.whl (233 kB)\n",
            "\u001b[2K     \u001b[90m━━━━━━━━━━━━━━━━━━━━━━━━━━━━━━━━━━━━━━━━\u001b[0m \u001b[32m233.4/233.4 kB\u001b[0m \u001b[31m17.2 MB/s\u001b[0m eta \u001b[36m0:00:00\u001b[0m\n",
            "\u001b[?25hCollecting docker<8,>=4.0.0 (from mlflow)\n",
            "  Downloading docker-7.0.0-py3-none-any.whl (147 kB)\n",
            "\u001b[2K     \u001b[90m━━━━━━━━━━━━━━━━━━━━━━━━━━━━━━━━━━━━━━━━\u001b[0m \u001b[32m147.6/147.6 kB\u001b[0m \u001b[31m11.2 MB/s\u001b[0m eta \u001b[36m0:00:00\u001b[0m\n",
            "\u001b[?25hRequirement already satisfied: Flask<4 in /usr/local/lib/python3.10/dist-packages (from mlflow) (2.2.5)\n",
            "Requirement already satisfied: numpy<2 in /usr/local/lib/python3.10/dist-packages (from mlflow) (1.25.2)\n",
            "Requirement already satisfied: scipy<2 in /usr/local/lib/python3.10/dist-packages (from mlflow) (1.11.4)\n",
            "Requirement already satisfied: pandas<3 in /usr/local/lib/python3.10/dist-packages (from mlflow) (2.0.3)\n",
            "Collecting querystring-parser<2 (from mlflow)\n",
            "  Downloading querystring_parser-1.2.4-py2.py3-none-any.whl (7.9 kB)\n",
            "Requirement already satisfied: sqlalchemy<3,>=1.4.0 in /usr/local/lib/python3.10/dist-packages (from mlflow) (2.0.29)\n",
            "Requirement already satisfied: scikit-learn<2 in /usr/local/lib/python3.10/dist-packages (from mlflow) (1.2.2)\n",
            "Requirement already satisfied: pyarrow<16,>=4.0.0 in /usr/local/lib/python3.10/dist-packages (from mlflow) (14.0.2)\n",
            "Requirement already satisfied: markdown<4,>=3.3 in /usr/local/lib/python3.10/dist-packages (from mlflow) (3.6)\n",
            "Requirement already satisfied: matplotlib<4 in /usr/local/lib/python3.10/dist-packages (from mlflow) (3.7.1)\n",
            "Collecting graphene<4 (from mlflow)\n",
            "  Downloading graphene-3.3-py2.py3-none-any.whl (128 kB)\n",
            "\u001b[2K     \u001b[90m━━━━━━━━━━━━━━━━━━━━━━━━━━━━━━━━━━━━━━━━\u001b[0m \u001b[32m128.2/128.2 kB\u001b[0m \u001b[31m10.1 MB/s\u001b[0m eta \u001b[36m0:00:00\u001b[0m\n",
            "\u001b[?25hCollecting gunicorn<22 (from mlflow)\n",
            "  Downloading gunicorn-21.2.0-py3-none-any.whl (80 kB)\n",
            "\u001b[2K     \u001b[90m━━━━━━━━━━━━━━━━━━━━━━━━━━━━━━━━━━━━━━━━\u001b[0m \u001b[32m80.2/80.2 kB\u001b[0m \u001b[31m8.8 MB/s\u001b[0m eta \u001b[36m0:00:00\u001b[0m\n",
            "\u001b[?25hRequirement already satisfied: Jinja2<4,>=2.11 in /usr/local/lib/python3.10/dist-packages (from mlflow) (3.1.3)\n",
            "Collecting Mako (from alembic!=1.10.0,<2->mlflow)\n",
            "  Downloading Mako-1.3.2-py3-none-any.whl (78 kB)\n",
            "\u001b[2K     \u001b[90m━━━━━━━━━━━━━━━━━━━━━━━━━━━━━━━━━━━━━━━━\u001b[0m \u001b[32m78.7/78.7 kB\u001b[0m \u001b[31m9.4 MB/s\u001b[0m eta \u001b[36m0:00:00\u001b[0m\n",
            "\u001b[?25hRequirement already satisfied: typing-extensions>=4 in /usr/local/lib/python3.10/dist-packages (from alembic!=1.10.0,<2->mlflow) (4.10.0)\n",
            "Requirement already satisfied: urllib3>=1.26.0 in /usr/local/lib/python3.10/dist-packages (from docker<8,>=4.0.0->mlflow) (2.0.7)\n",
            "Requirement already satisfied: Werkzeug>=2.2.2 in /usr/local/lib/python3.10/dist-packages (from Flask<4->mlflow) (3.0.2)\n",
            "Requirement already satisfied: itsdangerous>=2.0 in /usr/local/lib/python3.10/dist-packages (from Flask<4->mlflow) (2.1.2)\n",
            "Collecting gitdb<5,>=4.0.1 (from gitpython<4,>=3.1.9->mlflow)\n",
            "  Downloading gitdb-4.0.11-py3-none-any.whl (62 kB)\n",
            "\u001b[2K     \u001b[90m━━━━━━━━━━━━━━━━━━━━━━━━━━━━━━━━━━━━━━━━\u001b[0m \u001b[32m62.7/62.7 kB\u001b[0m \u001b[31m3.7 MB/s\u001b[0m eta \u001b[36m0:00:00\u001b[0m\n",
            "\u001b[?25hCollecting graphql-core<3.3,>=3.1 (from graphene<4->mlflow)\n",
            "  Downloading graphql_core-3.2.3-py3-none-any.whl (202 kB)\n",
            "\u001b[2K     \u001b[90m━━━━━━━━━━━━━━━━━━━━━━━━━━━━━━━━━━━━━━━━\u001b[0m \u001b[32m202.9/202.9 kB\u001b[0m \u001b[31m5.4 MB/s\u001b[0m eta \u001b[36m0:00:00\u001b[0m\n",
            "\u001b[?25hCollecting graphql-relay<3.3,>=3.1 (from graphene<4->mlflow)\n",
            "  Downloading graphql_relay-3.2.0-py3-none-any.whl (16 kB)\n",
            "Collecting aniso8601<10,>=8 (from graphene<4->mlflow)\n",
            "  Downloading aniso8601-9.0.1-py2.py3-none-any.whl (52 kB)\n",
            "\u001b[2K     \u001b[90m━━━━━━━━━━━━━━━━━━━━━━━━━━━━━━━━━━━━━━━━\u001b[0m \u001b[32m52.8/52.8 kB\u001b[0m \u001b[31m4.9 MB/s\u001b[0m eta \u001b[36m0:00:00\u001b[0m\n",
            "\u001b[?25hRequirement already satisfied: zipp>=0.5 in /usr/local/lib/python3.10/dist-packages (from importlib-metadata!=4.7.0,<8,>=3.7.0->mlflow) (3.18.1)\n",
            "Requirement already satisfied: MarkupSafe>=2.0 in /usr/local/lib/python3.10/dist-packages (from Jinja2<4,>=2.11->mlflow) (2.1.5)\n",
            "Requirement already satisfied: contourpy>=1.0.1 in /usr/local/lib/python3.10/dist-packages (from matplotlib<4->mlflow) (1.2.0)\n",
            "Requirement already satisfied: cycler>=0.10 in /usr/local/lib/python3.10/dist-packages (from matplotlib<4->mlflow) (0.12.1)\n",
            "Requirement already satisfied: fonttools>=4.22.0 in /usr/local/lib/python3.10/dist-packages (from matplotlib<4->mlflow) (4.50.0)\n",
            "Requirement already satisfied: kiwisolver>=1.0.1 in /usr/local/lib/python3.10/dist-packages (from matplotlib<4->mlflow) (1.4.5)\n",
            "Requirement already satisfied: pillow>=6.2.0 in /usr/local/lib/python3.10/dist-packages (from matplotlib<4->mlflow) (9.4.0)\n",
            "Requirement already satisfied: pyparsing>=2.3.1 in /usr/local/lib/python3.10/dist-packages (from matplotlib<4->mlflow) (3.1.2)\n",
            "Requirement already satisfied: python-dateutil>=2.7 in /usr/local/lib/python3.10/dist-packages (from matplotlib<4->mlflow) (2.8.2)\n",
            "Requirement already satisfied: tzdata>=2022.1 in /usr/local/lib/python3.10/dist-packages (from pandas<3->mlflow) (2024.1)\n",
            "Requirement already satisfied: six in /usr/local/lib/python3.10/dist-packages (from querystring-parser<2->mlflow) (1.16.0)\n",
            "Requirement already satisfied: charset-normalizer<4,>=2 in /usr/local/lib/python3.10/dist-packages (from requests<3,>=2.17.3->mlflow) (3.3.2)\n",
            "Requirement already satisfied: idna<4,>=2.5 in /usr/local/lib/python3.10/dist-packages (from requests<3,>=2.17.3->mlflow) (3.6)\n",
            "Requirement already satisfied: certifi>=2017.4.17 in /usr/local/lib/python3.10/dist-packages (from requests<3,>=2.17.3->mlflow) (2024.2.2)\n",
            "Requirement already satisfied: joblib>=1.1.1 in /usr/local/lib/python3.10/dist-packages (from scikit-learn<2->mlflow) (1.3.2)\n",
            "Requirement already satisfied: threadpoolctl>=2.0.0 in /usr/local/lib/python3.10/dist-packages (from scikit-learn<2->mlflow) (3.4.0)\n",
            "Requirement already satisfied: greenlet!=0.4.17 in /usr/local/lib/python3.10/dist-packages (from sqlalchemy<3,>=1.4.0->mlflow) (3.0.3)\n",
            "Collecting smmap<6,>=3.0.1 (from gitdb<5,>=4.0.1->gitpython<4,>=3.1.9->mlflow)\n",
            "  Downloading smmap-5.0.1-py3-none-any.whl (24 kB)\n",
            "Installing collected packages: aniso8601, smmap, querystring-parser, packaging, Mako, graphql-core, gunicorn, graphql-relay, gitdb, docker, alembic, graphene, gitpython, mlflow\n",
            "  Attempting uninstall: packaging\n",
            "    Found existing installation: packaging 24.0\n",
            "    Uninstalling packaging-24.0:\n",
            "      Successfully uninstalled packaging-24.0\n",
            "Successfully installed Mako-1.3.2 alembic-1.13.1 aniso8601-9.0.1 docker-7.0.0 gitdb-4.0.11 gitpython-3.1.43 graphene-3.3 graphql-core-3.2.3 graphql-relay-3.2.0 gunicorn-21.2.0 mlflow-2.11.3 packaging-23.2 querystring-parser-1.2.4 smmap-5.0.1\n"
          ]
        }
      ],
      "source": [
        "pip install mlflow"
      ]
    },
    {
      "cell_type": "markdown",
      "source": [
        "Instalamos las librerias necesarias y cargamos el conjunto de datos de cáncer de mama proporcionado por Scikit-Learn. Posteriormente, lo guardamos en un dataframe y hacemos una visualización de los primeros registros."
      ],
      "metadata": {
        "id": "bEhNazIklcEQ"
      }
    },
    {
      "cell_type": "code",
      "execution_count": null,
      "metadata": {
        "id": "1QDzIYKKG8op"
      },
      "outputs": [],
      "source": [
        "import pandas as pd\n",
        "import numpy as np\n",
        "import mlflow\n",
        "import mlflow.sklearn\n",
        "import subprocess\n",
        "\n",
        "from sklearn.model_selection import train_test_split\n",
        "from sklearn.ensemble import RandomForestClassifier\n",
        "from sklearn.ensemble import GradientBoostingClassifier\n",
        "\n",
        "from sklearn.pipeline import Pipeline\n",
        "from sklearn.preprocessing import StandardScaler\n",
        "\n",
        "from sklearn.metrics import accuracy_score"
      ]
    },
    {
      "cell_type": "code",
      "execution_count": null,
      "metadata": {
        "id": "8PRwQb8xG8oq"
      },
      "outputs": [],
      "source": [
        "from sklearn.datasets import load_breast_cancer\n",
        "cancer = load_breast_cancer()"
      ]
    },
    {
      "cell_type": "code",
      "execution_count": null,
      "metadata": {
        "colab": {
          "base_uri": "https://localhost:8080/",
          "height": 270
        },
        "id": "LVGapAB3G8os",
        "outputId": "3584a753-7c4f-4307-d7f2-b176d8b5ee39"
      },
      "outputs": [
        {
          "output_type": "execute_result",
          "data": {
            "text/plain": [
              "   mean radius  mean texture  mean perimeter  mean area  mean smoothness  \\\n",
              "0        17.99         10.38          122.80     1001.0          0.11840   \n",
              "1        20.57         17.77          132.90     1326.0          0.08474   \n",
              "2        19.69         21.25          130.00     1203.0          0.10960   \n",
              "3        11.42         20.38           77.58      386.1          0.14250   \n",
              "4        20.29         14.34          135.10     1297.0          0.10030   \n",
              "\n",
              "   mean compactness  mean concavity  mean concave points  mean symmetry  \\\n",
              "0           0.27760          0.3001              0.14710         0.2419   \n",
              "1           0.07864          0.0869              0.07017         0.1812   \n",
              "2           0.15990          0.1974              0.12790         0.2069   \n",
              "3           0.28390          0.2414              0.10520         0.2597   \n",
              "4           0.13280          0.1980              0.10430         0.1809   \n",
              "\n",
              "   mean fractal dimension  ...  worst texture  worst perimeter  worst area  \\\n",
              "0                 0.07871  ...          17.33           184.60      2019.0   \n",
              "1                 0.05667  ...          23.41           158.80      1956.0   \n",
              "2                 0.05999  ...          25.53           152.50      1709.0   \n",
              "3                 0.09744  ...          26.50            98.87       567.7   \n",
              "4                 0.05883  ...          16.67           152.20      1575.0   \n",
              "\n",
              "   worst smoothness  worst compactness  worst concavity  worst concave points  \\\n",
              "0            0.1622             0.6656           0.7119                0.2654   \n",
              "1            0.1238             0.1866           0.2416                0.1860   \n",
              "2            0.1444             0.4245           0.4504                0.2430   \n",
              "3            0.2098             0.8663           0.6869                0.2575   \n",
              "4            0.1374             0.2050           0.4000                0.1625   \n",
              "\n",
              "   worst symmetry  worst fractal dimension  target  \n",
              "0          0.4601                  0.11890       0  \n",
              "1          0.2750                  0.08902       0  \n",
              "2          0.3613                  0.08758       0  \n",
              "3          0.6638                  0.17300       0  \n",
              "4          0.2364                  0.07678       0  \n",
              "\n",
              "[5 rows x 31 columns]"
            ],
            "text/html": [
              "\n",
              "  <div id=\"df-be47e027-29d6-43b7-9142-ffbc4f2263ab\" class=\"colab-df-container\">\n",
              "    <div>\n",
              "<style scoped>\n",
              "    .dataframe tbody tr th:only-of-type {\n",
              "        vertical-align: middle;\n",
              "    }\n",
              "\n",
              "    .dataframe tbody tr th {\n",
              "        vertical-align: top;\n",
              "    }\n",
              "\n",
              "    .dataframe thead th {\n",
              "        text-align: right;\n",
              "    }\n",
              "</style>\n",
              "<table border=\"1\" class=\"dataframe\">\n",
              "  <thead>\n",
              "    <tr style=\"text-align: right;\">\n",
              "      <th></th>\n",
              "      <th>mean radius</th>\n",
              "      <th>mean texture</th>\n",
              "      <th>mean perimeter</th>\n",
              "      <th>mean area</th>\n",
              "      <th>mean smoothness</th>\n",
              "      <th>mean compactness</th>\n",
              "      <th>mean concavity</th>\n",
              "      <th>mean concave points</th>\n",
              "      <th>mean symmetry</th>\n",
              "      <th>mean fractal dimension</th>\n",
              "      <th>...</th>\n",
              "      <th>worst texture</th>\n",
              "      <th>worst perimeter</th>\n",
              "      <th>worst area</th>\n",
              "      <th>worst smoothness</th>\n",
              "      <th>worst compactness</th>\n",
              "      <th>worst concavity</th>\n",
              "      <th>worst concave points</th>\n",
              "      <th>worst symmetry</th>\n",
              "      <th>worst fractal dimension</th>\n",
              "      <th>target</th>\n",
              "    </tr>\n",
              "  </thead>\n",
              "  <tbody>\n",
              "    <tr>\n",
              "      <th>0</th>\n",
              "      <td>17.99</td>\n",
              "      <td>10.38</td>\n",
              "      <td>122.80</td>\n",
              "      <td>1001.0</td>\n",
              "      <td>0.11840</td>\n",
              "      <td>0.27760</td>\n",
              "      <td>0.3001</td>\n",
              "      <td>0.14710</td>\n",
              "      <td>0.2419</td>\n",
              "      <td>0.07871</td>\n",
              "      <td>...</td>\n",
              "      <td>17.33</td>\n",
              "      <td>184.60</td>\n",
              "      <td>2019.0</td>\n",
              "      <td>0.1622</td>\n",
              "      <td>0.6656</td>\n",
              "      <td>0.7119</td>\n",
              "      <td>0.2654</td>\n",
              "      <td>0.4601</td>\n",
              "      <td>0.11890</td>\n",
              "      <td>0</td>\n",
              "    </tr>\n",
              "    <tr>\n",
              "      <th>1</th>\n",
              "      <td>20.57</td>\n",
              "      <td>17.77</td>\n",
              "      <td>132.90</td>\n",
              "      <td>1326.0</td>\n",
              "      <td>0.08474</td>\n",
              "      <td>0.07864</td>\n",
              "      <td>0.0869</td>\n",
              "      <td>0.07017</td>\n",
              "      <td>0.1812</td>\n",
              "      <td>0.05667</td>\n",
              "      <td>...</td>\n",
              "      <td>23.41</td>\n",
              "      <td>158.80</td>\n",
              "      <td>1956.0</td>\n",
              "      <td>0.1238</td>\n",
              "      <td>0.1866</td>\n",
              "      <td>0.2416</td>\n",
              "      <td>0.1860</td>\n",
              "      <td>0.2750</td>\n",
              "      <td>0.08902</td>\n",
              "      <td>0</td>\n",
              "    </tr>\n",
              "    <tr>\n",
              "      <th>2</th>\n",
              "      <td>19.69</td>\n",
              "      <td>21.25</td>\n",
              "      <td>130.00</td>\n",
              "      <td>1203.0</td>\n",
              "      <td>0.10960</td>\n",
              "      <td>0.15990</td>\n",
              "      <td>0.1974</td>\n",
              "      <td>0.12790</td>\n",
              "      <td>0.2069</td>\n",
              "      <td>0.05999</td>\n",
              "      <td>...</td>\n",
              "      <td>25.53</td>\n",
              "      <td>152.50</td>\n",
              "      <td>1709.0</td>\n",
              "      <td>0.1444</td>\n",
              "      <td>0.4245</td>\n",
              "      <td>0.4504</td>\n",
              "      <td>0.2430</td>\n",
              "      <td>0.3613</td>\n",
              "      <td>0.08758</td>\n",
              "      <td>0</td>\n",
              "    </tr>\n",
              "    <tr>\n",
              "      <th>3</th>\n",
              "      <td>11.42</td>\n",
              "      <td>20.38</td>\n",
              "      <td>77.58</td>\n",
              "      <td>386.1</td>\n",
              "      <td>0.14250</td>\n",
              "      <td>0.28390</td>\n",
              "      <td>0.2414</td>\n",
              "      <td>0.10520</td>\n",
              "      <td>0.2597</td>\n",
              "      <td>0.09744</td>\n",
              "      <td>...</td>\n",
              "      <td>26.50</td>\n",
              "      <td>98.87</td>\n",
              "      <td>567.7</td>\n",
              "      <td>0.2098</td>\n",
              "      <td>0.8663</td>\n",
              "      <td>0.6869</td>\n",
              "      <td>0.2575</td>\n",
              "      <td>0.6638</td>\n",
              "      <td>0.17300</td>\n",
              "      <td>0</td>\n",
              "    </tr>\n",
              "    <tr>\n",
              "      <th>4</th>\n",
              "      <td>20.29</td>\n",
              "      <td>14.34</td>\n",
              "      <td>135.10</td>\n",
              "      <td>1297.0</td>\n",
              "      <td>0.10030</td>\n",
              "      <td>0.13280</td>\n",
              "      <td>0.1980</td>\n",
              "      <td>0.10430</td>\n",
              "      <td>0.1809</td>\n",
              "      <td>0.05883</td>\n",
              "      <td>...</td>\n",
              "      <td>16.67</td>\n",
              "      <td>152.20</td>\n",
              "      <td>1575.0</td>\n",
              "      <td>0.1374</td>\n",
              "      <td>0.2050</td>\n",
              "      <td>0.4000</td>\n",
              "      <td>0.1625</td>\n",
              "      <td>0.2364</td>\n",
              "      <td>0.07678</td>\n",
              "      <td>0</td>\n",
              "    </tr>\n",
              "  </tbody>\n",
              "</table>\n",
              "<p>5 rows × 31 columns</p>\n",
              "</div>\n",
              "    <div class=\"colab-df-buttons\">\n",
              "\n",
              "  <div class=\"colab-df-container\">\n",
              "    <button class=\"colab-df-convert\" onclick=\"convertToInteractive('df-be47e027-29d6-43b7-9142-ffbc4f2263ab')\"\n",
              "            title=\"Convert this dataframe to an interactive table.\"\n",
              "            style=\"display:none;\">\n",
              "\n",
              "  <svg xmlns=\"http://www.w3.org/2000/svg\" height=\"24px\" viewBox=\"0 -960 960 960\">\n",
              "    <path d=\"M120-120v-720h720v720H120Zm60-500h600v-160H180v160Zm220 220h160v-160H400v160Zm0 220h160v-160H400v160ZM180-400h160v-160H180v160Zm440 0h160v-160H620v160ZM180-180h160v-160H180v160Zm440 0h160v-160H620v160Z\"/>\n",
              "  </svg>\n",
              "    </button>\n",
              "\n",
              "  <style>\n",
              "    .colab-df-container {\n",
              "      display:flex;\n",
              "      gap: 12px;\n",
              "    }\n",
              "\n",
              "    .colab-df-convert {\n",
              "      background-color: #E8F0FE;\n",
              "      border: none;\n",
              "      border-radius: 50%;\n",
              "      cursor: pointer;\n",
              "      display: none;\n",
              "      fill: #1967D2;\n",
              "      height: 32px;\n",
              "      padding: 0 0 0 0;\n",
              "      width: 32px;\n",
              "    }\n",
              "\n",
              "    .colab-df-convert:hover {\n",
              "      background-color: #E2EBFA;\n",
              "      box-shadow: 0px 1px 2px rgba(60, 64, 67, 0.3), 0px 1px 3px 1px rgba(60, 64, 67, 0.15);\n",
              "      fill: #174EA6;\n",
              "    }\n",
              "\n",
              "    .colab-df-buttons div {\n",
              "      margin-bottom: 4px;\n",
              "    }\n",
              "\n",
              "    [theme=dark] .colab-df-convert {\n",
              "      background-color: #3B4455;\n",
              "      fill: #D2E3FC;\n",
              "    }\n",
              "\n",
              "    [theme=dark] .colab-df-convert:hover {\n",
              "      background-color: #434B5C;\n",
              "      box-shadow: 0px 1px 3px 1px rgba(0, 0, 0, 0.15);\n",
              "      filter: drop-shadow(0px 1px 2px rgba(0, 0, 0, 0.3));\n",
              "      fill: #FFFFFF;\n",
              "    }\n",
              "  </style>\n",
              "\n",
              "    <script>\n",
              "      const buttonEl =\n",
              "        document.querySelector('#df-be47e027-29d6-43b7-9142-ffbc4f2263ab button.colab-df-convert');\n",
              "      buttonEl.style.display =\n",
              "        google.colab.kernel.accessAllowed ? 'block' : 'none';\n",
              "\n",
              "      async function convertToInteractive(key) {\n",
              "        const element = document.querySelector('#df-be47e027-29d6-43b7-9142-ffbc4f2263ab');\n",
              "        const dataTable =\n",
              "          await google.colab.kernel.invokeFunction('convertToInteractive',\n",
              "                                                    [key], {});\n",
              "        if (!dataTable) return;\n",
              "\n",
              "        const docLinkHtml = 'Like what you see? Visit the ' +\n",
              "          '<a target=\"_blank\" href=https://colab.research.google.com/notebooks/data_table.ipynb>data table notebook</a>'\n",
              "          + ' to learn more about interactive tables.';\n",
              "        element.innerHTML = '';\n",
              "        dataTable['output_type'] = 'display_data';\n",
              "        await google.colab.output.renderOutput(dataTable, element);\n",
              "        const docLink = document.createElement('div');\n",
              "        docLink.innerHTML = docLinkHtml;\n",
              "        element.appendChild(docLink);\n",
              "      }\n",
              "    </script>\n",
              "  </div>\n",
              "\n",
              "\n",
              "<div id=\"df-fb4e90b6-ff92-4853-9ae6-69b4551018d6\">\n",
              "  <button class=\"colab-df-quickchart\" onclick=\"quickchart('df-fb4e90b6-ff92-4853-9ae6-69b4551018d6')\"\n",
              "            title=\"Suggest charts\"\n",
              "            style=\"display:none;\">\n",
              "\n",
              "<svg xmlns=\"http://www.w3.org/2000/svg\" height=\"24px\"viewBox=\"0 0 24 24\"\n",
              "     width=\"24px\">\n",
              "    <g>\n",
              "        <path d=\"M19 3H5c-1.1 0-2 .9-2 2v14c0 1.1.9 2 2 2h14c1.1 0 2-.9 2-2V5c0-1.1-.9-2-2-2zM9 17H7v-7h2v7zm4 0h-2V7h2v10zm4 0h-2v-4h2v4z\"/>\n",
              "    </g>\n",
              "</svg>\n",
              "  </button>\n",
              "\n",
              "<style>\n",
              "  .colab-df-quickchart {\n",
              "      --bg-color: #E8F0FE;\n",
              "      --fill-color: #1967D2;\n",
              "      --hover-bg-color: #E2EBFA;\n",
              "      --hover-fill-color: #174EA6;\n",
              "      --disabled-fill-color: #AAA;\n",
              "      --disabled-bg-color: #DDD;\n",
              "  }\n",
              "\n",
              "  [theme=dark] .colab-df-quickchart {\n",
              "      --bg-color: #3B4455;\n",
              "      --fill-color: #D2E3FC;\n",
              "      --hover-bg-color: #434B5C;\n",
              "      --hover-fill-color: #FFFFFF;\n",
              "      --disabled-bg-color: #3B4455;\n",
              "      --disabled-fill-color: #666;\n",
              "  }\n",
              "\n",
              "  .colab-df-quickchart {\n",
              "    background-color: var(--bg-color);\n",
              "    border: none;\n",
              "    border-radius: 50%;\n",
              "    cursor: pointer;\n",
              "    display: none;\n",
              "    fill: var(--fill-color);\n",
              "    height: 32px;\n",
              "    padding: 0;\n",
              "    width: 32px;\n",
              "  }\n",
              "\n",
              "  .colab-df-quickchart:hover {\n",
              "    background-color: var(--hover-bg-color);\n",
              "    box-shadow: 0 1px 2px rgba(60, 64, 67, 0.3), 0 1px 3px 1px rgba(60, 64, 67, 0.15);\n",
              "    fill: var(--button-hover-fill-color);\n",
              "  }\n",
              "\n",
              "  .colab-df-quickchart-complete:disabled,\n",
              "  .colab-df-quickchart-complete:disabled:hover {\n",
              "    background-color: var(--disabled-bg-color);\n",
              "    fill: var(--disabled-fill-color);\n",
              "    box-shadow: none;\n",
              "  }\n",
              "\n",
              "  .colab-df-spinner {\n",
              "    border: 2px solid var(--fill-color);\n",
              "    border-color: transparent;\n",
              "    border-bottom-color: var(--fill-color);\n",
              "    animation:\n",
              "      spin 1s steps(1) infinite;\n",
              "  }\n",
              "\n",
              "  @keyframes spin {\n",
              "    0% {\n",
              "      border-color: transparent;\n",
              "      border-bottom-color: var(--fill-color);\n",
              "      border-left-color: var(--fill-color);\n",
              "    }\n",
              "    20% {\n",
              "      border-color: transparent;\n",
              "      border-left-color: var(--fill-color);\n",
              "      border-top-color: var(--fill-color);\n",
              "    }\n",
              "    30% {\n",
              "      border-color: transparent;\n",
              "      border-left-color: var(--fill-color);\n",
              "      border-top-color: var(--fill-color);\n",
              "      border-right-color: var(--fill-color);\n",
              "    }\n",
              "    40% {\n",
              "      border-color: transparent;\n",
              "      border-right-color: var(--fill-color);\n",
              "      border-top-color: var(--fill-color);\n",
              "    }\n",
              "    60% {\n",
              "      border-color: transparent;\n",
              "      border-right-color: var(--fill-color);\n",
              "    }\n",
              "    80% {\n",
              "      border-color: transparent;\n",
              "      border-right-color: var(--fill-color);\n",
              "      border-bottom-color: var(--fill-color);\n",
              "    }\n",
              "    90% {\n",
              "      border-color: transparent;\n",
              "      border-bottom-color: var(--fill-color);\n",
              "    }\n",
              "  }\n",
              "</style>\n",
              "\n",
              "  <script>\n",
              "    async function quickchart(key) {\n",
              "      const quickchartButtonEl =\n",
              "        document.querySelector('#' + key + ' button');\n",
              "      quickchartButtonEl.disabled = true;  // To prevent multiple clicks.\n",
              "      quickchartButtonEl.classList.add('colab-df-spinner');\n",
              "      try {\n",
              "        const charts = await google.colab.kernel.invokeFunction(\n",
              "            'suggestCharts', [key], {});\n",
              "      } catch (error) {\n",
              "        console.error('Error during call to suggestCharts:', error);\n",
              "      }\n",
              "      quickchartButtonEl.classList.remove('colab-df-spinner');\n",
              "      quickchartButtonEl.classList.add('colab-df-quickchart-complete');\n",
              "    }\n",
              "    (() => {\n",
              "      let quickchartButtonEl =\n",
              "        document.querySelector('#df-fb4e90b6-ff92-4853-9ae6-69b4551018d6 button');\n",
              "      quickchartButtonEl.style.display =\n",
              "        google.colab.kernel.accessAllowed ? 'block' : 'none';\n",
              "    })();\n",
              "  </script>\n",
              "</div>\n",
              "    </div>\n",
              "  </div>\n"
            ],
            "application/vnd.google.colaboratory.intrinsic+json": {
              "type": "dataframe",
              "variable_name": "df"
            }
          },
          "metadata": {},
          "execution_count": 4
        }
      ],
      "source": [
        "df = pd.DataFrame(cancer['data'], columns = cancer['feature_names'])\n",
        "df['target'] = cancer['target']\n",
        "df.head()"
      ]
    },
    {
      "cell_type": "markdown",
      "source": [
        "Estos datos constan de 569 observaciones y 31 variables. Éstas constan de la media, desviación estándar y peor medida de la textura, perímetro, simetría, concavidad.."
      ],
      "metadata": {
        "id": "QMr7MxvBl6qD"
      }
    },
    {
      "cell_type": "code",
      "execution_count": null,
      "metadata": {
        "colab": {
          "base_uri": "https://localhost:8080/"
        },
        "id": "v4_gihWqG8ot",
        "outputId": "765b9885-ed95-42ca-8aba-a2d44943509d"
      },
      "outputs": [
        {
          "output_type": "execute_result",
          "data": {
            "text/plain": [
              "(569, 31)"
            ]
          },
          "metadata": {},
          "execution_count": 5
        }
      ],
      "source": [
        "df.shape"
      ]
    },
    {
      "cell_type": "code",
      "source": [
        "df.describe()"
      ],
      "metadata": {
        "colab": {
          "base_uri": "https://localhost:8080/",
          "height": 384
        },
        "id": "qhXC9OUIYfVY",
        "outputId": "e7d92124-e216-45e6-89b0-2953ac8fc0f0"
      },
      "execution_count": null,
      "outputs": [
        {
          "output_type": "execute_result",
          "data": {
            "text/plain": [
              "       mean radius  mean texture  mean perimeter    mean area  \\\n",
              "count   569.000000    569.000000      569.000000   569.000000   \n",
              "mean     14.127292     19.289649       91.969033   654.889104   \n",
              "std       3.524049      4.301036       24.298981   351.914129   \n",
              "min       6.981000      9.710000       43.790000   143.500000   \n",
              "25%      11.700000     16.170000       75.170000   420.300000   \n",
              "50%      13.370000     18.840000       86.240000   551.100000   \n",
              "75%      15.780000     21.800000      104.100000   782.700000   \n",
              "max      28.110000     39.280000      188.500000  2501.000000   \n",
              "\n",
              "       mean smoothness  mean compactness  mean concavity  mean concave points  \\\n",
              "count       569.000000        569.000000      569.000000           569.000000   \n",
              "mean          0.096360          0.104341        0.088799             0.048919   \n",
              "std           0.014064          0.052813        0.079720             0.038803   \n",
              "min           0.052630          0.019380        0.000000             0.000000   \n",
              "25%           0.086370          0.064920        0.029560             0.020310   \n",
              "50%           0.095870          0.092630        0.061540             0.033500   \n",
              "75%           0.105300          0.130400        0.130700             0.074000   \n",
              "max           0.163400          0.345400        0.426800             0.201200   \n",
              "\n",
              "       mean symmetry  mean fractal dimension  ...  worst texture  \\\n",
              "count     569.000000              569.000000  ...     569.000000   \n",
              "mean        0.181162                0.062798  ...      25.677223   \n",
              "std         0.027414                0.007060  ...       6.146258   \n",
              "min         0.106000                0.049960  ...      12.020000   \n",
              "25%         0.161900                0.057700  ...      21.080000   \n",
              "50%         0.179200                0.061540  ...      25.410000   \n",
              "75%         0.195700                0.066120  ...      29.720000   \n",
              "max         0.304000                0.097440  ...      49.540000   \n",
              "\n",
              "       worst perimeter   worst area  worst smoothness  worst compactness  \\\n",
              "count       569.000000   569.000000        569.000000         569.000000   \n",
              "mean        107.261213   880.583128          0.132369           0.254265   \n",
              "std          33.602542   569.356993          0.022832           0.157336   \n",
              "min          50.410000   185.200000          0.071170           0.027290   \n",
              "25%          84.110000   515.300000          0.116600           0.147200   \n",
              "50%          97.660000   686.500000          0.131300           0.211900   \n",
              "75%         125.400000  1084.000000          0.146000           0.339100   \n",
              "max         251.200000  4254.000000          0.222600           1.058000   \n",
              "\n",
              "       worst concavity  worst concave points  worst symmetry  \\\n",
              "count       569.000000            569.000000      569.000000   \n",
              "mean          0.272188              0.114606        0.290076   \n",
              "std           0.208624              0.065732        0.061867   \n",
              "min           0.000000              0.000000        0.156500   \n",
              "25%           0.114500              0.064930        0.250400   \n",
              "50%           0.226700              0.099930        0.282200   \n",
              "75%           0.382900              0.161400        0.317900   \n",
              "max           1.252000              0.291000        0.663800   \n",
              "\n",
              "       worst fractal dimension      target  \n",
              "count               569.000000  569.000000  \n",
              "mean                  0.083946    0.627417  \n",
              "std                   0.018061    0.483918  \n",
              "min                   0.055040    0.000000  \n",
              "25%                   0.071460    0.000000  \n",
              "50%                   0.080040    1.000000  \n",
              "75%                   0.092080    1.000000  \n",
              "max                   0.207500    1.000000  \n",
              "\n",
              "[8 rows x 31 columns]"
            ],
            "text/html": [
              "\n",
              "  <div id=\"df-a98c63b5-f088-46c8-aad9-4d08c8d47e4c\" class=\"colab-df-container\">\n",
              "    <div>\n",
              "<style scoped>\n",
              "    .dataframe tbody tr th:only-of-type {\n",
              "        vertical-align: middle;\n",
              "    }\n",
              "\n",
              "    .dataframe tbody tr th {\n",
              "        vertical-align: top;\n",
              "    }\n",
              "\n",
              "    .dataframe thead th {\n",
              "        text-align: right;\n",
              "    }\n",
              "</style>\n",
              "<table border=\"1\" class=\"dataframe\">\n",
              "  <thead>\n",
              "    <tr style=\"text-align: right;\">\n",
              "      <th></th>\n",
              "      <th>mean radius</th>\n",
              "      <th>mean texture</th>\n",
              "      <th>mean perimeter</th>\n",
              "      <th>mean area</th>\n",
              "      <th>mean smoothness</th>\n",
              "      <th>mean compactness</th>\n",
              "      <th>mean concavity</th>\n",
              "      <th>mean concave points</th>\n",
              "      <th>mean symmetry</th>\n",
              "      <th>mean fractal dimension</th>\n",
              "      <th>...</th>\n",
              "      <th>worst texture</th>\n",
              "      <th>worst perimeter</th>\n",
              "      <th>worst area</th>\n",
              "      <th>worst smoothness</th>\n",
              "      <th>worst compactness</th>\n",
              "      <th>worst concavity</th>\n",
              "      <th>worst concave points</th>\n",
              "      <th>worst symmetry</th>\n",
              "      <th>worst fractal dimension</th>\n",
              "      <th>target</th>\n",
              "    </tr>\n",
              "  </thead>\n",
              "  <tbody>\n",
              "    <tr>\n",
              "      <th>count</th>\n",
              "      <td>569.000000</td>\n",
              "      <td>569.000000</td>\n",
              "      <td>569.000000</td>\n",
              "      <td>569.000000</td>\n",
              "      <td>569.000000</td>\n",
              "      <td>569.000000</td>\n",
              "      <td>569.000000</td>\n",
              "      <td>569.000000</td>\n",
              "      <td>569.000000</td>\n",
              "      <td>569.000000</td>\n",
              "      <td>...</td>\n",
              "      <td>569.000000</td>\n",
              "      <td>569.000000</td>\n",
              "      <td>569.000000</td>\n",
              "      <td>569.000000</td>\n",
              "      <td>569.000000</td>\n",
              "      <td>569.000000</td>\n",
              "      <td>569.000000</td>\n",
              "      <td>569.000000</td>\n",
              "      <td>569.000000</td>\n",
              "      <td>569.000000</td>\n",
              "    </tr>\n",
              "    <tr>\n",
              "      <th>mean</th>\n",
              "      <td>14.127292</td>\n",
              "      <td>19.289649</td>\n",
              "      <td>91.969033</td>\n",
              "      <td>654.889104</td>\n",
              "      <td>0.096360</td>\n",
              "      <td>0.104341</td>\n",
              "      <td>0.088799</td>\n",
              "      <td>0.048919</td>\n",
              "      <td>0.181162</td>\n",
              "      <td>0.062798</td>\n",
              "      <td>...</td>\n",
              "      <td>25.677223</td>\n",
              "      <td>107.261213</td>\n",
              "      <td>880.583128</td>\n",
              "      <td>0.132369</td>\n",
              "      <td>0.254265</td>\n",
              "      <td>0.272188</td>\n",
              "      <td>0.114606</td>\n",
              "      <td>0.290076</td>\n",
              "      <td>0.083946</td>\n",
              "      <td>0.627417</td>\n",
              "    </tr>\n",
              "    <tr>\n",
              "      <th>std</th>\n",
              "      <td>3.524049</td>\n",
              "      <td>4.301036</td>\n",
              "      <td>24.298981</td>\n",
              "      <td>351.914129</td>\n",
              "      <td>0.014064</td>\n",
              "      <td>0.052813</td>\n",
              "      <td>0.079720</td>\n",
              "      <td>0.038803</td>\n",
              "      <td>0.027414</td>\n",
              "      <td>0.007060</td>\n",
              "      <td>...</td>\n",
              "      <td>6.146258</td>\n",
              "      <td>33.602542</td>\n",
              "      <td>569.356993</td>\n",
              "      <td>0.022832</td>\n",
              "      <td>0.157336</td>\n",
              "      <td>0.208624</td>\n",
              "      <td>0.065732</td>\n",
              "      <td>0.061867</td>\n",
              "      <td>0.018061</td>\n",
              "      <td>0.483918</td>\n",
              "    </tr>\n",
              "    <tr>\n",
              "      <th>min</th>\n",
              "      <td>6.981000</td>\n",
              "      <td>9.710000</td>\n",
              "      <td>43.790000</td>\n",
              "      <td>143.500000</td>\n",
              "      <td>0.052630</td>\n",
              "      <td>0.019380</td>\n",
              "      <td>0.000000</td>\n",
              "      <td>0.000000</td>\n",
              "      <td>0.106000</td>\n",
              "      <td>0.049960</td>\n",
              "      <td>...</td>\n",
              "      <td>12.020000</td>\n",
              "      <td>50.410000</td>\n",
              "      <td>185.200000</td>\n",
              "      <td>0.071170</td>\n",
              "      <td>0.027290</td>\n",
              "      <td>0.000000</td>\n",
              "      <td>0.000000</td>\n",
              "      <td>0.156500</td>\n",
              "      <td>0.055040</td>\n",
              "      <td>0.000000</td>\n",
              "    </tr>\n",
              "    <tr>\n",
              "      <th>25%</th>\n",
              "      <td>11.700000</td>\n",
              "      <td>16.170000</td>\n",
              "      <td>75.170000</td>\n",
              "      <td>420.300000</td>\n",
              "      <td>0.086370</td>\n",
              "      <td>0.064920</td>\n",
              "      <td>0.029560</td>\n",
              "      <td>0.020310</td>\n",
              "      <td>0.161900</td>\n",
              "      <td>0.057700</td>\n",
              "      <td>...</td>\n",
              "      <td>21.080000</td>\n",
              "      <td>84.110000</td>\n",
              "      <td>515.300000</td>\n",
              "      <td>0.116600</td>\n",
              "      <td>0.147200</td>\n",
              "      <td>0.114500</td>\n",
              "      <td>0.064930</td>\n",
              "      <td>0.250400</td>\n",
              "      <td>0.071460</td>\n",
              "      <td>0.000000</td>\n",
              "    </tr>\n",
              "    <tr>\n",
              "      <th>50%</th>\n",
              "      <td>13.370000</td>\n",
              "      <td>18.840000</td>\n",
              "      <td>86.240000</td>\n",
              "      <td>551.100000</td>\n",
              "      <td>0.095870</td>\n",
              "      <td>0.092630</td>\n",
              "      <td>0.061540</td>\n",
              "      <td>0.033500</td>\n",
              "      <td>0.179200</td>\n",
              "      <td>0.061540</td>\n",
              "      <td>...</td>\n",
              "      <td>25.410000</td>\n",
              "      <td>97.660000</td>\n",
              "      <td>686.500000</td>\n",
              "      <td>0.131300</td>\n",
              "      <td>0.211900</td>\n",
              "      <td>0.226700</td>\n",
              "      <td>0.099930</td>\n",
              "      <td>0.282200</td>\n",
              "      <td>0.080040</td>\n",
              "      <td>1.000000</td>\n",
              "    </tr>\n",
              "    <tr>\n",
              "      <th>75%</th>\n",
              "      <td>15.780000</td>\n",
              "      <td>21.800000</td>\n",
              "      <td>104.100000</td>\n",
              "      <td>782.700000</td>\n",
              "      <td>0.105300</td>\n",
              "      <td>0.130400</td>\n",
              "      <td>0.130700</td>\n",
              "      <td>0.074000</td>\n",
              "      <td>0.195700</td>\n",
              "      <td>0.066120</td>\n",
              "      <td>...</td>\n",
              "      <td>29.720000</td>\n",
              "      <td>125.400000</td>\n",
              "      <td>1084.000000</td>\n",
              "      <td>0.146000</td>\n",
              "      <td>0.339100</td>\n",
              "      <td>0.382900</td>\n",
              "      <td>0.161400</td>\n",
              "      <td>0.317900</td>\n",
              "      <td>0.092080</td>\n",
              "      <td>1.000000</td>\n",
              "    </tr>\n",
              "    <tr>\n",
              "      <th>max</th>\n",
              "      <td>28.110000</td>\n",
              "      <td>39.280000</td>\n",
              "      <td>188.500000</td>\n",
              "      <td>2501.000000</td>\n",
              "      <td>0.163400</td>\n",
              "      <td>0.345400</td>\n",
              "      <td>0.426800</td>\n",
              "      <td>0.201200</td>\n",
              "      <td>0.304000</td>\n",
              "      <td>0.097440</td>\n",
              "      <td>...</td>\n",
              "      <td>49.540000</td>\n",
              "      <td>251.200000</td>\n",
              "      <td>4254.000000</td>\n",
              "      <td>0.222600</td>\n",
              "      <td>1.058000</td>\n",
              "      <td>1.252000</td>\n",
              "      <td>0.291000</td>\n",
              "      <td>0.663800</td>\n",
              "      <td>0.207500</td>\n",
              "      <td>1.000000</td>\n",
              "    </tr>\n",
              "  </tbody>\n",
              "</table>\n",
              "<p>8 rows × 31 columns</p>\n",
              "</div>\n",
              "    <div class=\"colab-df-buttons\">\n",
              "\n",
              "  <div class=\"colab-df-container\">\n",
              "    <button class=\"colab-df-convert\" onclick=\"convertToInteractive('df-a98c63b5-f088-46c8-aad9-4d08c8d47e4c')\"\n",
              "            title=\"Convert this dataframe to an interactive table.\"\n",
              "            style=\"display:none;\">\n",
              "\n",
              "  <svg xmlns=\"http://www.w3.org/2000/svg\" height=\"24px\" viewBox=\"0 -960 960 960\">\n",
              "    <path d=\"M120-120v-720h720v720H120Zm60-500h600v-160H180v160Zm220 220h160v-160H400v160Zm0 220h160v-160H400v160ZM180-400h160v-160H180v160Zm440 0h160v-160H620v160ZM180-180h160v-160H180v160Zm440 0h160v-160H620v160Z\"/>\n",
              "  </svg>\n",
              "    </button>\n",
              "\n",
              "  <style>\n",
              "    .colab-df-container {\n",
              "      display:flex;\n",
              "      gap: 12px;\n",
              "    }\n",
              "\n",
              "    .colab-df-convert {\n",
              "      background-color: #E8F0FE;\n",
              "      border: none;\n",
              "      border-radius: 50%;\n",
              "      cursor: pointer;\n",
              "      display: none;\n",
              "      fill: #1967D2;\n",
              "      height: 32px;\n",
              "      padding: 0 0 0 0;\n",
              "      width: 32px;\n",
              "    }\n",
              "\n",
              "    .colab-df-convert:hover {\n",
              "      background-color: #E2EBFA;\n",
              "      box-shadow: 0px 1px 2px rgba(60, 64, 67, 0.3), 0px 1px 3px 1px rgba(60, 64, 67, 0.15);\n",
              "      fill: #174EA6;\n",
              "    }\n",
              "\n",
              "    .colab-df-buttons div {\n",
              "      margin-bottom: 4px;\n",
              "    }\n",
              "\n",
              "    [theme=dark] .colab-df-convert {\n",
              "      background-color: #3B4455;\n",
              "      fill: #D2E3FC;\n",
              "    }\n",
              "\n",
              "    [theme=dark] .colab-df-convert:hover {\n",
              "      background-color: #434B5C;\n",
              "      box-shadow: 0px 1px 3px 1px rgba(0, 0, 0, 0.15);\n",
              "      filter: drop-shadow(0px 1px 2px rgba(0, 0, 0, 0.3));\n",
              "      fill: #FFFFFF;\n",
              "    }\n",
              "  </style>\n",
              "\n",
              "    <script>\n",
              "      const buttonEl =\n",
              "        document.querySelector('#df-a98c63b5-f088-46c8-aad9-4d08c8d47e4c button.colab-df-convert');\n",
              "      buttonEl.style.display =\n",
              "        google.colab.kernel.accessAllowed ? 'block' : 'none';\n",
              "\n",
              "      async function convertToInteractive(key) {\n",
              "        const element = document.querySelector('#df-a98c63b5-f088-46c8-aad9-4d08c8d47e4c');\n",
              "        const dataTable =\n",
              "          await google.colab.kernel.invokeFunction('convertToInteractive',\n",
              "                                                    [key], {});\n",
              "        if (!dataTable) return;\n",
              "\n",
              "        const docLinkHtml = 'Like what you see? Visit the ' +\n",
              "          '<a target=\"_blank\" href=https://colab.research.google.com/notebooks/data_table.ipynb>data table notebook</a>'\n",
              "          + ' to learn more about interactive tables.';\n",
              "        element.innerHTML = '';\n",
              "        dataTable['output_type'] = 'display_data';\n",
              "        await google.colab.output.renderOutput(dataTable, element);\n",
              "        const docLink = document.createElement('div');\n",
              "        docLink.innerHTML = docLinkHtml;\n",
              "        element.appendChild(docLink);\n",
              "      }\n",
              "    </script>\n",
              "  </div>\n",
              "\n",
              "\n",
              "<div id=\"df-ae17da7b-f381-4f01-a1ba-abb8193f06d3\">\n",
              "  <button class=\"colab-df-quickchart\" onclick=\"quickchart('df-ae17da7b-f381-4f01-a1ba-abb8193f06d3')\"\n",
              "            title=\"Suggest charts\"\n",
              "            style=\"display:none;\">\n",
              "\n",
              "<svg xmlns=\"http://www.w3.org/2000/svg\" height=\"24px\"viewBox=\"0 0 24 24\"\n",
              "     width=\"24px\">\n",
              "    <g>\n",
              "        <path d=\"M19 3H5c-1.1 0-2 .9-2 2v14c0 1.1.9 2 2 2h14c1.1 0 2-.9 2-2V5c0-1.1-.9-2-2-2zM9 17H7v-7h2v7zm4 0h-2V7h2v10zm4 0h-2v-4h2v4z\"/>\n",
              "    </g>\n",
              "</svg>\n",
              "  </button>\n",
              "\n",
              "<style>\n",
              "  .colab-df-quickchart {\n",
              "      --bg-color: #E8F0FE;\n",
              "      --fill-color: #1967D2;\n",
              "      --hover-bg-color: #E2EBFA;\n",
              "      --hover-fill-color: #174EA6;\n",
              "      --disabled-fill-color: #AAA;\n",
              "      --disabled-bg-color: #DDD;\n",
              "  }\n",
              "\n",
              "  [theme=dark] .colab-df-quickchart {\n",
              "      --bg-color: #3B4455;\n",
              "      --fill-color: #D2E3FC;\n",
              "      --hover-bg-color: #434B5C;\n",
              "      --hover-fill-color: #FFFFFF;\n",
              "      --disabled-bg-color: #3B4455;\n",
              "      --disabled-fill-color: #666;\n",
              "  }\n",
              "\n",
              "  .colab-df-quickchart {\n",
              "    background-color: var(--bg-color);\n",
              "    border: none;\n",
              "    border-radius: 50%;\n",
              "    cursor: pointer;\n",
              "    display: none;\n",
              "    fill: var(--fill-color);\n",
              "    height: 32px;\n",
              "    padding: 0;\n",
              "    width: 32px;\n",
              "  }\n",
              "\n",
              "  .colab-df-quickchart:hover {\n",
              "    background-color: var(--hover-bg-color);\n",
              "    box-shadow: 0 1px 2px rgba(60, 64, 67, 0.3), 0 1px 3px 1px rgba(60, 64, 67, 0.15);\n",
              "    fill: var(--button-hover-fill-color);\n",
              "  }\n",
              "\n",
              "  .colab-df-quickchart-complete:disabled,\n",
              "  .colab-df-quickchart-complete:disabled:hover {\n",
              "    background-color: var(--disabled-bg-color);\n",
              "    fill: var(--disabled-fill-color);\n",
              "    box-shadow: none;\n",
              "  }\n",
              "\n",
              "  .colab-df-spinner {\n",
              "    border: 2px solid var(--fill-color);\n",
              "    border-color: transparent;\n",
              "    border-bottom-color: var(--fill-color);\n",
              "    animation:\n",
              "      spin 1s steps(1) infinite;\n",
              "  }\n",
              "\n",
              "  @keyframes spin {\n",
              "    0% {\n",
              "      border-color: transparent;\n",
              "      border-bottom-color: var(--fill-color);\n",
              "      border-left-color: var(--fill-color);\n",
              "    }\n",
              "    20% {\n",
              "      border-color: transparent;\n",
              "      border-left-color: var(--fill-color);\n",
              "      border-top-color: var(--fill-color);\n",
              "    }\n",
              "    30% {\n",
              "      border-color: transparent;\n",
              "      border-left-color: var(--fill-color);\n",
              "      border-top-color: var(--fill-color);\n",
              "      border-right-color: var(--fill-color);\n",
              "    }\n",
              "    40% {\n",
              "      border-color: transparent;\n",
              "      border-right-color: var(--fill-color);\n",
              "      border-top-color: var(--fill-color);\n",
              "    }\n",
              "    60% {\n",
              "      border-color: transparent;\n",
              "      border-right-color: var(--fill-color);\n",
              "    }\n",
              "    80% {\n",
              "      border-color: transparent;\n",
              "      border-right-color: var(--fill-color);\n",
              "      border-bottom-color: var(--fill-color);\n",
              "    }\n",
              "    90% {\n",
              "      border-color: transparent;\n",
              "      border-bottom-color: var(--fill-color);\n",
              "    }\n",
              "  }\n",
              "</style>\n",
              "\n",
              "  <script>\n",
              "    async function quickchart(key) {\n",
              "      const quickchartButtonEl =\n",
              "        document.querySelector('#' + key + ' button');\n",
              "      quickchartButtonEl.disabled = true;  // To prevent multiple clicks.\n",
              "      quickchartButtonEl.classList.add('colab-df-spinner');\n",
              "      try {\n",
              "        const charts = await google.colab.kernel.invokeFunction(\n",
              "            'suggestCharts', [key], {});\n",
              "      } catch (error) {\n",
              "        console.error('Error during call to suggestCharts:', error);\n",
              "      }\n",
              "      quickchartButtonEl.classList.remove('colab-df-spinner');\n",
              "      quickchartButtonEl.classList.add('colab-df-quickchart-complete');\n",
              "    }\n",
              "    (() => {\n",
              "      let quickchartButtonEl =\n",
              "        document.querySelector('#df-ae17da7b-f381-4f01-a1ba-abb8193f06d3 button');\n",
              "      quickchartButtonEl.style.display =\n",
              "        google.colab.kernel.accessAllowed ? 'block' : 'none';\n",
              "    })();\n",
              "  </script>\n",
              "</div>\n",
              "    </div>\n",
              "  </div>\n"
            ],
            "application/vnd.google.colaboratory.intrinsic+json": {
              "type": "dataframe"
            }
          },
          "metadata": {},
          "execution_count": 6
        }
      ]
    },
    {
      "cell_type": "code",
      "source": [
        "df.columns"
      ],
      "metadata": {
        "colab": {
          "base_uri": "https://localhost:8080/"
        },
        "id": "2InJjV1OYkFp",
        "outputId": "640769a1-d5cc-4dcf-d88e-9408e57a4479"
      },
      "execution_count": null,
      "outputs": [
        {
          "output_type": "execute_result",
          "data": {
            "text/plain": [
              "Index(['mean radius', 'mean texture', 'mean perimeter', 'mean area',\n",
              "       'mean smoothness', 'mean compactness', 'mean concavity',\n",
              "       'mean concave points', 'mean symmetry', 'mean fractal dimension',\n",
              "       'radius error', 'texture error', 'perimeter error', 'area error',\n",
              "       'smoothness error', 'compactness error', 'concavity error',\n",
              "       'concave points error', 'symmetry error', 'fractal dimension error',\n",
              "       'worst radius', 'worst texture', 'worst perimeter', 'worst area',\n",
              "       'worst smoothness', 'worst compactness', 'worst concavity',\n",
              "       'worst concave points', 'worst symmetry', 'worst fractal dimension',\n",
              "       'target'],\n",
              "      dtype='object')"
            ]
          },
          "metadata": {},
          "execution_count": 7
        }
      ]
    },
    {
      "cell_type": "markdown",
      "source": [
        "Ahora, vamos a separar nuestros datos en train y test para entrenar los modelos."
      ],
      "metadata": {
        "id": "3SCiHMdhnz7S"
      }
    },
    {
      "cell_type": "code",
      "source": [
        "train, test = train_test_split(df, test_size=0.2)\n",
        "\n",
        "test_target = test['target']\n",
        "test[['target']].to_csv('test-target.csv', index=False)\n",
        "del test['target']\n",
        "test.to_csv('test.csv', index=False)\n",
        "\n",
        "features = [x for x in list(train.columns) if x != 'target']\n",
        "x_raw = train[features]\n",
        "y_raw = train['target']\n",
        "\n",
        "x_train, x_test, y_train, y_test = train_test_split(x_raw, y_raw,\n",
        "                                                            test_size=.20,\n",
        "                                                            random_state=123,\n",
        "                                                            stratify=y_raw)"
      ],
      "metadata": {
        "id": "xcrsf9D2iqJA"
      },
      "execution_count": null,
      "outputs": []
    },
    {
      "cell_type": "markdown",
      "source": [
        "Vamos a probar con un modelo de **Random Forest** variando el número de estimadores."
      ],
      "metadata": {
        "id": "qvNBz9eVoFoG"
      }
    },
    {
      "cell_type": "code",
      "source": [
        "!pip install pyngrok"
      ],
      "metadata": {
        "colab": {
          "base_uri": "https://localhost:8080/"
        },
        "id": "ntC_thEqmhot",
        "outputId": "4d5a1815-1b05-4f07-b75c-c3a7ac81bce3"
      },
      "execution_count": null,
      "outputs": [
        {
          "output_type": "stream",
          "name": "stdout",
          "text": [
            "Requirement already satisfied: pyngrok in /usr/local/lib/python3.10/dist-packages (7.1.6)\n",
            "Requirement already satisfied: PyYAML>=5.1 in /usr/local/lib/python3.10/dist-packages (from pyngrok) (6.0.1)\n"
          ]
        }
      ]
    },
    {
      "cell_type": "code",
      "source": [
        "n_stimators = [2,10,20,30,50,80,100,130, 150, 200, 500]\n",
        "\n",
        "mlflow_ui_process = subprocess.Popen(['mlflow', 'ui', '--port', '5000'])\n",
        "\n",
        "mlflow.set_experiment('Pruebas Random Forest')\n",
        "\n",
        "for i in n_stimators:\n",
        "  with mlflow.start_run() as run:\n",
        "    clf = RandomForestClassifier(n_estimators=i,\n",
        "                                min_samples_leaf=2,\n",
        "                                class_weight='balanced',\n",
        "                                random_state=123)\n",
        "\n",
        "    preprocessor = Pipeline(steps=[('scaler', StandardScaler())])\n",
        "\n",
        "    model = Pipeline(steps=[('preprocessor', preprocessor),\n",
        "                              ('RandomForestClassifier', clf)])\n",
        "    model.fit(x_train, y_train)\n",
        "    accuracy_train = model.score(x_train, y_train)\n",
        "    accuracy_test = model.score(x_test, y_test)\n",
        "\n",
        "    mlflow.log_metric('accuracy_train', accuracy_train)\n",
        "    mlflow.log_metric('accuracy_test', accuracy_test)\n",
        "    mlflow.log_param('n_stimators', i)\n",
        "    mlflow.sklearn.log_model(model, 'clf-model')"
      ],
      "metadata": {
        "colab": {
          "base_uri": "https://localhost:8080/"
        },
        "id": "QnSbPxVENnGx",
        "outputId": "1566ff58-a8ae-475d-ab84-8c5896bcd738"
      },
      "execution_count": null,
      "outputs": [
        {
          "output_type": "stream",
          "name": "stderr",
          "text": [
            "2024/04/04 09:38:09 INFO mlflow.tracking.fluent: Experiment with name 'Pruebas Random Forest' does not exist. Creating a new experiment.\n"
          ]
        }
      ]
    },
    {
      "cell_type": "code",
      "source": [
        "from pyngrok import ngrok\n",
        "\n",
        "get_ipython().system_raw('mlflow ui --port 5000 &')\n",
        "\n",
        "ngrok.kill()\n",
        "\n",
        "NGROK_AUTH_TOKEN = '2eUstZyddZ4MiKuFDTOoWJxN5B5_5gGCJAjKEReCPAgstjtc3'\n",
        "ngrok.set_auth_token(NGROK_AUTH_TOKEN)\n",
        "\n",
        "ngrok_tunnel = ngrok.connect(addr='5000', proto='http', bind_tls =True)\n",
        "print('El tracking UI: ', ngrok_tunnel.public_url)"
      ],
      "metadata": {
        "colab": {
          "base_uri": "https://localhost:8080/"
        },
        "id": "zvv8WEt-eZIn",
        "outputId": "f6bb5fcf-7dcc-4ca7-c197-e183e3303827"
      },
      "execution_count": null,
      "outputs": [
        {
          "output_type": "stream",
          "name": "stdout",
          "text": [
            "El tracking UI:  https://351f-34-106-135-7.ngrok-free.app\n"
          ]
        }
      ]
    },
    {
      "cell_type": "markdown",
      "source": [
        "![random forest.png](data:image/png;base64,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)"
      ],
      "metadata": {
        "id": "OKCvjdhRjlgn"
      }
    },
    {
      "cell_type": "markdown",
      "source": [
        "En la imagen anterior, podemos observar como varía la accuracy en train y test en función del número de estimadores. Todos tienen una accuracy superior a 0.98 en train y 0.95 en test. Un dato peculiar es que utilizando 50, 80 o 200 estimadores las métricas son iguales.\n",
        "\n",
        "Ahora vamos a probar con un modelo de **Gradient Boosting** variando el número de estimadores y el learning rate."
      ],
      "metadata": {
        "id": "w9Om2qxeoSTJ"
      }
    },
    {
      "cell_type": "code",
      "source": [
        "n_stimators = [20,50,100,200]\n",
        "learning_rate = [0.01, 0.05, 0.1]\n",
        "\n",
        "mlflow_ui_process = subprocess.Popen(['mlflow', 'ui', '--port', '5000'])\n",
        "\n",
        "mlflow.set_experiment('Pruebas Gradient Boosting')\n",
        "\n",
        "for i in n_stimators:\n",
        "  for j in learning_rate:\n",
        "    with mlflow.start_run() as run:\n",
        "      gb = GradientBoostingClassifier(n_estimators=i, learning_rate=j, random_state=42)\n",
        "\n",
        "      preprocessor = Pipeline(steps=[('scaler', StandardScaler())])\n",
        "\n",
        "      model = Pipeline(steps=[('preprocessor', preprocessor),\n",
        "                              ('GradientBoostingClassifier', gb)])\n",
        "      model.fit(x_train, y_train)\n",
        "      accuracy_train = model.score(x_train, y_train)\n",
        "      accuracy_test = model.score(x_test, y_test)\n",
        "\n",
        "      mlflow.log_metric('accuracy_train', accuracy_train)\n",
        "      mlflow.log_metric('accuracy_test', accuracy_test)\n",
        "      mlflow.log_param('n_stimators', i)\n",
        "      mlflow.log_param('learning_rate', j)\n",
        "      mlflow.sklearn.log_model(model, 'gb')"
      ],
      "metadata": {
        "colab": {
          "base_uri": "https://localhost:8080/"
        },
        "id": "v1Zxo-8FHFv5",
        "outputId": "7d1dd87e-51d2-4a80-f7ab-e726cb679a60"
      },
      "execution_count": null,
      "outputs": [
        {
          "output_type": "stream",
          "name": "stderr",
          "text": [
            "2024/04/04 09:43:33 INFO mlflow.tracking.fluent: Experiment with name 'Pruebas Gradient Boosting' does not exist. Creating a new experiment.\n"
          ]
        }
      ]
    },
    {
      "cell_type": "code",
      "source": [
        "from pyngrok import ngrok\n",
        "\n",
        "get_ipython().system_raw('mlflow ui --port 5000 &')\n",
        "\n",
        "ngrok.kill()\n",
        "\n",
        "NGROK_AUTH_TOKEN = '2eUstZyddZ4MiKuFDTOoWJxN5B5_5gGCJAjKEReCPAgstjtc3'\n",
        "ngrok.set_auth_token(NGROK_AUTH_TOKEN)\n",
        "\n",
        "ngrok_tunnel = ngrok.connect(addr='5000', proto='http', bind_tls =True)\n",
        "print('El tracking UI: ', ngrok_tunnel.public_url)"
      ],
      "metadata": {
        "colab": {
          "base_uri": "https://localhost:8080/"
        },
        "id": "Zgf7LU22OSrP",
        "outputId": "92227c3e-7cde-4e2d-f660-9c245fe0de4c"
      },
      "execution_count": null,
      "outputs": [
        {
          "output_type": "stream",
          "name": "stdout",
          "text": [
            "El tracking UI:  https://9a66-34-106-135-7.ngrok-free.app\n"
          ]
        }
      ]
    },
    {
      "cell_type": "markdown",
      "source": [
        "![gradient boosting.png](data:image/png;base64,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)"
      ],
      "metadata": {
        "id": "9JE684e7iAoD"
      }
    },
    {
      "cell_type": "markdown",
      "source": [
        "Aquí podemos observar que con 20 estimadores y 0.01 de learning rate obtenemos un modelo con una accuracy de 0.6 en train y test, por tanto, este modelo lo descartaríamos. Al igual que en el modelo anterior, obtenemos las mismas métricas para modelos con parámetros 0.1 y 20, 0.05 y 50, 0.01 y 200 learning rate y estimadores, respectivamente."
      ],
      "metadata": {
        "id": "E_haerL8qSoX"
      }
    },
    {
      "cell_type": "markdown",
      "metadata": {
        "id": "Cj8bcxFX85UO"
      },
      "source": [
        "# Práctica Final: detección de mensajes troll\n",
        "\n",
        "\n",
        "\n",
        "En los últimos años Twitch se ha consolidad como uno de los principales medios de comunicación especialmente para las generaciones más jóvenes.\n",
        "\n",
        "Al tratarse de una plataforma participativa en la que los usuarios pueden poner comentarios durante y posteriormente a las emisiones. Entre estos comentarios han aparecido como siempre comentarios ofensisvos.\n",
        "\n",
        "En esta práctica construiremos una Inteligencia Artificial capaz de clasificar esos mensajes troll.\n",
        "\n",
        "Durante la práctica entrenaremos el modelo de Deep Learning y lo desplegaremos para inferencia en batch, la más habitual actualmente dentro de la industria:"
      ]
    },
    {
      "cell_type": "markdown",
      "metadata": {
        "id": "AI5vlvwU9FAv"
      },
      "source": [
        "## Teoría\n",
        "\n",
        "**1. ¿Qué es Apache Beam?**\n",
        "\n",
        "Apache Beam es un framework de trabajo que permite definir pipelines de procesado de datos enfocadas a la paralelización de procesos.\n",
        "\n",
        "Beam es una abstracción por lo que los detalles de implementación son gestionados por los motores de ejecución (Flink, DataFlow...)\n",
        "\n",
        "Es un framework compatible con distintos lenguajes de programación como Java, Python o Go.\n",
        "\n",
        "**2. ¿Cuáles son las diferentes formas de desplegar un modelo?**\n",
        "\n",
        "Distinguimos cuatro opciones:\n",
        "\n",
        "* Despligue en Batch. Desplegamos el modelo para hacer predicciones de grandes cantidades de datos en un momento puntual.\n",
        "\n",
        "* Despligue online. Permite la disponibilización del modelo a demanda por el ususario de manera que se pueden realizar predicciones mediante llamdas a APIs.\n",
        "\n",
        "* Despliegue en streaming Despligue pensando en la recepción continua de datos de manera que nuestro servidor es capaz de procesar un flujo continuo e ininterrumpido de datos en tiempo real.\n",
        "\n",
        "* ML Automatizado. Es el estado más avanzado en el desarrollo de MLOPS en el que el modelo es monitoeado y reentrenado de manera automática.\n",
        "\n",
        "**3. ¿Cuál es la principal diferencia entre la inferencia en batch y la inferencia en streaming?**\n",
        "\n",
        "La inferencia en batch procesa grandes cantidades de datos en momentos puntuales y normalmente programados de antemano frente al procesamiento en streming cuya infrastructura está diseñada para estar constantemente en funcionamiento emitiendo predicciones de manera continua y en tiempo real (o casi).\n",
        "\n"
      ]
    },
    {
      "cell_type": "markdown",
      "metadata": {
        "id": "hgE9XB8ACVmQ"
      },
      "source": [
        "# Configuración de nuestro proyecto en GCP\n"
      ]
    },
    {
      "cell_type": "code",
      "execution_count": null,
      "metadata": {
        "id": "zAorVw7RCT9C",
        "colab": {
          "base_uri": "https://localhost:8080/"
        },
        "outputId": "a8eb99f1-f83e-41f6-aa5b-df2ffacaebd2"
      },
      "outputs": [
        {
          "output_type": "stream",
          "name": "stdout",
          "text": [
            "Updated property [core/project].\n"
          ]
        }
      ],
      "source": [
        "PROJECT_ID = \"inferencia-419407\" #@param {type:\"string\"}\n",
        "! gcloud config set project $PROJECT_ID"
      ]
    },
    {
      "cell_type": "code",
      "execution_count": null,
      "metadata": {
        "id": "hbAl8pSkCXCm"
      },
      "outputs": [],
      "source": [
        "import sys\n",
        "\n",
        "# If you are running this notebook in Colab, run this cell and follow the\n",
        "# instructions to authenticate your GCP account. This provides access to your\n",
        "# Cloud Storage bucket and lets you submit training jobs and prediction\n",
        "# requests.\n",
        "\n",
        "if 'google.colab' in sys.modules:\n",
        "  from google.colab import auth as google_auth\n",
        "  google_auth.authenticate_user()\n",
        "\n",
        "# If you are running this notebook locally, replace the string below with the\n",
        "# path to your service account key and run this cell to authenticate your GCP\n",
        "# account.\n",
        "else:\n",
        "  %env GOOGLE_APPLICATION_CREDENTIALS ''"
      ]
    },
    {
      "cell_type": "markdown",
      "metadata": {
        "id": "p5Xoej7vH0X-"
      },
      "source": [
        "Creamos el bucket mediante la consola y una vez creado lo indicamos en la variable:"
      ]
    },
    {
      "cell_type": "code",
      "execution_count": null,
      "metadata": {
        "id": "n6Zpx14FCfXy"
      },
      "outputs": [],
      "source": [
        "BUCKET_NAME = \"practica-implementacion\" #@param {type:\"string\"}\n",
        "REGION = \"europe-west1\" #@param {type:\"string\"}"
      ]
    },
    {
      "cell_type": "code",
      "execution_count": null,
      "metadata": {
        "id": "lE4V-Xt0ChSb",
        "colab": {
          "base_uri": "https://localhost:8080/"
        },
        "outputId": "50981213-9daf-47ab-ef4a-14e380cf2aa2"
      },
      "outputs": [
        {
          "output_type": "stream",
          "name": "stdout",
          "text": [
            "Creating gs://practica-implementacion/...\n",
            "You are attempting to access protected data with no configured\n",
            "credentials. Please visit https://cloud.google.com/console#/project\n",
            "and sign up for an account, and then run the \"gcloud auth login\"\n",
            "command to configure gsutil to use these credentials.\n"
          ]
        }
      ],
      "source": [
        "! gsutil mb -l $REGION gs://$BUCKET_NAME"
      ]
    },
    {
      "cell_type": "markdown",
      "metadata": {
        "id": "3D8Qw14y_nRa"
      },
      "source": [
        "# Entrenamiento e inferencia en Batch\n",
        "\n",
        "## Preparación\n",
        "\n",
        "Para esta primera parte se va a utilizar [Tweets Dataset for Detection of Cyber-Trolls](https://www.kaggle.com/dataturks/dataset-for-detection-of-cybertrolls). El objetivo es desarrollar un clasificador binario para detectar si el mensaje recibido es troll (1) o no (0). **Las métricas obtenidas del entrenamiento y la inferencia no se tendrán en cuenta para la evaluación de la práctica, la importancia está en la arquitectura de la solución**, es decir, lo importante no es que nuestro modelo detecte correctamente los tweets de trolls si no que funcione y sea capaz de hacer inferencias.\n"
      ]
    },
    {
      "cell_type": "markdown",
      "metadata": {
        "id": "qM_dh-471gIq"
      },
      "source": [
        "A continuación, se van a subir los datos de entrenamiento al bucket del proyecto que se haya creado. **Importante:** crea el bucket en una única región. Os dejo disponibilizado el dataset en un bucket de acceso público:"
      ]
    },
    {
      "cell_type": "code",
      "execution_count": null,
      "metadata": {
        "id": "Sqp4L_nmUjAc"
      },
      "outputs": [],
      "source": [
        "%pip install gdown\n",
        "! gdown \"1dTaKofC9ZcMWa5cVtGLDFkEnbc4hiPJr\""
      ]
    },
    {
      "cell_type": "markdown",
      "metadata": {
        "id": "vCQQ9j2I11tg"
      },
      "source": [
        "Ahora se crea el directorio dónde vas a desarrollar esta primera parte de la práctica."
      ]
    },
    {
      "cell_type": "code",
      "execution_count": null,
      "metadata": {
        "id": "PsblBlJ6RrGm"
      },
      "outputs": [],
      "source": []
    },
    {
      "cell_type": "markdown",
      "metadata": {
        "id": "nyK51quU1_oi"
      },
      "source": [
        "Se establece el directorio de trabajo que hemos creado."
      ]
    },
    {
      "cell_type": "code",
      "execution_count": null,
      "metadata": {
        "id": "s7ybSaotRwkP"
      },
      "outputs": [],
      "source": []
    },
    {
      "cell_type": "markdown",
      "metadata": {
        "id": "4NSd4bAo2aj_"
      },
      "source": [
        "Ahora se descargarán los datos en el workspace de Colab para trabajar en local."
      ]
    },
    {
      "cell_type": "code",
      "execution_count": null,
      "metadata": {
        "id": "qOmUJSg1JCgg"
      },
      "outputs": [],
      "source": []
    },
    {
      "cell_type": "markdown",
      "metadata": {
        "id": "eRoW6zyg2kEz"
      },
      "source": [
        "Se establecen las dependencias que se usarán en la práctica. Se pueden añadir y quitar las dependencias que no se usen o viceversa."
      ]
    },
    {
      "cell_type": "code",
      "execution_count": null,
      "metadata": {
        "id": "9s0-8_JK_z2D"
      },
      "outputs": [],
      "source": [
        "%%writefile requirements.txt\n",
        "\n",
        "apache-beam[gcp]\n",
        "tensorflow\n",
        "gensim==3.6.0\n",
        "fsspec==0.8.4\n",
        "gcsfs==0.7.1\n",
        "numpy==1.20.0"
      ]
    },
    {
      "cell_type": "markdown",
      "metadata": {
        "id": "yIl8lrPp2x2j"
      },
      "source": [
        "Instalamos las dependencias. **No olvides reiniciar el entorno al instalar y establecer las variables y credenciales de GCP al arrancar.**"
      ]
    },
    {
      "cell_type": "code",
      "execution_count": null,
      "metadata": {
        "id": "74dHb1iQ0UNN"
      },
      "outputs": [],
      "source": [
        "! pip install -r requirements.txt"
      ]
    },
    {
      "cell_type": "code",
      "execution_count": null,
      "metadata": {
        "id": "jRCMqESUnUcq"
      },
      "outputs": [],
      "source": [
        "! pip install apache-beam[gcp]"
      ]
    },
    {
      "cell_type": "markdown",
      "metadata": {
        "id": "k0DDu27S3CJv"
      },
      "source": [
        "## Primer ejercicio\n",
        "\n",
        "Desarrollar un pipeline de preprocesamiento utilizando Apache Beam para generar datos de train, eval y test para los datos proporcionados anteriormente. Requisitos:\n",
        "\n",
        "- Proporcionar dos modos de ejecución: `train` y `test`\n",
        "- Soportar ejecuciones en local con `DirectRunner` y ejecuciones en Dataflow usando `DataFlowRunner`."
      ]
    },
    {
      "cell_type": "code",
      "execution_count": null,
      "metadata": {
        "id": "1blctlxs_dPO"
      },
      "outputs": [],
      "source": []
    },
    {
      "cell_type": "markdown",
      "metadata": {
        "id": "qawuKC0k4B0e"
      },
      "source": [
        "Se proporciona un fichero `setup.py` necesario para ejecutar en DataFlow. Modificar la variable `REQUIRED_PACKAGES` con las dependencias que se hayan usado en el `requirements.txt`"
      ]
    },
    {
      "cell_type": "code",
      "execution_count": null,
      "metadata": {
        "id": "n1MQvWsk_mVX"
      },
      "outputs": [],
      "source": [
        "%%writefile setup.py\n",
        "\n",
        "import setuptools\n",
        "\n",
        "REQUIRED_PACKAGES = [\n",
        "  \"apache-beam[gcp]==2.24.0\",\n",
        "  \"tensorflow==2.8.0\",\n",
        "  \"gensim==3.6.0\",\n",
        "  \"fsspec==0.8.4\",\n",
        "  \"gcsfs==0.7.1\",\n",
        "  \"numpy==1.20.0\"\n",
        "]\n",
        "\n",
        "setuptools.setup(\n",
        "    name=\"twitchstreaming\",\n",
        "    version=\"0.0.1\",\n",
        "    install_requires=REQUIRED_PACKAGES,\n",
        "    packages=setuptools.find_packages(),\n",
        "    include_package_data=True,\n",
        "    description=\"Troll detection\",\n",
        ")\n"
      ]
    },
    {
      "cell_type": "markdown",
      "metadata": {
        "id": "hxYFYMy-o55h"
      },
      "source": [
        "Me creo una copia por si hubiera algún error en el procesamiento (buena práctica):"
      ]
    },
    {
      "cell_type": "code",
      "execution_count": null,
      "metadata": {
        "id": "KlBCbvSQpBUK"
      },
      "outputs": [],
      "source": [
        "! gdown \"1dTaKofC9ZcMWa5cVtGLDFkEnbc4hiPJr\"\n",
        "! gsutil cp dataset-cybertrolls.json //$WORK_DIR/data.json\n"
      ]
    },
    {
      "cell_type": "markdown",
      "metadata": {
        "id": "jLDlz_fL4UJA"
      },
      "source": [
        "### Validación preprocess train en local\n",
        "Con el comando mostrado a continuación se valida la correcta generación de los datos de entrenamiento y validación en local."
      ]
    },
    {
      "cell_type": "code",
      "execution_count": null,
      "metadata": {
        "id": "vFpirg37C3bN"
      },
      "outputs": [],
      "source": []
    },
    {
      "cell_type": "markdown",
      "metadata": {
        "id": "wkkG271a4qnA"
      },
      "source": [
        "### Validación preprocess test en local\n",
        "\n",
        "Con el comando mostrado a continuación se valida la correcta generación de los datos de test en local."
      ]
    },
    {
      "cell_type": "code",
      "execution_count": null,
      "metadata": {
        "id": "u4lkLgecLS3i"
      },
      "outputs": [],
      "source": []
    },
    {
      "cell_type": "markdown",
      "metadata": {
        "id": "geZM9Sbj45LK"
      },
      "source": [
        "## Segundo ejercicio\n",
        "\n",
        "Desarrollar una tarea de entrenamiento para los datos preprocesados. Requisitos:\n",
        "\n",
        "- Soportar ejecuciones en local usando el SDK de AI-Platform y ejecuciones en GCP con el mismo código."
      ]
    },
    {
      "cell_type": "markdown",
      "metadata": {
        "id": "OMUwXgm_5el-"
      },
      "source": [
        "Se crea el directorio donde trabajaremos:"
      ]
    },
    {
      "cell_type": "code",
      "execution_count": null,
      "metadata": {
        "id": "HMi8dI1gLoIc"
      },
      "outputs": [],
      "source": [
        "%mkdir /content/batch/trainer"
      ]
    },
    {
      "cell_type": "code",
      "execution_count": null,
      "metadata": {
        "id": "3dJyMXTuNPwo"
      },
      "outputs": [],
      "source": [
        "%%writefile trainer/__init__.py\n",
        "\n",
        "version = \"0.1.0\""
      ]
    },
    {
      "cell_type": "code",
      "execution_count": null,
      "metadata": {
        "id": "mUu6gKaTL_S2"
      },
      "outputs": [],
      "source": []
    },
    {
      "cell_type": "markdown",
      "metadata": {
        "id": "8axPHdHX6d9W"
      },
      "source": [
        "### Validación Train en local\n",
        "\n",
        "Con el comando mostrado a continuación se valida el correcto entrenamiento del modelo usando los datos preprocesados del apartado anterior."
      ]
    },
    {
      "cell_type": "code",
      "execution_count": null,
      "metadata": {
        "id": "m9997ZzsLmq-"
      },
      "outputs": [],
      "source": []
    },
    {
      "cell_type": "markdown",
      "metadata": {
        "id": "0nhlkcjn62Zo"
      },
      "source": [
        "## Tercer ejercicio\n",
        "\n",
        "Desarrollar un pipeline de inferencia utilizando Apache Beam para generar predicciones usando los modelos generados en el apartado anterior así como los datos de test generados en el primer ejercicio.\n"
      ]
    },
    {
      "cell_type": "code",
      "execution_count": null,
      "metadata": {
        "id": "eHBpLXB-OmjT"
      },
      "outputs": [],
      "source": []
    },
    {
      "cell_type": "markdown",
      "metadata": {
        "id": "MUdgcLIP7a42"
      },
      "source": [
        "Generamos un timestamp para la ejecución de las predicciones"
      ]
    },
    {
      "cell_type": "code",
      "execution_count": null,
      "metadata": {
        "id": "_pvKMtuQPOlr"
      },
      "outputs": [],
      "source": []
    },
    {
      "cell_type": "markdown",
      "metadata": {
        "id": "RkLMdMup70ne"
      },
      "source": [
        "### Validación Predict en local\n",
        "\n",
        "Con el comando mostrado a continuación se valida la correcta inferencia usando los modelos anteriores y los datos de test generados anteriormente."
      ]
    },
    {
      "cell_type": "code",
      "execution_count": null,
      "metadata": {
        "id": "iUJN0XCLPR_X"
      },
      "outputs": [],
      "source": []
    },
    {
      "cell_type": "markdown",
      "metadata": {
        "id": "co3YBKjscCVI"
      },
      "source": [
        "# Mensaje final\n",
        "\n",
        "¡Muchas gracias por participar en este curso, espero que tanto las sesiones teóricas como la práctica te hayan resultado útiles. A lo largo de esta semmana iréis recibiendo feedback personalizado sobre vuestras prácticas.\n",
        "\n",
        "¡Muchas gracias y ánimo con el proyecto final!"
      ]
    }
  ],
  "metadata": {
    "colab": {
      "provenance": []
    },
    "kernelspec": {
      "display_name": "Python 3",
      "name": "python3"
    }
  },
  "nbformat": 4,
  "nbformat_minor": 0
}