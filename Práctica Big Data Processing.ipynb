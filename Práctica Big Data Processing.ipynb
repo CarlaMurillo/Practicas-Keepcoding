{
 "cells": [
  {
   "cell_type": "markdown",
   "id": "59d8fc31",
   "metadata": {},
   "source": [
    "# BIG DATA PROCESSING"
   ]
  },
  {
   "cell_type": "code",
   "execution_count": 1,
   "id": "3cf608cb",
   "metadata": {},
   "outputs": [],
   "source": [
    "import findspark\n",
    "findspark.init()\n",
    "\n",
    "import pandas as pd\n",
    "import pyspark"
   ]
  },
  {
   "cell_type": "code",
   "execution_count": 2,
   "id": "dd807a7b",
   "metadata": {},
   "outputs": [],
   "source": [
    "#Creamos una sesion de spark\n",
    "from pyspark.sql import SparkSession\n",
    "\n",
    "#Creamos un objeto de spark session\n",
    "spark = SparkSession.builder.appName(\"pysparkdf\").getOrCreate()"
   ]
  },
  {
   "cell_type": "code",
   "execution_count": 3,
   "id": "e28c465f",
   "metadata": {},
   "outputs": [
    {
     "name": "stdout",
     "output_type": "stream",
     "text": [
      "root\n",
      " |-- Country name: string (nullable = true)\n",
      " |-- year: string (nullable = true)\n",
      " |-- Life Ladder: string (nullable = true)\n",
      " |-- Log GDP per capita: string (nullable = true)\n",
      " |-- Social support: string (nullable = true)\n",
      " |-- Healthy life expectancy at birth: string (nullable = true)\n",
      " |-- Freedom to make life choices: string (nullable = true)\n",
      " |-- Generosity: string (nullable = true)\n",
      " |-- Perceptions of corruption: string (nullable = true)\n",
      " |-- Positive affect: string (nullable = true)\n",
      " |-- Negative affect: string (nullable = true)\n",
      "\n"
     ]
    }
   ],
   "source": [
    "#Lectura del archivo world-happiness-report\n",
    "data = spark.read.csv(\n",
    "    \"C:/Users/028cmf/Desktop/Nueva carpeta/KeepCoding/big-data-processing/PROYECTO FINAL/Datasets/world-happiness-report.csv\",\n",
    "    sep = ',',\n",
    "    header = True,)\n",
    "\n",
    "data.printSchema()"
   ]
  },
  {
   "cell_type": "code",
   "execution_count": 4,
   "id": "8415f702",
   "metadata": {},
   "outputs": [],
   "source": [
    "#Cambiar la estructura de los datos\n",
    "from pyspark.sql.types import *\n",
    "\n",
    "data_schema = [\n",
    "               StructField('Country name', StringType(), True),\n",
    "               StructField('year', IntegerType(), True),\n",
    "               StructField('Life Ladder', DoubleType(), True),\n",
    "               StructField('Log GDP per capita', DoubleType(), True),\n",
    "               StructField('Social support', DoubleType(), True),\n",
    "               StructField('Healthy life expectancy at birth', DoubleType(), True),\n",
    "               StructField('Freedom to make life choices', DoubleType(), True),\n",
    "               StructField('Generosity', DoubleType(), True),\n",
    "               StructField('Perceptions of corruption', DoubleType(), True),\n",
    "               StructField('Positive affect', DoubleType(), True),\n",
    "               StructField('Negative affect', DoubleType(), True),\n",
    "            ]\n",
    "\n",
    "final_struc = StructType(fields=data_schema)"
   ]
  },
  {
   "cell_type": "code",
   "execution_count": 5,
   "id": "c1f195b7",
   "metadata": {},
   "outputs": [
    {
     "name": "stdout",
     "output_type": "stream",
     "text": [
      "root\n",
      " |-- Country name: string (nullable = true)\n",
      " |-- year: integer (nullable = true)\n",
      " |-- Life Ladder: double (nullable = true)\n",
      " |-- Log GDP per capita: double (nullable = true)\n",
      " |-- Social support: double (nullable = true)\n",
      " |-- Healthy life expectancy at birth: double (nullable = true)\n",
      " |-- Freedom to make life choices: double (nullable = true)\n",
      " |-- Generosity: double (nullable = true)\n",
      " |-- Perceptions of corruption: double (nullable = true)\n",
      " |-- Positive affect: double (nullable = true)\n",
      " |-- Negative affect: double (nullable = true)\n",
      "\n"
     ]
    }
   ],
   "source": [
    "data = spark.read.csv(\n",
    "    \"C:/Users/028cmf/Desktop/Nueva carpeta/KeepCoding/big-data-processing/PROYECTO FINAL/Datasets/world-happiness-report.csv\",\n",
    "    sep = ',',\n",
    "    header = True,\n",
    "    schema = final_struc)\n",
    "\n",
    "data.printSchema()"
   ]
  },
  {
   "cell_type": "code",
   "execution_count": 6,
   "id": "3ce6cd09",
   "metadata": {},
   "outputs": [
    {
     "name": "stdout",
     "output_type": "stream",
     "text": [
      "+------------+----+-----------+------------------+--------------+--------------------------------+----------------------------+----------+-------------------------+---------------+---------------+\n",
      "|Country name|year|Life Ladder|Log GDP per capita|Social support|Healthy life expectancy at birth|Freedom to make life choices|Generosity|Perceptions of corruption|Positive affect|Negative affect|\n",
      "+------------+----+-----------+------------------+--------------+--------------------------------+----------------------------+----------+-------------------------+---------------+---------------+\n",
      "| Afghanistan|2008|      3.724|              7.37|         0.451|                            50.8|                       0.718|     0.168|                    0.882|          0.518|          0.258|\n",
      "| Afghanistan|2009|      4.402|              7.54|         0.552|                            51.2|                       0.679|      0.19|                     0.85|          0.584|          0.237|\n",
      "| Afghanistan|2010|      4.758|             7.647|         0.539|                            51.6|                         0.6|     0.121|                    0.707|          0.618|          0.275|\n",
      "| Afghanistan|2011|      3.832|              7.62|         0.521|                           51.92|                       0.496|     0.162|                    0.731|          0.611|          0.267|\n",
      "| Afghanistan|2012|      3.783|             7.705|         0.521|                           52.24|                       0.531|     0.236|                    0.776|           0.71|          0.268|\n",
      "+------------+----+-----------+------------------+--------------+--------------------------------+----------------------------+----------+-------------------------+---------------+---------------+\n",
      "only showing top 5 rows\n",
      "\n"
     ]
    }
   ],
   "source": [
    "data.show(5)"
   ]
  },
  {
   "cell_type": "code",
   "execution_count": 7,
   "id": "8e8d61e5",
   "metadata": {},
   "outputs": [
    {
     "name": "stdout",
     "output_type": "stream",
     "text": [
      "root\n",
      " |-- Country name: string (nullable = true)\n",
      " |-- Regional indicator: string (nullable = true)\n",
      " |-- Ladder score: string (nullable = true)\n",
      " |-- Standard error of ladder score: string (nullable = true)\n",
      " |-- upperwhisker: string (nullable = true)\n",
      " |-- lowerwhisker: string (nullable = true)\n",
      " |-- Logged GDP per capita: string (nullable = true)\n",
      " |-- Social support: string (nullable = true)\n",
      " |-- Healthy life expectancy: string (nullable = true)\n",
      " |-- Freedom to make life choices: string (nullable = true)\n",
      " |-- Generosity: string (nullable = true)\n",
      " |-- Perceptions of corruption: string (nullable = true)\n",
      " |-- Ladder score in Dystopia: string (nullable = true)\n",
      " |-- Explained by: Log GDP per capita: string (nullable = true)\n",
      " |-- Explained by: Social support: string (nullable = true)\n",
      " |-- Explained by: Healthy life expectancy: string (nullable = true)\n",
      " |-- Explained by: Freedom to make life choices: string (nullable = true)\n",
      " |-- Explained by: Generosity: string (nullable = true)\n",
      " |-- Explained by: Perceptions of corruption: string (nullable = true)\n",
      " |-- Dystopia + residual: string (nullable = true)\n",
      "\n"
     ]
    }
   ],
   "source": [
    "#Lectura del archivo world-happiness-report-2021\n",
    "data_2021 = spark.read.csv(\n",
    "    \"C:/Users/028cmf/Desktop/Nueva carpeta/KeepCoding/big-data-processing/PROYECTO FINAL/Datasets/world-happiness-report-2021.csv\",\n",
    "    sep = ',',\n",
    "    header = True,)\n",
    "\n",
    "data_2021.printSchema()"
   ]
  },
  {
   "cell_type": "code",
   "execution_count": 8,
   "id": "d4d49c69",
   "metadata": {},
   "outputs": [],
   "source": [
    "#Cambiar la estructura de los datos\n",
    "from pyspark.sql.types import *\n",
    "\n",
    "data_schema_2021 = [\n",
    "               StructField('Country name', StringType(), True),\n",
    "               StructField('Regional indicator', StringType(), True),\n",
    "               StructField('Ladder score', DoubleType(), True),\n",
    "               StructField('Standard error of lader score', DoubleType(), True),\n",
    "               StructField('upperwhisker', DoubleType(), True),\n",
    "               StructField('lowerwhisker', DoubleType(), True),\n",
    "               StructField('Logged GDP per capita', DoubleType(), True),\n",
    "               StructField('Social support', DoubleType(), True),\n",
    "               StructField('Healthy life expectancy', DoubleType(), True),\n",
    "               StructField('Freedom to make life choices', DoubleType(), True),\n",
    "               StructField('Generosity', DoubleType(), True),\n",
    "               StructField('Perceptions of corruption', DoubleType(), True),\n",
    "               StructField('Ladder score in Dystopia', DoubleType(), True),\n",
    "               StructField('Explained by: log GDP per capita', DoubleType(), True),\n",
    "               StructField('Explained by: Social support', DoubleType(), True),\n",
    "               StructField('Explained by: Healthy life expectancy', DoubleType(), True),\n",
    "               StructField('Explained by: Freedom to make life choices', DoubleType(), True),\n",
    "               StructField('Explained by: Generosity', DoubleType(), True),\n",
    "               StructField('Explained by: Perceptions of corruption', DoubleType(), True),\n",
    "               StructField('Dystopia + residual', DoubleType(), True),\n",
    "            ]\n",
    "\n",
    "final_struc_2021 = StructType(fields=data_schema_2021)"
   ]
  },
  {
   "cell_type": "code",
   "execution_count": 9,
   "id": "dcf10984",
   "metadata": {},
   "outputs": [
    {
     "name": "stdout",
     "output_type": "stream",
     "text": [
      "root\n",
      " |-- Country name: string (nullable = true)\n",
      " |-- Regional indicator: string (nullable = true)\n",
      " |-- Ladder score: double (nullable = true)\n",
      " |-- Standard error of lader score: double (nullable = true)\n",
      " |-- upperwhisker: double (nullable = true)\n",
      " |-- lowerwhisker: double (nullable = true)\n",
      " |-- Logged GDP per capita: double (nullable = true)\n",
      " |-- Social support: double (nullable = true)\n",
      " |-- Healthy life expectancy: double (nullable = true)\n",
      " |-- Freedom to make life choices: double (nullable = true)\n",
      " |-- Generosity: double (nullable = true)\n",
      " |-- Perceptions of corruption: double (nullable = true)\n",
      " |-- Ladder score in Dystopia: double (nullable = true)\n",
      " |-- Explained by: log GDP per capita: double (nullable = true)\n",
      " |-- Explained by: Social support: double (nullable = true)\n",
      " |-- Explained by: Healthy life expectancy: double (nullable = true)\n",
      " |-- Explained by: Freedom to make life choices: double (nullable = true)\n",
      " |-- Explained by: Generosity: double (nullable = true)\n",
      " |-- Explained by: Perceptions of corruption: double (nullable = true)\n",
      " |-- Dystopia + residual: double (nullable = true)\n",
      "\n"
     ]
    }
   ],
   "source": [
    "data_2021 = spark.read.csv(\n",
    "    \"C:/Users/028cmf/Desktop/Nueva carpeta/KeepCoding/big-data-processing/PROYECTO FINAL/Datasets/world-happiness-report-2021.csv\",\n",
    "    sep = ',',\n",
    "    header = True,\n",
    "    schema = final_struc_2021)\n",
    "\n",
    "data_2021.printSchema()"
   ]
  },
  {
   "cell_type": "code",
   "execution_count": 10,
   "id": "40819992",
   "metadata": {},
   "outputs": [
    {
     "name": "stdout",
     "output_type": "stream",
     "text": [
      "+------------+------------------+------------+-----------------------------+------------+------------+---------------------+--------------+-----------------------+----------------------------+----------+-------------------------+------------------------+--------------------------------+----------------------------+-------------------------------------+------------------------------------------+------------------------+---------------------------------------+-------------------+\n",
      "|Country name|Regional indicator|Ladder score|Standard error of lader score|upperwhisker|lowerwhisker|Logged GDP per capita|Social support|Healthy life expectancy|Freedom to make life choices|Generosity|Perceptions of corruption|Ladder score in Dystopia|Explained by: log GDP per capita|Explained by: Social support|Explained by: Healthy life expectancy|Explained by: Freedom to make life choices|Explained by: Generosity|Explained by: Perceptions of corruption|Dystopia + residual|\n",
      "+------------+------------------+------------+-----------------------------+------------+------------+---------------------+--------------+-----------------------+----------------------------+----------+-------------------------+------------------------+--------------------------------+----------------------------+-------------------------------------+------------------------------------------+------------------------+---------------------------------------+-------------------+\n",
      "|     Finland|    Western Europe|       7.842|                        0.032|       7.904|        7.78|               10.775|         0.954|                   72.0|                       0.949|    -0.098|                    0.186|                    2.43|                           1.446|                       1.106|                                0.741|                                     0.691|                   0.124|                                  0.481|              3.253|\n",
      "|     Denmark|    Western Europe|        7.62|                        0.035|       7.687|       7.552|               10.933|         0.954|                   72.7|                       0.946|      0.03|                    0.179|                    2.43|                           1.502|                       1.108|                                0.763|                                     0.686|                   0.208|                                  0.485|              2.868|\n",
      "| Switzerland|    Western Europe|       7.571|                        0.036|       7.643|         7.5|               11.117|         0.942|                   74.4|                       0.919|     0.025|                    0.292|                    2.43|                           1.566|                       1.079|                                0.816|                                     0.653|                   0.204|                                  0.413|              2.839|\n",
      "|     Iceland|    Western Europe|       7.554|                        0.059|        7.67|       7.438|               10.878|         0.983|                   73.0|                       0.955|      0.16|                    0.673|                    2.43|                           1.482|                       1.172|                                0.772|                                     0.698|                   0.293|                                   0.17|              2.967|\n",
      "| Netherlands|    Western Europe|       7.464|                        0.027|       7.518|        7.41|               10.932|         0.942|                   72.4|                       0.913|     0.175|                    0.338|                    2.43|                           1.501|                       1.079|                                0.753|                                     0.647|                   0.302|                                  0.384|              2.798|\n",
      "+------------+------------------+------------+-----------------------------+------------+------------+---------------------+--------------+-----------------------+----------------------------+----------+-------------------------+------------------------+--------------------------------+----------------------------+-------------------------------------+------------------------------------------+------------------------+---------------------------------------+-------------------+\n",
      "only showing top 5 rows\n",
      "\n"
     ]
    }
   ],
   "source": [
    "data_2021.show(5)"
   ]
  },
  {
   "cell_type": "markdown",
   "id": "dd974ca4",
   "metadata": {},
   "source": [
    "## Ejercicio 1"
   ]
  },
  {
   "cell_type": "markdown",
   "id": "3dd69f67",
   "metadata": {},
   "source": [
    "¿Cuál es el país más “feliz” del 2021 según la data? (considerar que la columna “Ladder score” mayor número más feliz es el país)"
   ]
  },
  {
   "cell_type": "code",
   "execution_count": 11,
   "id": "aaf33c6c",
   "metadata": {},
   "outputs": [
    {
     "name": "stdout",
     "output_type": "stream",
     "text": [
      "+------------+------------------+------------+\n",
      "|Country name|Regional indicator|Ladder score|\n",
      "+------------+------------------+------------+\n",
      "|     Finland|    Western Europe|       7.842|\n",
      "+------------+------------------+------------+\n",
      "only showing top 1 row\n",
      "\n"
     ]
    }
   ],
   "source": [
    "data_2021.select([\"Country name\", \"Regional indicator\",\"Ladder score\"]).orderBy(\"Ladder score\", ascending = False).show(1)"
   ]
  },
  {
   "cell_type": "markdown",
   "id": "e1b1a25c",
   "metadata": {},
   "source": [
    "Por tanto, el país más feliz del 2021 fue Finlandia."
   ]
  },
  {
   "cell_type": "markdown",
   "id": "2ada9a1d",
   "metadata": {},
   "source": [
    "## Ejercicio 2"
   ]
  },
  {
   "cell_type": "markdown",
   "id": "3ac5b524",
   "metadata": {},
   "source": [
    "¿Cuál es el país más “feliz” del 2021 por continente según la data?"
   ]
  },
  {
   "cell_type": "code",
   "execution_count": 12,
   "id": "b8a77e84",
   "metadata": {},
   "outputs": [
    {
     "name": "stdout",
     "output_type": "stream",
     "text": [
      "+------------------------+----------------------------------+------------+----------+\n",
      "|Country name            |Regional indicator                |Ladder score|row_number|\n",
      "+------------------------+----------------------------------+------------+----------+\n",
      "|Czech Republic          |Central and Eastern Europe        |6.965       |1         |\n",
      "|Uzbekistan              |Commonwealth of Independent States|6.179       |1         |\n",
      "|Taiwan Province of China|East Asia                         |6.584       |1         |\n",
      "|Costa Rica              |Latin America and Caribbean       |7.069       |1         |\n",
      "|Israel                  |Middle East and North Africa      |7.157       |1         |\n",
      "|New Zealand             |North America and ANZ             |7.277       |1         |\n",
      "|Nepal                   |South Asia                        |5.269       |1         |\n",
      "|Singapore               |Southeast Asia                    |6.377       |1         |\n",
      "|Mauritius               |Sub-Saharan Africa                |6.049       |1         |\n",
      "|Finland                 |Western Europe                    |7.842       |1         |\n",
      "+------------------------+----------------------------------+------------+----------+\n",
      "\n"
     ]
    }
   ],
   "source": [
    "from pyspark.sql.window import Window\n",
    "from pyspark.sql.functions import row_number,desc\n",
    "windowSpec  = Window.partitionBy(\"Regional indicator\").orderBy(desc(\"Ladder score\"))\n",
    "\n",
    "data_2021.select([\"Country name\", \"Regional indicator\",\"Ladder score\"]).withColumn(\"row_number\",row_number().over(windowSpec)) \\\n",
    "    .filter(\"row_number = 1\") \\\n",
    "    .show(truncate = False)"
   ]
  },
  {
   "cell_type": "markdown",
   "id": "8794042c",
   "metadata": {},
   "source": [
    "## Ejercicio 3"
   ]
  },
  {
   "cell_type": "markdown",
   "id": "49d94c18",
   "metadata": {},
   "source": [
    "¿Cuál es el país que más veces ocupó el primer lugar en todos los años?"
   ]
  },
  {
   "cell_type": "code",
   "execution_count": 13,
   "id": "179bcf41",
   "metadata": {},
   "outputs": [
    {
     "name": "stdout",
     "output_type": "stream",
     "text": [
      "+------------+----+-----------+----------+\n",
      "|Country name|year|Life Ladder|row_number|\n",
      "+------------+----+-----------+----------+\n",
      "|Denmark     |2005|8.019      |1         |\n",
      "|Finland     |2006|7.672      |1         |\n",
      "|Denmark     |2007|7.834      |1         |\n",
      "|Denmark     |2008|7.971      |1         |\n",
      "|Denmark     |2009|7.683      |1         |\n",
      "|Denmark     |2010|7.771      |1         |\n",
      "|Denmark     |2011|7.788      |1         |\n",
      "|Switzerland |2012|7.776      |1         |\n",
      "|Canada      |2013|7.594      |1         |\n",
      "|Denmark     |2014|7.508      |1         |\n",
      "|Norway      |2015|7.603      |1         |\n",
      "|Finland     |2016|7.66       |1         |\n",
      "|Finland     |2017|7.788      |1         |\n",
      "|Finland     |2018|7.858      |1         |\n",
      "|Finland     |2019|7.78       |1         |\n",
      "|Finland     |2020|7.889      |1         |\n",
      "+------------+----+-----------+----------+\n",
      "\n"
     ]
    }
   ],
   "source": [
    "from pyspark.sql.window import Window\n",
    "from pyspark.sql.functions import row_number,desc\n",
    "windowSpec  = Window.partitionBy(\"year\").orderBy(desc(\"Life Ladder\"))\n",
    "\n",
    "data.select([\"Country name\", \"year\",\"Life Ladder\"]).withColumn(\"row_number\",row_number().over(windowSpec)) \\\n",
    "    .filter(\"row_number = 1\") \\\n",
    "    .show(truncate = False)"
   ]
  },
  {
   "cell_type": "code",
   "execution_count": 14,
   "id": "2bb3c4b8",
   "metadata": {},
   "outputs": [
    {
     "name": "stdout",
     "output_type": "stream",
     "text": [
      "+------------+-----+\n",
      "|Country name|count|\n",
      "+------------+-----+\n",
      "|     Finland|    6|\n",
      "|      Norway|    1|\n",
      "|     Denmark|    7|\n",
      "| Switzerland|    1|\n",
      "|      Canada|    1|\n",
      "+------------+-----+\n",
      "\n"
     ]
    }
   ],
   "source": [
    "df = data.select([\"Country name\", \"year\",\"Life Ladder\"]).withColumn(\"row_number\",row_number().over(windowSpec)) \\\n",
    "    .filter(\"row_number = 1\")\n",
    "df.groupBy(\"Country name\").count().show()"
   ]
  },
  {
   "cell_type": "markdown",
   "id": "cc2b24a1",
   "metadata": {},
   "source": [
    "Por tanto, el país que más veces ocupó el primer puesto de felicidad fue Dinamarca."
   ]
  },
  {
   "cell_type": "markdown",
   "id": "932e0b45",
   "metadata": {},
   "source": [
    "## Ejercicio 4"
   ]
  },
  {
   "cell_type": "markdown",
   "id": "835aa9a7",
   "metadata": {},
   "source": [
    "¿Qué puesto de Felicidad tiene el país con mayor GDP del 2020?"
   ]
  },
  {
   "cell_type": "code",
   "execution_count": 15,
   "id": "9b624a0e",
   "metadata": {},
   "outputs": [
    {
     "name": "stdout",
     "output_type": "stream",
     "text": [
      "+--------------------+----+-----------+------------------+\n",
      "|        Country name|year|Life Ladder|Log GDP per capita|\n",
      "+--------------------+----+-----------+------------------+\n",
      "|             Albania|2020|      5.365|             9.497|\n",
      "|           Argentina|2020|      5.901|              9.85|\n",
      "|           Australia|2020|      7.137|             10.76|\n",
      "|             Austria|2020|      7.213|            10.851|\n",
      "|             Bahrain|2020|      6.173|             10.62|\n",
      "|          Bangladesh|2020|       5.28|             8.472|\n",
      "|             Belgium|2020|      6.839|            10.771|\n",
      "|               Benin|2020|      4.408|             8.102|\n",
      "|             Bolivia|2020|      5.559|             8.998|\n",
      "|Bosnia and Herzeg...|2020|      5.516|             9.583|\n",
      "|              Brazil|2020|       6.11|             9.522|\n",
      "|            Bulgaria|2020|      5.598|             9.991|\n",
      "|            Cambodia|2020|      4.377|             8.362|\n",
      "|            Cameroon|2020|      5.241|             8.175|\n",
      "|              Canada|2020|      7.025|             10.73|\n",
      "|               Chile|2020|      6.151|             10.02|\n",
      "|               China|2020|      5.771|             9.702|\n",
      "|            Colombia|2020|      5.709|             9.495|\n",
      "|             Croatia|2020|      6.508|            10.166|\n",
      "|              Cyprus|2020|       6.26|              NULL|\n",
      "+--------------------+----+-----------+------------------+\n",
      "only showing top 20 rows\n",
      "\n"
     ]
    }
   ],
   "source": [
    "from pyspark.sql.functions import filter\n",
    "data_2020 = data.select([\"Country name\",\"year\", \"Life Ladder\", \"Log GDP per capita\"]).filter(data.year == 2020)\n",
    "data_2020.show()"
   ]
  },
  {
   "cell_type": "code",
   "execution_count": 16,
   "id": "36de60c6",
   "metadata": {},
   "outputs": [
    {
     "name": "stdout",
     "output_type": "stream",
     "text": [
      "+--------------------+----+-----------+------------------+---------------------+--------------+\n",
      "|Country name        |year|Life Ladder|Log GDP per capita|row_number_LifeLadder|row_number_GDP|\n",
      "+--------------------+----+-----------+------------------+---------------------+--------------+\n",
      "|Ireland             |2020|7.035      |11.323            |13                   |1             |\n",
      "|Switzerland         |2020|7.508      |11.081            |4                    |2             |\n",
      "|United Arab Emirates|2020|6.458      |11.053            |27                   |3             |\n",
      "|Norway              |2020|7.29       |11.042            |8                    |4             |\n",
      "|United States       |2020|7.028      |11.001            |14                   |5             |\n",
      "|Denmark             |2020|7.515      |10.91             |3                    |6             |\n",
      "|Netherlands         |2020|7.504      |10.901            |5                    |7             |\n",
      "|Austria             |2020|7.213      |10.851            |10                   |8             |\n",
      "|Sweden              |2020|7.314      |10.838            |6                    |9             |\n",
      "|Germany             |2020|7.312      |10.833            |7                    |10            |\n",
      "|Iceland             |2020|7.575      |10.824            |2                    |11            |\n",
      "|Belgium             |2020|6.839      |10.771            |17                   |12            |\n",
      "|Australia           |2020|7.137      |10.76             |12                   |13            |\n",
      "|Finland             |2020|7.889      |10.75             |1                    |14            |\n",
      "|Canada              |2020|7.025      |10.73             |15                   |15            |\n",
      "|Saudi Arabia        |2020|6.56       |10.701            |21                   |16            |\n",
      "|South Korea         |2020|5.793      |10.648            |50                   |17            |\n",
      "|France              |2020|6.714      |10.643            |20                   |18            |\n",
      "|United Kingdom      |2020|6.798      |10.626            |18                   |19            |\n",
      "|Bahrain             |2020|6.173      |10.62             |35                   |20            |\n",
      "+--------------------+----+-----------+------------------+---------------------+--------------+\n",
      "only showing top 20 rows\n",
      "\n"
     ]
    }
   ],
   "source": [
    "from pyspark.sql.window import Window\n",
    "from pyspark.sql.functions import row_number, desc\n",
    "\n",
    "windowSpecLifeLadder = Window.partitionBy(\"year\").orderBy(desc(\"Life Ladder\"))\n",
    "windowSpecGDP = Window.partitionBy(\"year\").orderBy(desc(\"Log GDP per capita\"))\n",
    "\n",
    "data_2020.withColumn(\"row_number_LifeLadder\", row_number().over(windowSpecLifeLadder)) \\\n",
    "    .withColumn(\"row_number_GDP\", row_number().over(windowSpecGDP)) \\\n",
    "    .show(truncate=False)"
   ]
  },
  {
   "cell_type": "markdown",
   "id": "9bb2a2b2",
   "metadata": {},
   "source": [
    "En 2020, el país con mayor GDP per capita fue Irlanda y ocupó el puesto número 13 de felicidad."
   ]
  },
  {
   "cell_type": "markdown",
   "id": "8c99179c",
   "metadata": {},
   "source": [
    "## Ejercicio 5"
   ]
  },
  {
   "cell_type": "markdown",
   "id": "9492b08a",
   "metadata": {},
   "source": [
    "¿En que porcentaje ha variado a nivel mundial el GDP promedio del 2020 respecto al 2021? ¿Aumentó o disminuyó?"
   ]
  },
  {
   "cell_type": "code",
   "execution_count": 32,
   "id": "93b0be8b",
   "metadata": {},
   "outputs": [
    {
     "name": "stdout",
     "output_type": "stream",
     "text": [
      "+----------------+\n",
      "|Average GDP 2020|\n",
      "+----------------+\n",
      "|            9.75|\n",
      "+----------------+\n",
      "\n"
     ]
    }
   ],
   "source": [
    "from pyspark.sql.functions import avg, round\n",
    "\n",
    "average_gdp_2020 = data_2020.agg(round(avg(\"Log GDP per capita\"), 2).alias(\"Average GDP 2020\"))\n",
    "average_gdp_2020.show()"
   ]
  },
  {
   "cell_type": "code",
   "execution_count": 28,
   "id": "6acc96d9",
   "metadata": {},
   "outputs": [
    {
     "name": "stdout",
     "output_type": "stream",
     "text": [
      "+----------------+\n",
      "|Average GDP 2021|\n",
      "+----------------+\n",
      "|            9.43|\n",
      "+----------------+\n",
      "\n"
     ]
    }
   ],
   "source": [
    "from pyspark.sql.functions import avg, round\n",
    "\n",
    "average_gdp_2021 = data_2021.select(\"Logged GDP per capita\").agg(round(avg(\"Logged GDP per capita\"),2).alias(\"Average GDP 2021\"))\n",
    "average_gdp_2021.show()"
   ]
  },
  {
   "cell_type": "code",
   "execution_count": 41,
   "id": "4dbc4083",
   "metadata": {},
   "outputs": [
    {
     "name": "stdout",
     "output_type": "stream",
     "text": [
      "Percentage Decrease: 3.2820512820512846\n"
     ]
    }
   ],
   "source": [
    "percentage_decrease = ((average_gdp_2020.select(\"Average GDP 2020\").collect()[0][0] - average_gdp_2021.select(\"Average GDP 2021\").collect()[0][0]) / average_gdp_2020.select(\"Average GDP 2020\").collect()[0][0]) * 100\n",
    "print(\"Percentage Decrease:\", percentage_decrease)"
   ]
  },
  {
   "cell_type": "markdown",
   "id": "9ae16b16",
   "metadata": {},
   "source": [
    "Como podemos observar, del 2020 al 2021 ha disminuido un 3.28% pasando de 9.75 a 9.43."
   ]
  },
  {
   "cell_type": "markdown",
   "id": "79dd5167",
   "metadata": {},
   "source": [
    "## Ejercicio 6"
   ]
  },
  {
   "cell_type": "markdown",
   "id": "0be35183",
   "metadata": {},
   "source": [
    "¿Cuál es el país con mayor expectativa de vida (“Healthy life expectancy at birth”)? Y ¿Cuánto tenia en ese indicador en el 2019?"
   ]
  },
  {
   "cell_type": "code",
   "execution_count": 18,
   "id": "61713b1c",
   "metadata": {},
   "outputs": [
    {
     "name": "stdout",
     "output_type": "stream",
     "text": [
      "+-------+-----------------------+\n",
      "|summary|Healthy life expectancy|\n",
      "+-------+-----------------------+\n",
      "|  count|                    149|\n",
      "|   mean|      64.99279865771811|\n",
      "| stddev|      6.762043090404319|\n",
      "|    min|                 48.478|\n",
      "|    max|                 76.953|\n",
      "+-------+-----------------------+\n",
      "\n"
     ]
    }
   ],
   "source": [
    "data_2021.describe(\"Healthy life expectancy\").show()"
   ]
  },
  {
   "cell_type": "code",
   "execution_count": 19,
   "id": "484155f0",
   "metadata": {},
   "outputs": [
    {
     "name": "stdout",
     "output_type": "stream",
     "text": [
      "+-------+--------------------------------+\n",
      "|summary|Healthy life expectancy at birth|\n",
      "+-------+--------------------------------+\n",
      "|  count|                            1894|\n",
      "|   mean|              63.359373812037965|\n",
      "| stddev|               7.510244618236356|\n",
      "|    min|                            32.3|\n",
      "|    max|                            77.1|\n",
      "+-------+--------------------------------+\n",
      "\n"
     ]
    }
   ],
   "source": [
    "data.describe(\"Healthy life expectancy at birth\").show()"
   ]
  },
  {
   "cell_type": "code",
   "execution_count": 20,
   "id": "ec1ce00f",
   "metadata": {},
   "outputs": [
    {
     "name": "stdout",
     "output_type": "stream",
     "text": [
      "+------------+----+--------------------------------+\n",
      "|Country name|year|Healthy life expectancy at birth|\n",
      "+------------+----+--------------------------------+\n",
      "|   Singapore|2019|                            77.1|\n",
      "+------------+----+--------------------------------+\n",
      "only showing top 1 row\n",
      "\n"
     ]
    }
   ],
   "source": [
    "data.select([\"Country name\", \"year\", \"Healthy life expectancy at birth\"]).orderBy(\"Healthy life expectancy at birth\", ascending = False).show(1)"
   ]
  },
  {
   "cell_type": "markdown",
   "id": "d466b967",
   "metadata": {},
   "source": [
    "Comparando esta variable en ambos dataframes, observamos que el máximo es 77.1 y corresponde a Singapore en el año 2019."
   ]
  }
 ],
 "metadata": {
  "kernelspec": {
   "display_name": "Python 3 (ipykernel)",
   "language": "python",
   "name": "python3"
  },
  "language_info": {
   "codemirror_mode": {
    "name": "ipython",
    "version": 3
   },
   "file_extension": ".py",
   "mimetype": "text/x-python",
   "name": "python",
   "nbconvert_exporter": "python",
   "pygments_lexer": "ipython3",
   "version": "3.11.3"
  }
 },
 "nbformat": 4,
 "nbformat_minor": 5
}
