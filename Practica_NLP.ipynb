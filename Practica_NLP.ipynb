{
  "nbformat": 4,
  "nbformat_minor": 0,
  "metadata": {
    "colab": {
      "provenance": []
    },
    "kernelspec": {
      "name": "python3",
      "display_name": "Python 3"
    },
    "language_info": {
      "name": "python"
    }
  },
  "cells": [
    {
      "cell_type": "markdown",
      "source": [
        "Librerias necesarias"
      ],
      "metadata": {
        "id": "S4LKeN77yU85"
      }
    },
    {
      "cell_type": "code",
      "source": [
        "import json\n",
        "import gzip\n",
        "import pandas as pd\n",
        "from collections import Counter # Exploración\n",
        "from nltk import ngrams # Exploración\n",
        "from nltk.probability import FreqDist # Exploración\n",
        "import matplotlib.pyplot as plt # Visualización\n",
        "from wordcloud import WordCloud # Exploración\n",
        "\n",
        "import string\n",
        "import unicodedata\n",
        "import nltk\n",
        "from nltk.corpus import stopwords\n",
        "from nltk.tokenize import sent_tokenize, word_tokenize\n",
        "from sklearn.model_selection import train_test_split, GridSearchCV # Modelado\n",
        "from sklearn.feature_extraction.text import TfidfVectorizer # Modelado\n",
        "from sklearn.linear_model import LogisticRegression # Modelado\n",
        "from sklearn.metrics import accuracy_score # Metricas\n",
        "from sklearn.ensemble import GradientBoostingClassifier # Modelado"
      ],
      "metadata": {
        "id": "9OvES0I2yXgh"
      },
      "execution_count": 87,
      "outputs": []
    },
    {
      "cell_type": "markdown",
      "source": [
        "# **1. Descarga y exploración de datos**"
      ],
      "metadata": {
        "id": "hmppHaWjy3mY"
      }
    },
    {
      "cell_type": "code",
      "source": [
        "!wget https://datarepo.eng.ucsd.edu/mcauley_group/data/amazon_v2/categoryFilesSmall/Luxury_Beauty_5.json.gz"
      ],
      "metadata": {
        "colab": {
          "base_uri": "https://localhost:8080/"
        },
        "id": "WZSptiNbsv6E",
        "outputId": "3f764d55-6d44-4f8f-d44d-a1054a077c48"
      },
      "execution_count": 88,
      "outputs": [
        {
          "output_type": "stream",
          "name": "stdout",
          "text": [
            "--2024-03-27 13:04:21--  https://datarepo.eng.ucsd.edu/mcauley_group/data/amazon_v2/categoryFilesSmall/Luxury_Beauty_5.json.gz\n",
            "Resolving datarepo.eng.ucsd.edu (datarepo.eng.ucsd.edu)... 132.239.8.30\n",
            "Connecting to datarepo.eng.ucsd.edu (datarepo.eng.ucsd.edu)|132.239.8.30|:443... connected.\n",
            "HTTP request sent, awaiting response... 200 OK\n",
            "Length: 7356868 (7.0M) [application/x-gzip]\n",
            "Saving to: ‘Luxury_Beauty_5.json.gz.1’\n",
            "\n",
            "Luxury_Beauty_5.jso 100%[===================>]   7.02M  12.6MB/s    in 0.6s    \n",
            "\n",
            "2024-03-27 13:04:22 (12.6 MB/s) - ‘Luxury_Beauty_5.json.gz.1’ saved [7356868/7356868]\n",
            "\n"
          ]
        }
      ]
    },
    {
      "cell_type": "code",
      "source": [
        "# load the meta data\n",
        "nombre_archivo = 'Luxury_Beauty_5.json.gz'\n",
        "\n",
        "data = []\n",
        "with gzip.open(nombre_archivo, 'rb') as f:\n",
        "  for l in f:\n",
        "    data.append(json.loads(l.strip()))"
      ],
      "metadata": {
        "id": "VBIefEIqpftx"
      },
      "execution_count": 89,
      "outputs": []
    },
    {
      "cell_type": "code",
      "source": [
        "# Guardamos nuestros datos en un dataframe para poder trabajar con ellos.\n",
        "\n",
        "df = pd.DataFrame.from_dict(data)\n",
        "df.head()"
      ],
      "metadata": {
        "colab": {
          "base_uri": "https://localhost:8080/",
          "height": 206
        },
        "id": "68Rni_MQ0NBK",
        "outputId": "339fee9a-d48d-410c-be9e-a603f8558d97"
      },
      "execution_count": 90,
      "outputs": [
        {
          "output_type": "execute_result",
          "data": {
            "text/plain": [
              "   overall  verified   reviewTime      reviewerID        asin  \\\n",
              "0      5.0      True   01 5, 2018  A2HOI48JK8838M  B00004U9V2   \n",
              "1      5.0      True   04 5, 2017  A1YIPEY7HX73S7  B00004U9V2   \n",
              "2      5.0      True  03 27, 2017  A2QCGHIJ2TCLVP  B00004U9V2   \n",
              "3      5.0      True  03 20, 2017  A2R4UNHFJBA6PY  B00004U9V2   \n",
              "4      5.0      True  02 28, 2017  A2QCGHIJ2TCLVP  B00004U9V2   \n",
              "\n",
              "                   style     reviewerName  \\\n",
              "0  {'Size:': ' 0.9 oz.'}               DB   \n",
              "1  {'Size:': ' 3.5 oz.'}            Ajaey   \n",
              "2    {'Size:': ' 250 g'}         D. Jones   \n",
              "3  {'Size:': ' 3.5 oz.'}  Amazon Customer   \n",
              "4  {'Size:': ' 0.9 oz.'}         D. Jones   \n",
              "\n",
              "                                          reviewText                 summary  \\\n",
              "0  This handcream has a beautiful fragrance. It d...     Beautiful Fragrance   \n",
              "1  wonderful hand lotion, for seriously dry skin,...   wonderful hand lotion   \n",
              "2  Best hand cream around.  Silky, thick, soaks i...  Best hand cream around   \n",
              "3                                           Thanks!!              Five Stars   \n",
              "4  Great hand lotion.  Soaks right in and leaves ...      Great hand lotion!   \n",
              "\n",
              "   unixReviewTime vote image  \n",
              "0      1515110400  NaN   NaN  \n",
              "1      1491350400  NaN   NaN  \n",
              "2      1490572800  NaN   NaN  \n",
              "3      1489968000  NaN   NaN  \n",
              "4      1488240000  NaN   NaN  "
            ],
            "text/html": [
              "\n",
              "  <div id=\"df-ac0939dd-a00d-43af-9e73-f98973998876\" class=\"colab-df-container\">\n",
              "    <div>\n",
              "<style scoped>\n",
              "    .dataframe tbody tr th:only-of-type {\n",
              "        vertical-align: middle;\n",
              "    }\n",
              "\n",
              "    .dataframe tbody tr th {\n",
              "        vertical-align: top;\n",
              "    }\n",
              "\n",
              "    .dataframe thead th {\n",
              "        text-align: right;\n",
              "    }\n",
              "</style>\n",
              "<table border=\"1\" class=\"dataframe\">\n",
              "  <thead>\n",
              "    <tr style=\"text-align: right;\">\n",
              "      <th></th>\n",
              "      <th>overall</th>\n",
              "      <th>verified</th>\n",
              "      <th>reviewTime</th>\n",
              "      <th>reviewerID</th>\n",
              "      <th>asin</th>\n",
              "      <th>style</th>\n",
              "      <th>reviewerName</th>\n",
              "      <th>reviewText</th>\n",
              "      <th>summary</th>\n",
              "      <th>unixReviewTime</th>\n",
              "      <th>vote</th>\n",
              "      <th>image</th>\n",
              "    </tr>\n",
              "  </thead>\n",
              "  <tbody>\n",
              "    <tr>\n",
              "      <th>0</th>\n",
              "      <td>5.0</td>\n",
              "      <td>True</td>\n",
              "      <td>01 5, 2018</td>\n",
              "      <td>A2HOI48JK8838M</td>\n",
              "      <td>B00004U9V2</td>\n",
              "      <td>{'Size:': ' 0.9 oz.'}</td>\n",
              "      <td>DB</td>\n",
              "      <td>This handcream has a beautiful fragrance. It d...</td>\n",
              "      <td>Beautiful Fragrance</td>\n",
              "      <td>1515110400</td>\n",
              "      <td>NaN</td>\n",
              "      <td>NaN</td>\n",
              "    </tr>\n",
              "    <tr>\n",
              "      <th>1</th>\n",
              "      <td>5.0</td>\n",
              "      <td>True</td>\n",
              "      <td>04 5, 2017</td>\n",
              "      <td>A1YIPEY7HX73S7</td>\n",
              "      <td>B00004U9V2</td>\n",
              "      <td>{'Size:': ' 3.5 oz.'}</td>\n",
              "      <td>Ajaey</td>\n",
              "      <td>wonderful hand lotion, for seriously dry skin,...</td>\n",
              "      <td>wonderful hand lotion</td>\n",
              "      <td>1491350400</td>\n",
              "      <td>NaN</td>\n",
              "      <td>NaN</td>\n",
              "    </tr>\n",
              "    <tr>\n",
              "      <th>2</th>\n",
              "      <td>5.0</td>\n",
              "      <td>True</td>\n",
              "      <td>03 27, 2017</td>\n",
              "      <td>A2QCGHIJ2TCLVP</td>\n",
              "      <td>B00004U9V2</td>\n",
              "      <td>{'Size:': ' 250 g'}</td>\n",
              "      <td>D. Jones</td>\n",
              "      <td>Best hand cream around.  Silky, thick, soaks i...</td>\n",
              "      <td>Best hand cream around</td>\n",
              "      <td>1490572800</td>\n",
              "      <td>NaN</td>\n",
              "      <td>NaN</td>\n",
              "    </tr>\n",
              "    <tr>\n",
              "      <th>3</th>\n",
              "      <td>5.0</td>\n",
              "      <td>True</td>\n",
              "      <td>03 20, 2017</td>\n",
              "      <td>A2R4UNHFJBA6PY</td>\n",
              "      <td>B00004U9V2</td>\n",
              "      <td>{'Size:': ' 3.5 oz.'}</td>\n",
              "      <td>Amazon Customer</td>\n",
              "      <td>Thanks!!</td>\n",
              "      <td>Five Stars</td>\n",
              "      <td>1489968000</td>\n",
              "      <td>NaN</td>\n",
              "      <td>NaN</td>\n",
              "    </tr>\n",
              "    <tr>\n",
              "      <th>4</th>\n",
              "      <td>5.0</td>\n",
              "      <td>True</td>\n",
              "      <td>02 28, 2017</td>\n",
              "      <td>A2QCGHIJ2TCLVP</td>\n",
              "      <td>B00004U9V2</td>\n",
              "      <td>{'Size:': ' 0.9 oz.'}</td>\n",
              "      <td>D. Jones</td>\n",
              "      <td>Great hand lotion.  Soaks right in and leaves ...</td>\n",
              "      <td>Great hand lotion!</td>\n",
              "      <td>1488240000</td>\n",
              "      <td>NaN</td>\n",
              "      <td>NaN</td>\n",
              "    </tr>\n",
              "  </tbody>\n",
              "</table>\n",
              "</div>\n",
              "    <div class=\"colab-df-buttons\">\n",
              "\n",
              "  <div class=\"colab-df-container\">\n",
              "    <button class=\"colab-df-convert\" onclick=\"convertToInteractive('df-ac0939dd-a00d-43af-9e73-f98973998876')\"\n",
              "            title=\"Convert this dataframe to an interactive table.\"\n",
              "            style=\"display:none;\">\n",
              "\n",
              "  <svg xmlns=\"http://www.w3.org/2000/svg\" height=\"24px\" viewBox=\"0 -960 960 960\">\n",
              "    <path d=\"M120-120v-720h720v720H120Zm60-500h600v-160H180v160Zm220 220h160v-160H400v160Zm0 220h160v-160H400v160ZM180-400h160v-160H180v160Zm440 0h160v-160H620v160ZM180-180h160v-160H180v160Zm440 0h160v-160H620v160Z\"/>\n",
              "  </svg>\n",
              "    </button>\n",
              "\n",
              "  <style>\n",
              "    .colab-df-container {\n",
              "      display:flex;\n",
              "      gap: 12px;\n",
              "    }\n",
              "\n",
              "    .colab-df-convert {\n",
              "      background-color: #E8F0FE;\n",
              "      border: none;\n",
              "      border-radius: 50%;\n",
              "      cursor: pointer;\n",
              "      display: none;\n",
              "      fill: #1967D2;\n",
              "      height: 32px;\n",
              "      padding: 0 0 0 0;\n",
              "      width: 32px;\n",
              "    }\n",
              "\n",
              "    .colab-df-convert:hover {\n",
              "      background-color: #E2EBFA;\n",
              "      box-shadow: 0px 1px 2px rgba(60, 64, 67, 0.3), 0px 1px 3px 1px rgba(60, 64, 67, 0.15);\n",
              "      fill: #174EA6;\n",
              "    }\n",
              "\n",
              "    .colab-df-buttons div {\n",
              "      margin-bottom: 4px;\n",
              "    }\n",
              "\n",
              "    [theme=dark] .colab-df-convert {\n",
              "      background-color: #3B4455;\n",
              "      fill: #D2E3FC;\n",
              "    }\n",
              "\n",
              "    [theme=dark] .colab-df-convert:hover {\n",
              "      background-color: #434B5C;\n",
              "      box-shadow: 0px 1px 3px 1px rgba(0, 0, 0, 0.15);\n",
              "      filter: drop-shadow(0px 1px 2px rgba(0, 0, 0, 0.3));\n",
              "      fill: #FFFFFF;\n",
              "    }\n",
              "  </style>\n",
              "\n",
              "    <script>\n",
              "      const buttonEl =\n",
              "        document.querySelector('#df-ac0939dd-a00d-43af-9e73-f98973998876 button.colab-df-convert');\n",
              "      buttonEl.style.display =\n",
              "        google.colab.kernel.accessAllowed ? 'block' : 'none';\n",
              "\n",
              "      async function convertToInteractive(key) {\n",
              "        const element = document.querySelector('#df-ac0939dd-a00d-43af-9e73-f98973998876');\n",
              "        const dataTable =\n",
              "          await google.colab.kernel.invokeFunction('convertToInteractive',\n",
              "                                                    [key], {});\n",
              "        if (!dataTable) return;\n",
              "\n",
              "        const docLinkHtml = 'Like what you see? Visit the ' +\n",
              "          '<a target=\"_blank\" href=https://colab.research.google.com/notebooks/data_table.ipynb>data table notebook</a>'\n",
              "          + ' to learn more about interactive tables.';\n",
              "        element.innerHTML = '';\n",
              "        dataTable['output_type'] = 'display_data';\n",
              "        await google.colab.output.renderOutput(dataTable, element);\n",
              "        const docLink = document.createElement('div');\n",
              "        docLink.innerHTML = docLinkHtml;\n",
              "        element.appendChild(docLink);\n",
              "      }\n",
              "    </script>\n",
              "  </div>\n",
              "\n",
              "\n",
              "<div id=\"df-bc4ae827-228d-4158-b9ef-6397083807aa\">\n",
              "  <button class=\"colab-df-quickchart\" onclick=\"quickchart('df-bc4ae827-228d-4158-b9ef-6397083807aa')\"\n",
              "            title=\"Suggest charts\"\n",
              "            style=\"display:none;\">\n",
              "\n",
              "<svg xmlns=\"http://www.w3.org/2000/svg\" height=\"24px\"viewBox=\"0 0 24 24\"\n",
              "     width=\"24px\">\n",
              "    <g>\n",
              "        <path d=\"M19 3H5c-1.1 0-2 .9-2 2v14c0 1.1.9 2 2 2h14c1.1 0 2-.9 2-2V5c0-1.1-.9-2-2-2zM9 17H7v-7h2v7zm4 0h-2V7h2v10zm4 0h-2v-4h2v4z\"/>\n",
              "    </g>\n",
              "</svg>\n",
              "  </button>\n",
              "\n",
              "<style>\n",
              "  .colab-df-quickchart {\n",
              "      --bg-color: #E8F0FE;\n",
              "      --fill-color: #1967D2;\n",
              "      --hover-bg-color: #E2EBFA;\n",
              "      --hover-fill-color: #174EA6;\n",
              "      --disabled-fill-color: #AAA;\n",
              "      --disabled-bg-color: #DDD;\n",
              "  }\n",
              "\n",
              "  [theme=dark] .colab-df-quickchart {\n",
              "      --bg-color: #3B4455;\n",
              "      --fill-color: #D2E3FC;\n",
              "      --hover-bg-color: #434B5C;\n",
              "      --hover-fill-color: #FFFFFF;\n",
              "      --disabled-bg-color: #3B4455;\n",
              "      --disabled-fill-color: #666;\n",
              "  }\n",
              "\n",
              "  .colab-df-quickchart {\n",
              "    background-color: var(--bg-color);\n",
              "    border: none;\n",
              "    border-radius: 50%;\n",
              "    cursor: pointer;\n",
              "    display: none;\n",
              "    fill: var(--fill-color);\n",
              "    height: 32px;\n",
              "    padding: 0;\n",
              "    width: 32px;\n",
              "  }\n",
              "\n",
              "  .colab-df-quickchart:hover {\n",
              "    background-color: var(--hover-bg-color);\n",
              "    box-shadow: 0 1px 2px rgba(60, 64, 67, 0.3), 0 1px 3px 1px rgba(60, 64, 67, 0.15);\n",
              "    fill: var(--button-hover-fill-color);\n",
              "  }\n",
              "\n",
              "  .colab-df-quickchart-complete:disabled,\n",
              "  .colab-df-quickchart-complete:disabled:hover {\n",
              "    background-color: var(--disabled-bg-color);\n",
              "    fill: var(--disabled-fill-color);\n",
              "    box-shadow: none;\n",
              "  }\n",
              "\n",
              "  .colab-df-spinner {\n",
              "    border: 2px solid var(--fill-color);\n",
              "    border-color: transparent;\n",
              "    border-bottom-color: var(--fill-color);\n",
              "    animation:\n",
              "      spin 1s steps(1) infinite;\n",
              "  }\n",
              "\n",
              "  @keyframes spin {\n",
              "    0% {\n",
              "      border-color: transparent;\n",
              "      border-bottom-color: var(--fill-color);\n",
              "      border-left-color: var(--fill-color);\n",
              "    }\n",
              "    20% {\n",
              "      border-color: transparent;\n",
              "      border-left-color: var(--fill-color);\n",
              "      border-top-color: var(--fill-color);\n",
              "    }\n",
              "    30% {\n",
              "      border-color: transparent;\n",
              "      border-left-color: var(--fill-color);\n",
              "      border-top-color: var(--fill-color);\n",
              "      border-right-color: var(--fill-color);\n",
              "    }\n",
              "    40% {\n",
              "      border-color: transparent;\n",
              "      border-right-color: var(--fill-color);\n",
              "      border-top-color: var(--fill-color);\n",
              "    }\n",
              "    60% {\n",
              "      border-color: transparent;\n",
              "      border-right-color: var(--fill-color);\n",
              "    }\n",
              "    80% {\n",
              "      border-color: transparent;\n",
              "      border-right-color: var(--fill-color);\n",
              "      border-bottom-color: var(--fill-color);\n",
              "    }\n",
              "    90% {\n",
              "      border-color: transparent;\n",
              "      border-bottom-color: var(--fill-color);\n",
              "    }\n",
              "  }\n",
              "</style>\n",
              "\n",
              "  <script>\n",
              "    async function quickchart(key) {\n",
              "      const quickchartButtonEl =\n",
              "        document.querySelector('#' + key + ' button');\n",
              "      quickchartButtonEl.disabled = true;  // To prevent multiple clicks.\n",
              "      quickchartButtonEl.classList.add('colab-df-spinner');\n",
              "      try {\n",
              "        const charts = await google.colab.kernel.invokeFunction(\n",
              "            'suggestCharts', [key], {});\n",
              "      } catch (error) {\n",
              "        console.error('Error during call to suggestCharts:', error);\n",
              "      }\n",
              "      quickchartButtonEl.classList.remove('colab-df-spinner');\n",
              "      quickchartButtonEl.classList.add('colab-df-quickchart-complete');\n",
              "    }\n",
              "    (() => {\n",
              "      let quickchartButtonEl =\n",
              "        document.querySelector('#df-bc4ae827-228d-4158-b9ef-6397083807aa button');\n",
              "      quickchartButtonEl.style.display =\n",
              "        google.colab.kernel.accessAllowed ? 'block' : 'none';\n",
              "    })();\n",
              "  </script>\n",
              "</div>\n",
              "    </div>\n",
              "  </div>\n"
            ],
            "application/vnd.google.colaboratory.intrinsic+json": {
              "type": "dataframe",
              "variable_name": "df",
              "summary": "{\n  \"name\": \"df\",\n  \"rows\": 34278,\n  \"fields\": [\n    {\n      \"column\": \"overall\",\n      \"properties\": {\n        \"dtype\": \"number\",\n        \"std\": 1.037360480537197,\n        \"min\": 1.0,\n        \"max\": 5.0,\n        \"num_unique_values\": 5,\n        \"samples\": [\n          4.0,\n          2.0,\n          3.0\n        ],\n        \"semantic_type\": \"\",\n        \"description\": \"\"\n      }\n    },\n    {\n      \"column\": \"verified\",\n      \"properties\": {\n        \"dtype\": \"boolean\",\n        \"num_unique_values\": 2,\n        \"samples\": [\n          false,\n          true\n        ],\n        \"semantic_type\": \"\",\n        \"description\": \"\"\n      }\n    },\n    {\n      \"column\": \"reviewTime\",\n      \"properties\": {\n        \"dtype\": \"object\",\n        \"num_unique_values\": 2510,\n        \"samples\": [\n          \"01 21, 2014\",\n          \"08 6, 2016\"\n        ],\n        \"semantic_type\": \"\",\n        \"description\": \"\"\n      }\n    },\n    {\n      \"column\": \"reviewerID\",\n      \"properties\": {\n        \"dtype\": \"category\",\n        \"num_unique_values\": 3819,\n        \"samples\": [\n          \"A1RNPRQWJNU7G6\",\n          \"A1QU1H8R28NIGX\"\n        ],\n        \"semantic_type\": \"\",\n        \"description\": \"\"\n      }\n    },\n    {\n      \"column\": \"asin\",\n      \"properties\": {\n        \"dtype\": \"category\",\n        \"num_unique_values\": 1581,\n        \"samples\": [\n          \"B00J9JOV9O\",\n          \"B005VMJCD8\"\n        ],\n        \"semantic_type\": \"\",\n        \"description\": \"\"\n      }\n    },\n    {\n      \"column\": \"style\",\n      \"properties\": {\n        \"dtype\": \"object\",\n        \"semantic_type\": \"\",\n        \"description\": \"\"\n      }\n    },\n    {\n      \"column\": \"reviewerName\",\n      \"properties\": {\n        \"dtype\": \"category\",\n        \"num_unique_values\": 3584,\n        \"samples\": [\n          \"E. R.\",\n          \"Jeremy Storly\"\n        ],\n        \"semantic_type\": \"\",\n        \"description\": \"\"\n      }\n    },\n    {\n      \"column\": \"reviewText\",\n      \"properties\": {\n        \"dtype\": \"string\",\n        \"num_unique_values\": 24245,\n        \"samples\": [\n          \"I bought this product (in another color), followed the directions exactly, but this does nothing but cause your existing hair to turn an off share and feel like straw. Unlike the Toppik fibers, this doesn't do anything for areas of thinning. I contacted the company and asked for a refund, but didn't even get the courtesy of a response. Toppik fibers are good, but this product is useless.\",\n          \"Wow! I ordered this yesterday and I got it today!!! Fantastic, Thank you!!!\"\n        ],\n        \"semantic_type\": \"\",\n        \"description\": \"\"\n      }\n    },\n    {\n      \"column\": \"summary\",\n      \"properties\": {\n        \"dtype\": \"string\",\n        \"num_unique_values\": 20109,\n        \"samples\": [\n          \"Beautiful true one coater polish\",\n          \"Turned me into a cheeto\"\n        ],\n        \"semantic_type\": \"\",\n        \"description\": \"\"\n      }\n    },\n    {\n      \"column\": \"unixReviewTime\",\n      \"properties\": {\n        \"dtype\": \"number\",\n        \"std\": 49623814,\n        \"min\": 1127174400,\n        \"max\": 1537747200,\n        \"num_unique_values\": 2510,\n        \"samples\": [\n          1390262400,\n          1470441600\n        ],\n        \"semantic_type\": \"\",\n        \"description\": \"\"\n      }\n    },\n    {\n      \"column\": \"vote\",\n      \"properties\": {\n        \"dtype\": \"category\",\n        \"num_unique_values\": 109,\n        \"samples\": [\n          \"67\",\n          \"7\"\n        ],\n        \"semantic_type\": \"\",\n        \"description\": \"\"\n      }\n    },\n    {\n      \"column\": \"image\",\n      \"properties\": {\n        \"dtype\": \"object\",\n        \"semantic_type\": \"\",\n        \"description\": \"\"\n      }\n    }\n  ]\n}"
            }
          },
          "metadata": {},
          "execution_count": 90
        }
      ]
    },
    {
      "cell_type": "code",
      "source": [
        "print(df.shape)\n",
        "print(df.info())"
      ],
      "metadata": {
        "colab": {
          "base_uri": "https://localhost:8080/"
        },
        "id": "45ujAJD5010C",
        "outputId": "7991eafa-a25e-4180-d83a-dea4aaf2444d"
      },
      "execution_count": 91,
      "outputs": [
        {
          "output_type": "stream",
          "name": "stdout",
          "text": [
            "(34278, 12)\n",
            "<class 'pandas.core.frame.DataFrame'>\n",
            "RangeIndex: 34278 entries, 0 to 34277\n",
            "Data columns (total 12 columns):\n",
            " #   Column          Non-Null Count  Dtype  \n",
            "---  ------          --------------  -----  \n",
            " 0   overall         34278 non-null  float64\n",
            " 1   verified        34278 non-null  bool   \n",
            " 2   reviewTime      34278 non-null  object \n",
            " 3   reviewerID      34278 non-null  object \n",
            " 4   asin            34278 non-null  object \n",
            " 5   style           16841 non-null  object \n",
            " 6   reviewerName    34278 non-null  object \n",
            " 7   reviewText      34265 non-null  object \n",
            " 8   summary         34263 non-null  object \n",
            " 9   unixReviewTime  34278 non-null  int64  \n",
            " 10  vote            6532 non-null   object \n",
            " 11  image           617 non-null    object \n",
            "dtypes: bool(1), float64(1), int64(1), object(9)\n",
            "memory usage: 2.9+ MB\n",
            "None\n"
          ]
        }
      ]
    },
    {
      "cell_type": "markdown",
      "source": [
        "El dataframe consta de 34.278 observaciones y 12 variables. Se trata de reviews de productos de belleza de lujo.  Tenemos la puntuación del producto, la review, la fecha de la review, el nombre del usuario, Id del usuario, imagen del producto, etc. De todas ellas me voy a quedar con overall y reviewText. También voy a eliminar las columnas que tenga NA en la columna review."
      ],
      "metadata": {
        "id": "YCRlCCxI67kH"
      }
    },
    {
      "cell_type": "code",
      "source": [
        "df= df[['reviewText', 'overall']].rename(columns={'reviewText': 'review', 'overall': 'score'})"
      ],
      "metadata": {
        "id": "VPp_bHyD2fcq"
      },
      "execution_count": 92,
      "outputs": []
    },
    {
      "cell_type": "markdown",
      "source": [
        "Voy a eliminar las filas que tengan Na en la variable review."
      ],
      "metadata": {
        "id": "w1whtQNPPvJg"
      }
    },
    {
      "cell_type": "code",
      "source": [
        "df = df.dropna(subset=['review'])"
      ],
      "metadata": {
        "id": "HIw39HeoP3uw"
      },
      "execution_count": 93,
      "outputs": []
    },
    {
      "cell_type": "markdown",
      "source": [
        "Voy a representar la distribución de reviews por puntuación."
      ],
      "metadata": {
        "id": "0DcAPIB3B7M5"
      }
    },
    {
      "cell_type": "code",
      "source": [
        "aux_df = pd.DataFrame(df['score'].value_counts(sort=False).sort_index())\n",
        "aux_df = aux_df.plot(kind='bar', title='Overall sentiment distribution (review)', figsize=(8, 4))"
      ],
      "metadata": {
        "colab": {
          "base_uri": "https://localhost:8080/",
          "height": 399
        },
        "id": "DfGjSsf2-BwI",
        "outputId": "9c2e7369-da1b-46c0-e6ea-6dbbcdbe318c"
      },
      "execution_count": 94,
      "outputs": [
        {
          "output_type": "display_data",
          "data": {
            "text/plain": [
              "<Figure size 800x400 with 1 Axes>"
            ],
            "image/png": "[encoded data removed]"
          },
          "metadata": {}
        }
      ]
    },
    {
      "cell_type": "markdown",
      "source": [
        "Observamos que los datos están desbalanceados ya que más del 65% de los datos tienen una puntuación de 5. Voy a crear una función binaria en la que 1 significa que recomienda el producto y voy a considerar las puntuaciones de productos igual o superior a 4, y 0 en caso contrario."
      ],
      "metadata": {
        "id": "CW21rYXqCMIl"
      }
    },
    {
      "cell_type": "code",
      "source": [
        "def label_sentiment(row):\n",
        "  if int(row['score']) < 4:\n",
        "    return 0\n",
        "  else:\n",
        "    return 1"
      ],
      "metadata": {
        "id": "fuMH_c9Fea5g"
      },
      "execution_count": 95,
      "outputs": []
    },
    {
      "cell_type": "code",
      "source": [
        "df['sentiment_label'] = df.apply(lambda row:label_sentiment(row), axis = 1)"
      ],
      "metadata": {
        "id": "dM8kAK8pfBLs"
      },
      "execution_count": 96,
      "outputs": []
    },
    {
      "cell_type": "code",
      "source": [
        "df.head()"
      ],
      "metadata": {
        "colab": {
          "base_uri": "https://localhost:8080/",
          "height": 206
        },
        "id": "r1pn-zNgfPui",
        "outputId": "92da5337-a907-432c-ada9-477d65109036"
      },
      "execution_count": 97,
      "outputs": [
        {
          "output_type": "execute_result",
          "data": {
            "text/plain": [
              "                                              review  score  sentiment_label\n",
              "0  This handcream has a beautiful fragrance. It d...    5.0                1\n",
              "1  wonderful hand lotion, for seriously dry skin,...    5.0                1\n",
              "2  Best hand cream around.  Silky, thick, soaks i...    5.0                1\n",
              "3                                           Thanks!!    5.0                1\n",
              "4  Great hand lotion.  Soaks right in and leaves ...    5.0                1"
            ],
            "text/html": [
              "\n",
              "  <div id=\"df-c21381e1-de51-4bb5-a401-d94644cc3973\" class=\"colab-df-container\">\n",
              "    <div>\n",
              "<style scoped>\n",
              "    .dataframe tbody tr th:only-of-type {\n",
              "        vertical-align: middle;\n",
              "    }\n",
              "\n",
              "    .dataframe tbody tr th {\n",
              "        vertical-align: top;\n",
              "    }\n",
              "\n",
              "    .dataframe thead th {\n",
              "        text-align: right;\n",
              "    }\n",
              "</style>\n",
              "<table border=\"1\" class=\"dataframe\">\n",
              "  <thead>\n",
              "    <tr style=\"text-align: right;\">\n",
              "      <th></th>\n",
              "      <th>review</th>\n",
              "      <th>score</th>\n",
              "      <th>sentiment_label</th>\n",
              "    </tr>\n",
              "  </thead>\n",
              "  <tbody>\n",
              "    <tr>\n",
              "      <th>0</th>\n",
              "      <td>This handcream has a beautiful fragrance. It d...</td>\n",
              "      <td>5.0</td>\n",
              "      <td>1</td>\n",
              "    </tr>\n",
              "    <tr>\n",
              "      <th>1</th>\n",
              "      <td>wonderful hand lotion, for seriously dry skin,...</td>\n",
              "      <td>5.0</td>\n",
              "      <td>1</td>\n",
              "    </tr>\n",
              "    <tr>\n",
              "      <th>2</th>\n",
              "      <td>Best hand cream around.  Silky, thick, soaks i...</td>\n",
              "      <td>5.0</td>\n",
              "      <td>1</td>\n",
              "    </tr>\n",
              "    <tr>\n",
              "      <th>3</th>\n",
              "      <td>Thanks!!</td>\n",
              "      <td>5.0</td>\n",
              "      <td>1</td>\n",
              "    </tr>\n",
              "    <tr>\n",
              "      <th>4</th>\n",
              "      <td>Great hand lotion.  Soaks right in and leaves ...</td>\n",
              "      <td>5.0</td>\n",
              "      <td>1</td>\n",
              "    </tr>\n",
              "  </tbody>\n",
              "</table>\n",
              "</div>\n",
              "    <div class=\"colab-df-buttons\">\n",
              "\n",
              "  <div class=\"colab-df-container\">\n",
              "    <button class=\"colab-df-convert\" onclick=\"convertToInteractive('df-c21381e1-de51-4bb5-a401-d94644cc3973')\"\n",
              "            title=\"Convert this dataframe to an interactive table.\"\n",
              "            style=\"display:none;\">\n",
              "\n",
              "  <svg xmlns=\"http://www.w3.org/2000/svg\" height=\"24px\" viewBox=\"0 -960 960 960\">\n",
              "    <path d=\"M120-120v-720h720v720H120Zm60-500h600v-160H180v160Zm220 220h160v-160H400v160Zm0 220h160v-160H400v160ZM180-400h160v-160H180v160Zm440 0h160v-160H620v160ZM180-180h160v-160H180v160Zm440 0h160v-160H620v160Z\"/>\n",
              "  </svg>\n",
              "    </button>\n",
              "\n",
              "  <style>\n",
              "    .colab-df-container {\n",
              "      display:flex;\n",
              "      gap: 12px;\n",
              "    }\n",
              "\n",
              "    .colab-df-convert {\n",
              "      background-color: #E8F0FE;\n",
              "      border: none;\n",
              "      border-radius: 50%;\n",
              "      cursor: pointer;\n",
              "      display: none;\n",
              "      fill: #1967D2;\n",
              "      height: 32px;\n",
              "      padding: 0 0 0 0;\n",
              "      width: 32px;\n",
              "    }\n",
              "\n",
              "    .colab-df-convert:hover {\n",
              "      background-color: #E2EBFA;\n",
              "      box-shadow: 0px 1px 2px rgba(60, 64, 67, 0.3), 0px 1px 3px 1px rgba(60, 64, 67, 0.15);\n",
              "      fill: #174EA6;\n",
              "    }\n",
              "\n",
              "    .colab-df-buttons div {\n",
              "      margin-bottom: 4px;\n",
              "    }\n",
              "\n",
              "    [theme=dark] .colab-df-convert {\n",
              "      background-color: #3B4455;\n",
              "      fill: #D2E3FC;\n",
              "    }\n",
              "\n",
              "    [theme=dark] .colab-df-convert:hover {\n",
              "      background-color: #434B5C;\n",
              "      box-shadow: 0px 1px 3px 1px rgba(0, 0, 0, 0.15);\n",
              "      filter: drop-shadow(0px 1px 2px rgba(0, 0, 0, 0.3));\n",
              "      fill: #FFFFFF;\n",
              "    }\n",
              "  </style>\n",
              "\n",
              "    <script>\n",
              "      const buttonEl =\n",
              "        document.querySelector('#df-c21381e1-de51-4bb5-a401-d94644cc3973 button.colab-df-convert');\n",
              "      buttonEl.style.display =\n",
              "        google.colab.kernel.accessAllowed ? 'block' : 'none';\n",
              "\n",
              "      async function convertToInteractive(key) {\n",
              "        const element = document.querySelector('#df-c21381e1-de51-4bb5-a401-d94644cc3973');\n",
              "        const dataTable =\n",
              "          await google.colab.kernel.invokeFunction('convertToInteractive',\n",
              "                                                    [key], {});\n",
              "        if (!dataTable) return;\n",
              "\n",
              "        const docLinkHtml = 'Like what you see? Visit the ' +\n",
              "          '<a target=\"_blank\" href=https://colab.research.google.com/notebooks/data_table.ipynb>data table notebook</a>'\n",
              "          + ' to learn more about interactive tables.';\n",
              "        element.innerHTML = '';\n",
              "        dataTable['output_type'] = 'display_data';\n",
              "        await google.colab.output.renderOutput(dataTable, element);\n",
              "        const docLink = document.createElement('div');\n",
              "        docLink.innerHTML = docLinkHtml;\n",
              "        element.appendChild(docLink);\n",
              "      }\n",
              "    </script>\n",
              "  </div>\n",
              "\n",
              "\n",
              "<div id=\"df-13f84f5b-0505-4bd0-b824-3d3ea8ba6d6d\">\n",
              "  <button class=\"colab-df-quickchart\" onclick=\"quickchart('df-13f84f5b-0505-4bd0-b824-3d3ea8ba6d6d')\"\n",
              "            title=\"Suggest charts\"\n",
              "            style=\"display:none;\">\n",
              "\n",
              "<svg xmlns=\"http://www.w3.org/2000/svg\" height=\"24px\"viewBox=\"0 0 24 24\"\n",
              "     width=\"24px\">\n",
              "    <g>\n",
              "        <path d=\"M19 3H5c-1.1 0-2 .9-2 2v14c0 1.1.9 2 2 2h14c1.1 0 2-.9 2-2V5c0-1.1-.9-2-2-2zM9 17H7v-7h2v7zm4 0h-2V7h2v10zm4 0h-2v-4h2v4z\"/>\n",
              "    </g>\n",
              "</svg>\n",
              "  </button>\n",
              "\n",
              "<style>\n",
              "  .colab-df-quickchart {\n",
              "      --bg-color: #E8F0FE;\n",
              "      --fill-color: #1967D2;\n",
              "      --hover-bg-color: #E2EBFA;\n",
              "      --hover-fill-color: #174EA6;\n",
              "      --disabled-fill-color: #AAA;\n",
              "      --disabled-bg-color: #DDD;\n",
              "  }\n",
              "\n",
              "  [theme=dark] .colab-df-quickchart {\n",
              "      --bg-color: #3B4455;\n",
              "      --fill-color: #D2E3FC;\n",
              "      --hover-bg-color: #434B5C;\n",
              "      --hover-fill-color: #FFFFFF;\n",
              "      --disabled-bg-color: #3B4455;\n",
              "      --disabled-fill-color: #666;\n",
              "  }\n",
              "\n",
              "  .colab-df-quickchart {\n",
              "    background-color: var(--bg-color);\n",
              "    border: none;\n",
              "    border-radius: 50%;\n",
              "    cursor: pointer;\n",
              "    display: none;\n",
              "    fill: var(--fill-color);\n",
              "    height: 32px;\n",
              "    padding: 0;\n",
              "    width: 32px;\n",
              "  }\n",
              "\n",
              "  .colab-df-quickchart:hover {\n",
              "    background-color: var(--hover-bg-color);\n",
              "    box-shadow: 0 1px 2px rgba(60, 64, 67, 0.3), 0 1px 3px 1px rgba(60, 64, 67, 0.15);\n",
              "    fill: var(--button-hover-fill-color);\n",
              "  }\n",
              "\n",
              "  .colab-df-quickchart-complete:disabled,\n",
              "  .colab-df-quickchart-complete:disabled:hover {\n",
              "    background-color: var(--disabled-bg-color);\n",
              "    fill: var(--disabled-fill-color);\n",
              "    box-shadow: none;\n",
              "  }\n",
              "\n",
              "  .colab-df-spinner {\n",
              "    border: 2px solid var(--fill-color);\n",
              "    border-color: transparent;\n",
              "    border-bottom-color: var(--fill-color);\n",
              "    animation:\n",
              "      spin 1s steps(1) infinite;\n",
              "  }\n",
              "\n",
              "  @keyframes spin {\n",
              "    0% {\n",
              "      border-color: transparent;\n",
              "      border-bottom-color: var(--fill-color);\n",
              "      border-left-color: var(--fill-color);\n",
              "    }\n",
              "    20% {\n",
              "      border-color: transparent;\n",
              "      border-left-color: var(--fill-color);\n",
              "      border-top-color: var(--fill-color);\n",
              "    }\n",
              "    30% {\n",
              "      border-color: transparent;\n",
              "      border-left-color: var(--fill-color);\n",
              "      border-top-color: var(--fill-color);\n",
              "      border-right-color: var(--fill-color);\n",
              "    }\n",
              "    40% {\n",
              "      border-color: transparent;\n",
              "      border-right-color: var(--fill-color);\n",
              "      border-top-color: var(--fill-color);\n",
              "    }\n",
              "    60% {\n",
              "      border-color: transparent;\n",
              "      border-right-color: var(--fill-color);\n",
              "    }\n",
              "    80% {\n",
              "      border-color: transparent;\n",
              "      border-right-color: var(--fill-color);\n",
              "      border-bottom-color: var(--fill-color);\n",
              "    }\n",
              "    90% {\n",
              "      border-color: transparent;\n",
              "      border-bottom-color: var(--fill-color);\n",
              "    }\n",
              "  }\n",
              "</style>\n",
              "\n",
              "  <script>\n",
              "    async function quickchart(key) {\n",
              "      const quickchartButtonEl =\n",
              "        document.querySelector('#' + key + ' button');\n",
              "      quickchartButtonEl.disabled = true;  // To prevent multiple clicks.\n",
              "      quickchartButtonEl.classList.add('colab-df-spinner');\n",
              "      try {\n",
              "        const charts = await google.colab.kernel.invokeFunction(\n",
              "            'suggestCharts', [key], {});\n",
              "      } catch (error) {\n",
              "        console.error('Error during call to suggestCharts:', error);\n",
              "      }\n",
              "      quickchartButtonEl.classList.remove('colab-df-spinner');\n",
              "      quickchartButtonEl.classList.add('colab-df-quickchart-complete');\n",
              "    }\n",
              "    (() => {\n",
              "      let quickchartButtonEl =\n",
              "        document.querySelector('#df-13f84f5b-0505-4bd0-b824-3d3ea8ba6d6d button');\n",
              "      quickchartButtonEl.style.display =\n",
              "        google.colab.kernel.accessAllowed ? 'block' : 'none';\n",
              "    })();\n",
              "  </script>\n",
              "</div>\n",
              "    </div>\n",
              "  </div>\n"
            ],
            "application/vnd.google.colaboratory.intrinsic+json": {
              "type": "dataframe",
              "variable_name": "df",
              "summary": "{\n  \"name\": \"df\",\n  \"rows\": 34265,\n  \"fields\": [\n    {\n      \"column\": \"review\",\n      \"properties\": {\n        \"dtype\": \"string\",\n        \"num_unique_values\": 24245,\n        \"samples\": [\n          \"I bought this product (in another color), followed the directions exactly, but this does nothing but cause your existing hair to turn an off share and feel like straw. Unlike the Toppik fibers, this doesn't do anything for areas of thinning. I contacted the company and asked for a refund, but didn't even get the courtesy of a response. Toppik fibers are good, but this product is useless.\",\n          \"Wow! I ordered this yesterday and I got it today!!! Fantastic, Thank you!!!\",\n          \"This was the best concealer that I have every used.  I used it around my eye area before applying foundation and it made me look well rested and provided excellent coverage for the dark circles that sometimes show up.  The application was so gentle and smooth.  The coverage was thick but not cakey in any way.  The color stayed from morning until night.  I highly recommend.\"\n        ],\n        \"semantic_type\": \"\",\n        \"description\": \"\"\n      }\n    },\n    {\n      \"column\": \"score\",\n      \"properties\": {\n        \"dtype\": \"number\",\n        \"std\": 1.037411710312324,\n        \"min\": 1.0,\n        \"max\": 5.0,\n        \"num_unique_values\": 5,\n        \"samples\": [\n          4.0,\n          2.0,\n          3.0\n        ],\n        \"semantic_type\": \"\",\n        \"description\": \"\"\n      }\n    },\n    {\n      \"column\": \"sentiment_label\",\n      \"properties\": {\n        \"dtype\": \"number\",\n        \"std\": 0,\n        \"min\": 0,\n        \"max\": 1,\n        \"num_unique_values\": 2,\n        \"samples\": [\n          0,\n          1\n        ],\n        \"semantic_type\": \"\",\n        \"description\": \"\"\n      }\n    }\n  ]\n}"
            }
          },
          "metadata": {},
          "execution_count": 97
        }
      ]
    },
    {
      "cell_type": "markdown",
      "source": [
        "Así quedaría la distribución de reviews de forma binaria."
      ],
      "metadata": {
        "id": "lsMzDykkgKvL"
      }
    },
    {
      "cell_type": "code",
      "source": [
        "aux_df = pd.DataFrame(df['sentiment_label'].value_counts(sort=False).sort_index())\n",
        "aux_df = aux_df.plot(kind='bar', title='Overall sentiment distribution (review)', figsize=(8, 4))"
      ],
      "metadata": {
        "colab": {
          "base_uri": "https://localhost:8080/",
          "height": 385
        },
        "id": "Lj14tzMEf-r7",
        "outputId": "0807007d-c25f-41b7-fbc5-070caef85720"
      },
      "execution_count": 98,
      "outputs": [
        {
          "output_type": "display_data",
          "data": {
            "text/plain": [
              "<Figure size 800x400 with 1 Axes>"
            ],
            "image/png": "[encoded data removed]"
          },
          "metadata": {}
        }
      ]
    },
    {
      "cell_type": "markdown",
      "source": [
        "Con una aproximación rápida, pasando a minúsculas y tokenizando por espacios, observamos que nuestro vocabulario está formado por 69.022 tokens."
      ],
      "metadata": {
        "id": "tEoH2AWPH41w"
      }
    },
    {
      "cell_type": "code",
      "source": [
        "splitted_reviews = df['review'].str.lower().str.split()\n",
        "words = splitted_reviews.apply(pd.Series).stack().reset_index(drop = True)\n",
        "vocabulary = Counter(words)\n",
        "len(vocabulary)"
      ],
      "metadata": {
        "colab": {
          "base_uri": "https://localhost:8080/"
        },
        "id": "NHIlszXoCsDO",
        "outputId": "d8f75f02-b17c-4949-c333-a7898f5872df"
      },
      "execution_count": 99,
      "outputs": [
        {
          "output_type": "execute_result",
          "data": {
            "text/plain": [
              "69022"
            ]
          },
          "metadata": {},
          "execution_count": 99
        }
      ]
    },
    {
      "cell_type": "code",
      "source": [
        "\n",
        "bigrams_ = ngrams(words, 2)\n",
        "trigrams_ = ngrams(words, 3)"
      ],
      "metadata": {
        "id": "ygo-W6J_Iz1u"
      },
      "execution_count": 100,
      "outputs": []
    },
    {
      "cell_type": "code",
      "source": [
        "bigrams_freq_ = FreqDist(bigrams_)\n",
        "trigrams_freq_ = FreqDist(trigrams_)"
      ],
      "metadata": {
        "id": "X6GFGSwKLRko"
      },
      "execution_count": 101,
      "outputs": []
    },
    {
      "cell_type": "code",
      "source": [
        "bigrams_freq_.most_common(10)"
      ],
      "metadata": {
        "colab": {
          "base_uri": "https://localhost:8080/"
        },
        "id": "z3cMEK-OLWWY",
        "outputId": "b80be68b-ba69-4c04-9103-26441d906120"
      },
      "execution_count": 102,
      "outputs": [
        {
          "output_type": "execute_result",
          "data": {
            "text/plain": [
              "[(('i', 'have'), 12154),\n",
              " (('it', 'is'), 9552),\n",
              " (('is', 'a'), 9453),\n",
              " (('this', 'is'), 8860),\n",
              " (('in', 'the'), 8328),\n",
              " (('of', 'the'), 8321),\n",
              " (('my', 'skin'), 7535),\n",
              " (('and', 'i'), 6492),\n",
              " (('on', 'my'), 5831),\n",
              " (('and', 'it'), 5537)]"
            ]
          },
          "metadata": {},
          "execution_count": 102
        }
      ]
    },
    {
      "cell_type": "code",
      "source": [
        "trigrams_freq_.most_common(10)"
      ],
      "metadata": {
        "colab": {
          "base_uri": "https://localhost:8080/"
        },
        "id": "1DtvtbuxLYVh",
        "outputId": "0a3f9ac0-4a56-4a2f-ee2e-42918507139a"
      },
      "execution_count": 103,
      "outputs": [
        {
          "output_type": "execute_result",
          "data": {
            "text/plain": [
              "[(('this', 'is', 'a'), 3390),\n",
              " (('a', 'lot', 'of'), 1911),\n",
              " (('it', 'is', 'a'), 1465),\n",
              " (('it', 'has', 'a'), 1393),\n",
              " (('as', 'well', 'as'), 1157),\n",
              " (('i', 'have', 'been'), 1109),\n",
              " (('goes', 'a', 'long'), 1039),\n",
              " (('i', 'love', 'the'), 970),\n",
              " (('this', 'is', 'the'), 967),\n",
              " (('i', 'have', 'used'), 937)]"
            ]
          },
          "metadata": {},
          "execution_count": 103
        }
      ]
    },
    {
      "cell_type": "markdown",
      "source": [
        "Observamos que hay que hacer una limpieza de las stopwords ya que los bigramas y trigramas más frecuentes están formados prácticamente por palabras que no nos dan información sobre las reviews ya que se tratan de preposiciones, pronombres, artículos..."
      ],
      "metadata": {
        "id": "uzmK9SuCD2nN"
      }
    },
    {
      "cell_type": "markdown",
      "source": [
        "Si hacemos una nube de palabras observamos que palabras como *product* y *skin* tienen gran relevancia."
      ],
      "metadata": {
        "id": "fjAH_JWgEpzf"
      }
    },
    {
      "cell_type": "code",
      "source": [
        "\n",
        "\n",
        "def plot_word_cloud(text):\n",
        "    wordcloud = WordCloud(max_font_size=50, max_words=10, background_color=\"white\").generate(' '.join(text))\n",
        "    plt.figure(figsize=(12,6))\n",
        "    plt.imshow(wordcloud, interpolation='bilinear')\n",
        "    plt.axis('off')\n",
        "    plt.show()\n",
        "\n",
        "plot_word_cloud(words)"
      ],
      "metadata": {
        "colab": {
          "base_uri": "https://localhost:8080/",
          "height": 499
        },
        "id": "cxTcfFNNOCLx",
        "outputId": "fa5fd893-1fff-4962-e89d-91a188fe7eb7"
      },
      "execution_count": 104,
      "outputs": [
        {
          "output_type": "display_data",
          "data": {
            "text/plain": [
              "<Figure size 1200x600 with 1 Axes>"
            ],
            "image/png": "[encoded data removed]"
          },
          "metadata": {}
        }
      ]
    },
    {
      "cell_type": "markdown",
      "source": [
        "# **2. Preprocesamiento**\n",
        "\n"
      ],
      "metadata": {
        "id": "K2O74eMiGWwg"
      }
    },
    {
      "cell_type": "markdown",
      "source": [
        "En primer lugar, vamos a pasar todas las letras a minúsculas, eliminar carácteres extraños y separar el texto en frases. Voy a calcular una lista de stopwords en inglés y vamos a eliminar todas aquellas que se encuentren en esta lista. Por último, vamos a rehacer la frase."
      ],
      "metadata": {
        "id": "XVcwkajiTza_"
      }
    },
    {
      "cell_type": "code",
      "source": [
        "nltk.download('stopwords')\n",
        "nltk.download('punkt')\n",
        "\n",
        "def text_normalizer(text, lemmatize=False):\n",
        "    processed_text = []\n",
        "\n",
        "    # Convertir el texto a minúsculas\n",
        "    text = text.lower()\n",
        "\n",
        "    # Eliminar caracteres \"extraños\"\n",
        "    text = unicodedata.normalize('NFKD', text).encode('ascii', 'ignore').decode('utf-8', 'ignore')\n",
        "\n",
        "    # Tokenizar el texto en frases\n",
        "    sentences = sent_tokenize(text)\n",
        "\n",
        "    # Lista de stop words en inglés\n",
        "    sw_list = set(nltk.corpus.stopwords.words('english'))\n",
        "\n",
        "    # Para cada frase\n",
        "    for sentence in sentences:\n",
        "        words = word_tokenize(sentence)\n",
        "        # Para cada palabra\n",
        "        for word in words:\n",
        "            if word not in string.punctuation and word not in sw_list:\n",
        "                processed_text.append(word)\n",
        "        processed_text.append(' ')\n",
        "\n",
        "    return ' '.join(processed_text).strip()\n"
      ],
      "metadata": {
        "colab": {
          "base_uri": "https://localhost:8080/"
        },
        "id": "k2ZLk1xVLp1s",
        "outputId": "3a83e92e-edee-4f52-f203-5e051390fa33"
      },
      "execution_count": 105,
      "outputs": [
        {
          "output_type": "stream",
          "name": "stderr",
          "text": [
            "[nltk_data] Downloading package stopwords to /root/nltk_data...\n",
            "[nltk_data]   Package stopwords is already up-to-date!\n",
            "[nltk_data] Downloading package punkt to /root/nltk_data...\n",
            "[nltk_data]   Package punkt is already up-to-date!\n"
          ]
        }
      ]
    },
    {
      "cell_type": "code",
      "source": [
        "review_normalized = df['review'].apply(lambda x: text_normalizer(x, lemmatize=True))"
      ],
      "metadata": {
        "id": "M9vVP7HzRIVL"
      },
      "execution_count": 106,
      "outputs": []
    },
    {
      "cell_type": "code",
      "source": [
        "df['review_normalized'] = review_normalized"
      ],
      "metadata": {
        "id": "59JTgaeYQyPT"
      },
      "execution_count": 108,
      "outputs": []
    },
    {
      "cell_type": "code",
      "source": [
        "print('Review original: {}'.format(df['review'].values[0]))\n",
        "print('Review normalizada: {}'.format(df['review_normalized'].values[0]))"
      ],
      "metadata": {
        "colab": {
          "base_uri": "https://localhost:8080/"
        },
        "id": "hv8swATNZrCg",
        "outputId": "02e1f895-93ce-4716-bf13-d05a21e8d05a"
      },
      "execution_count": 109,
      "outputs": [
        {
          "output_type": "stream",
          "name": "stdout",
          "text": [
            "Review original: This handcream has a beautiful fragrance. It doesnt stay on or protect your hands through washing.  This size is quite small.\n",
            "Review normalizada: handcream beautiful fragrance   doesnt stay protect hands washing   size quite small\n"
          ]
        }
      ]
    },
    {
      "cell_type": "code",
      "source": [
        "df = df[['review_normalized', 'sentiment_label']]"
      ],
      "metadata": {
        "id": "USCyiQhotsSL"
      },
      "execution_count": 110,
      "outputs": []
    },
    {
      "cell_type": "code",
      "source": [
        "df.head()"
      ],
      "metadata": {
        "colab": {
          "base_uri": "https://localhost:8080/",
          "height": 206
        },
        "id": "48h3_pEviQ3y",
        "outputId": "537da9e5-a8a8-46c1-cb5a-ec73f7185fdf"
      },
      "execution_count": 111,
      "outputs": [
        {
          "output_type": "execute_result",
          "data": {
            "text/plain": [
              "                                   review_normalized  sentiment_label\n",
              "0  handcream beautiful fragrance   doesnt stay pr...                1\n",
              "1  wonderful hand lotion seriously dry skin stays...                1\n",
              "2  best hand cream around   silky thick soaks way...                1\n",
              "3                                             thanks                1\n",
              "4  great hand lotion   soaks right leaves skin su...                1"
            ],
            "text/html": [
              "\n",
              "  <div id=\"df-9fe08979-dfde-4666-8fa5-435440d6d3bd\" class=\"colab-df-container\">\n",
              "    <div>\n",
              "<style scoped>\n",
              "    .dataframe tbody tr th:only-of-type {\n",
              "        vertical-align: middle;\n",
              "    }\n",
              "\n",
              "    .dataframe tbody tr th {\n",
              "        vertical-align: top;\n",
              "    }\n",
              "\n",
              "    .dataframe thead th {\n",
              "        text-align: right;\n",
              "    }\n",
              "</style>\n",
              "<table border=\"1\" class=\"dataframe\">\n",
              "  <thead>\n",
              "    <tr style=\"text-align: right;\">\n",
              "      <th></th>\n",
              "      <th>review_normalized</th>\n",
              "      <th>sentiment_label</th>\n",
              "    </tr>\n",
              "  </thead>\n",
              "  <tbody>\n",
              "    <tr>\n",
              "      <th>0</th>\n",
              "      <td>handcream beautiful fragrance   doesnt stay pr...</td>\n",
              "      <td>1</td>\n",
              "    </tr>\n",
              "    <tr>\n",
              "      <th>1</th>\n",
              "      <td>wonderful hand lotion seriously dry skin stays...</td>\n",
              "      <td>1</td>\n",
              "    </tr>\n",
              "    <tr>\n",
              "      <th>2</th>\n",
              "      <td>best hand cream around   silky thick soaks way...</td>\n",
              "      <td>1</td>\n",
              "    </tr>\n",
              "    <tr>\n",
              "      <th>3</th>\n",
              "      <td>thanks</td>\n",
              "      <td>1</td>\n",
              "    </tr>\n",
              "    <tr>\n",
              "      <th>4</th>\n",
              "      <td>great hand lotion   soaks right leaves skin su...</td>\n",
              "      <td>1</td>\n",
              "    </tr>\n",
              "  </tbody>\n",
              "</table>\n",
              "</div>\n",
              "    <div class=\"colab-df-buttons\">\n",
              "\n",
              "  <div class=\"colab-df-container\">\n",
              "    <button class=\"colab-df-convert\" onclick=\"convertToInteractive('df-9fe08979-dfde-4666-8fa5-435440d6d3bd')\"\n",
              "            title=\"Convert this dataframe to an interactive table.\"\n",
              "            style=\"display:none;\">\n",
              "\n",
              "  <svg xmlns=\"http://www.w3.org/2000/svg\" height=\"24px\" viewBox=\"0 -960 960 960\">\n",
              "    <path d=\"M120-120v-720h720v720H120Zm60-500h600v-160H180v160Zm220 220h160v-160H400v160Zm0 220h160v-160H400v160ZM180-400h160v-160H180v160Zm440 0h160v-160H620v160ZM180-180h160v-160H180v160Zm440 0h160v-160H620v160Z\"/>\n",
              "  </svg>\n",
              "    </button>\n",
              "\n",
              "  <style>\n",
              "    .colab-df-container {\n",
              "      display:flex;\n",
              "      gap: 12px;\n",
              "    }\n",
              "\n",
              "    .colab-df-convert {\n",
              "      background-color: #E8F0FE;\n",
              "      border: none;\n",
              "      border-radius: 50%;\n",
              "      cursor: pointer;\n",
              "      display: none;\n",
              "      fill: #1967D2;\n",
              "      height: 32px;\n",
              "      padding: 0 0 0 0;\n",
              "      width: 32px;\n",
              "    }\n",
              "\n",
              "    .colab-df-convert:hover {\n",
              "      background-color: #E2EBFA;\n",
              "      box-shadow: 0px 1px 2px rgba(60, 64, 67, 0.3), 0px 1px 3px 1px rgba(60, 64, 67, 0.15);\n",
              "      fill: #174EA6;\n",
              "    }\n",
              "\n",
              "    .colab-df-buttons div {\n",
              "      margin-bottom: 4px;\n",
              "    }\n",
              "\n",
              "    [theme=dark] .colab-df-convert {\n",
              "      background-color: #3B4455;\n",
              "      fill: #D2E3FC;\n",
              "    }\n",
              "\n",
              "    [theme=dark] .colab-df-convert:hover {\n",
              "      background-color: #434B5C;\n",
              "      box-shadow: 0px 1px 3px 1px rgba(0, 0, 0, 0.15);\n",
              "      filter: drop-shadow(0px 1px 2px rgba(0, 0, 0, 0.3));\n",
              "      fill: #FFFFFF;\n",
              "    }\n",
              "  </style>\n",
              "\n",
              "    <script>\n",
              "      const buttonEl =\n",
              "        document.querySelector('#df-9fe08979-dfde-4666-8fa5-435440d6d3bd button.colab-df-convert');\n",
              "      buttonEl.style.display =\n",
              "        google.colab.kernel.accessAllowed ? 'block' : 'none';\n",
              "\n",
              "      async function convertToInteractive(key) {\n",
              "        const element = document.querySelector('#df-9fe08979-dfde-4666-8fa5-435440d6d3bd');\n",
              "        const dataTable =\n",
              "          await google.colab.kernel.invokeFunction('convertToInteractive',\n",
              "                                                    [key], {});\n",
              "        if (!dataTable) return;\n",
              "\n",
              "        const docLinkHtml = 'Like what you see? Visit the ' +\n",
              "          '<a target=\"_blank\" href=https://colab.research.google.com/notebooks/data_table.ipynb>data table notebook</a>'\n",
              "          + ' to learn more about interactive tables.';\n",
              "        element.innerHTML = '';\n",
              "        dataTable['output_type'] = 'display_data';\n",
              "        await google.colab.output.renderOutput(dataTable, element);\n",
              "        const docLink = document.createElement('div');\n",
              "        docLink.innerHTML = docLinkHtml;\n",
              "        element.appendChild(docLink);\n",
              "      }\n",
              "    </script>\n",
              "  </div>\n",
              "\n",
              "\n",
              "<div id=\"df-e89f9254-1739-46c3-920d-b8e5adab65ab\">\n",
              "  <button class=\"colab-df-quickchart\" onclick=\"quickchart('df-e89f9254-1739-46c3-920d-b8e5adab65ab')\"\n",
              "            title=\"Suggest charts\"\n",
              "            style=\"display:none;\">\n",
              "\n",
              "<svg xmlns=\"http://www.w3.org/2000/svg\" height=\"24px\"viewBox=\"0 0 24 24\"\n",
              "     width=\"24px\">\n",
              "    <g>\n",
              "        <path d=\"M19 3H5c-1.1 0-2 .9-2 2v14c0 1.1.9 2 2 2h14c1.1 0 2-.9 2-2V5c0-1.1-.9-2-2-2zM9 17H7v-7h2v7zm4 0h-2V7h2v10zm4 0h-2v-4h2v4z\"/>\n",
              "    </g>\n",
              "</svg>\n",
              "  </button>\n",
              "\n",
              "<style>\n",
              "  .colab-df-quickchart {\n",
              "      --bg-color: #E8F0FE;\n",
              "      --fill-color: #1967D2;\n",
              "      --hover-bg-color: #E2EBFA;\n",
              "      --hover-fill-color: #174EA6;\n",
              "      --disabled-fill-color: #AAA;\n",
              "      --disabled-bg-color: #DDD;\n",
              "  }\n",
              "\n",
              "  [theme=dark] .colab-df-quickchart {\n",
              "      --bg-color: #3B4455;\n",
              "      --fill-color: #D2E3FC;\n",
              "      --hover-bg-color: #434B5C;\n",
              "      --hover-fill-color: #FFFFFF;\n",
              "      --disabled-bg-color: #3B4455;\n",
              "      --disabled-fill-color: #666;\n",
              "  }\n",
              "\n",
              "  .colab-df-quickchart {\n",
              "    background-color: var(--bg-color);\n",
              "    border: none;\n",
              "    border-radius: 50%;\n",
              "    cursor: pointer;\n",
              "    display: none;\n",
              "    fill: var(--fill-color);\n",
              "    height: 32px;\n",
              "    padding: 0;\n",
              "    width: 32px;\n",
              "  }\n",
              "\n",
              "  .colab-df-quickchart:hover {\n",
              "    background-color: var(--hover-bg-color);\n",
              "    box-shadow: 0 1px 2px rgba(60, 64, 67, 0.3), 0 1px 3px 1px rgba(60, 64, 67, 0.15);\n",
              "    fill: var(--button-hover-fill-color);\n",
              "  }\n",
              "\n",
              "  .colab-df-quickchart-complete:disabled,\n",
              "  .colab-df-quickchart-complete:disabled:hover {\n",
              "    background-color: var(--disabled-bg-color);\n",
              "    fill: var(--disabled-fill-color);\n",
              "    box-shadow: none;\n",
              "  }\n",
              "\n",
              "  .colab-df-spinner {\n",
              "    border: 2px solid var(--fill-color);\n",
              "    border-color: transparent;\n",
              "    border-bottom-color: var(--fill-color);\n",
              "    animation:\n",
              "      spin 1s steps(1) infinite;\n",
              "  }\n",
              "\n",
              "  @keyframes spin {\n",
              "    0% {\n",
              "      border-color: transparent;\n",
              "      border-bottom-color: var(--fill-color);\n",
              "      border-left-color: var(--fill-color);\n",
              "    }\n",
              "    20% {\n",
              "      border-color: transparent;\n",
              "      border-left-color: var(--fill-color);\n",
              "      border-top-color: var(--fill-color);\n",
              "    }\n",
              "    30% {\n",
              "      border-color: transparent;\n",
              "      border-left-color: var(--fill-color);\n",
              "      border-top-color: var(--fill-color);\n",
              "      border-right-color: var(--fill-color);\n",
              "    }\n",
              "    40% {\n",
              "      border-color: transparent;\n",
              "      border-right-color: var(--fill-color);\n",
              "      border-top-color: var(--fill-color);\n",
              "    }\n",
              "    60% {\n",
              "      border-color: transparent;\n",
              "      border-right-color: var(--fill-color);\n",
              "    }\n",
              "    80% {\n",
              "      border-color: transparent;\n",
              "      border-right-color: var(--fill-color);\n",
              "      border-bottom-color: var(--fill-color);\n",
              "    }\n",
              "    90% {\n",
              "      border-color: transparent;\n",
              "      border-bottom-color: var(--fill-color);\n",
              "    }\n",
              "  }\n",
              "</style>\n",
              "\n",
              "  <script>\n",
              "    async function quickchart(key) {\n",
              "      const quickchartButtonEl =\n",
              "        document.querySelector('#' + key + ' button');\n",
              "      quickchartButtonEl.disabled = true;  // To prevent multiple clicks.\n",
              "      quickchartButtonEl.classList.add('colab-df-spinner');\n",
              "      try {\n",
              "        const charts = await google.colab.kernel.invokeFunction(\n",
              "            'suggestCharts', [key], {});\n",
              "      } catch (error) {\n",
              "        console.error('Error during call to suggestCharts:', error);\n",
              "      }\n",
              "      quickchartButtonEl.classList.remove('colab-df-spinner');\n",
              "      quickchartButtonEl.classList.add('colab-df-quickchart-complete');\n",
              "    }\n",
              "    (() => {\n",
              "      let quickchartButtonEl =\n",
              "        document.querySelector('#df-e89f9254-1739-46c3-920d-b8e5adab65ab button');\n",
              "      quickchartButtonEl.style.display =\n",
              "        google.colab.kernel.accessAllowed ? 'block' : 'none';\n",
              "    })();\n",
              "  </script>\n",
              "</div>\n",
              "    </div>\n",
              "  </div>\n"
            ],
            "application/vnd.google.colaboratory.intrinsic+json": {
              "type": "dataframe",
              "variable_name": "df",
              "summary": "{\n  \"name\": \"df\",\n  \"rows\": 34265,\n  \"fields\": [\n    {\n      \"column\": \"review_normalized\",\n      \"properties\": {\n        \"dtype\": \"string\",\n        \"num_unique_values\": 23933,\n        \"samples\": [\n          \"dermablend cover creme good job covering freckles gives face smooth looking appearance   lasts day washes easily soap water   definitely recommended\",\n          \"serum aka moisturizer strange consistency   's somewhat greasy little gooey   using times found little results made skin feel oily   n't impressed product   's something would n't recommend use   would stick traditional types skin care products   katiebabs\",\n          \"lovely color\"\n        ],\n        \"semantic_type\": \"\",\n        \"description\": \"\"\n      }\n    },\n    {\n      \"column\": \"sentiment_label\",\n      \"properties\": {\n        \"dtype\": \"number\",\n        \"std\": 0,\n        \"min\": 0,\n        \"max\": 1,\n        \"num_unique_values\": 2,\n        \"samples\": [\n          0,\n          1\n        ],\n        \"semantic_type\": \"\",\n        \"description\": \"\"\n      }\n    }\n  ]\n}"
            }
          },
          "metadata": {},
          "execution_count": 111
        }
      ]
    },
    {
      "cell_type": "markdown",
      "source": [
        "# **3. Modelado**"
      ],
      "metadata": {
        "id": "wrekqgRhn3QU"
      }
    },
    {
      "cell_type": "markdown",
      "source": [
        "Creamos los conjuntos de entrenamiento(75% del total) y test(25%)."
      ],
      "metadata": {
        "id": "__POWV5eso7A"
      }
    },
    {
      "cell_type": "code",
      "source": [
        "X_train, X_test, y_train, y_test = train_test_split(\n",
        "    df['review_normalized'],\n",
        "    df['sentiment_label'],\n",
        "    train_size=0.75,\n",
        "    test_size=0.25,\n",
        "    random_state=42,\n",
        "    shuffle=True\n",
        ")"
      ],
      "metadata": {
        "id": "XVwwS3H6s0V3"
      },
      "execution_count": 112,
      "outputs": []
    },
    {
      "cell_type": "code",
      "source": [
        "X_train.iloc[:10]"
      ],
      "metadata": {
        "colab": {
          "base_uri": "https://localhost:8080/"
        },
        "id": "XUZJCZC5rqEL",
        "outputId": "99e7bd09-4d9d-45ad-91ae-a4f840d8e9cf"
      },
      "execution_count": 113,
      "outputs": [
        {
          "output_type": "execute_result",
          "data": {
            "text/plain": [
              "30439    'm pleased   yes people complained packaging h...\n",
              "28472    lavender shade concealing crayon intended neut...\n",
              "22728    fun unique bright pink   color thinner darker ...\n",
              "12579    color n't bright nevertheless still like green...\n",
              "24508    gorgeous   normally top liquid foundation loos...\n",
              "8340     would nice product fragrance-free   sensitive ...\n",
              "28739                                                   ok\n",
              "6145     stuff amazing   thinning spots covers binds ha...\n",
              "6214     made father 's hair look great bad ca n't stay...\n",
              "8543     works well covering red scar face   required l...\n",
              "Name: review_normalized, dtype: object"
            ]
          },
          "metadata": {},
          "execution_count": 113
        }
      ]
    },
    {
      "cell_type": "code",
      "source": [
        "y_train.iloc[:10]"
      ],
      "metadata": {
        "colab": {
          "base_uri": "https://localhost:8080/"
        },
        "id": "5TPNUnarvMyx",
        "outputId": "ec6a27ba-9adf-46de-d49d-b865a6260546"
      },
      "execution_count": 114,
      "outputs": [
        {
          "output_type": "execute_result",
          "data": {
            "text/plain": [
              "30439    1\n",
              "28472    1\n",
              "22728    1\n",
              "12579    1\n",
              "24508    1\n",
              "8340     0\n",
              "28739    1\n",
              "6145     1\n",
              "6214     1\n",
              "8543     1\n",
              "Name: sentiment_label, dtype: int64"
            ]
          },
          "metadata": {},
          "execution_count": 114
        }
      ]
    },
    {
      "cell_type": "code",
      "source": [
        "cv = TfidfVectorizer(\n",
        "    max_df=0.95,\n",
        "    min_df=3,\n",
        "    max_features=2500,\n",
        "    strip_accents='ascii',\n",
        "    ngram_range=(1, 1)\n",
        ")\n",
        "cv.fit(X_train)"
      ],
      "metadata": {
        "colab": {
          "base_uri": "https://localhost:8080/",
          "height": 75
        },
        "id": "7XkQ5AEllCBr",
        "outputId": "fc7656cc-90f3-4ccc-b17b-f01e8efa9424"
      },
      "execution_count": 115,
      "outputs": [
        {
          "output_type": "execute_result",
          "data": {
            "text/plain": [
              "TfidfVectorizer(max_df=0.95, max_features=2500, min_df=3, strip_accents='ascii')"
            ],
            "text/html": [
              "<style>#sk-container-id-2 {color: black;background-color: white;}#sk-container-id-2 pre{padding: 0;}#sk-container-id-2 div.sk-toggleable {background-color: white;}#sk-container-id-2 label.sk-toggleable__label {cursor: pointer;display: block;width: 100%;margin-bottom: 0;padding: 0.3em;box-sizing: border-box;text-align: center;}#sk-container-id-2 label.sk-toggleable__label-arrow:before {content: \"▸\";float: left;margin-right: 0.25em;color: #696969;}#sk-container-id-2 label.sk-toggleable__label-arrow:hover:before {color: black;}#sk-container-id-2 div.sk-estimator:hover label.sk-toggleable__label-arrow:before {color: black;}#sk-container-id-2 div.sk-toggleable__content {max-height: 0;max-width: 0;overflow: hidden;text-align: left;background-color: #f0f8ff;}#sk-container-id-2 div.sk-toggleable__content pre {margin: 0.2em;color: black;border-radius: 0.25em;background-color: #f0f8ff;}#sk-container-id-2 input.sk-toggleable__control:checked~div.sk-toggleable__content {max-height: 200px;max-width: 100%;overflow: auto;}#sk-container-id-2 input.sk-toggleable__control:checked~label.sk-toggleable__label-arrow:before {content: \"▾\";}#sk-container-id-2 div.sk-estimator input.sk-toggleable__control:checked~label.sk-toggleable__label {background-color: #d4ebff;}#sk-container-id-2 div.sk-label input.sk-toggleable__control:checked~label.sk-toggleable__label {background-color: #d4ebff;}#sk-container-id-2 input.sk-hidden--visually {border: 0;clip: rect(1px 1px 1px 1px);clip: rect(1px, 1px, 1px, 1px);height: 1px;margin: -1px;overflow: hidden;padding: 0;position: absolute;width: 1px;}#sk-container-id-2 div.sk-estimator {font-family: monospace;background-color: #f0f8ff;border: 1px dotted black;border-radius: 0.25em;box-sizing: border-box;margin-bottom: 0.5em;}#sk-container-id-2 div.sk-estimator:hover {background-color: #d4ebff;}#sk-container-id-2 div.sk-parallel-item::after {content: \"\";width: 100%;border-bottom: 1px solid gray;flex-grow: 1;}#sk-container-id-2 div.sk-label:hover label.sk-toggleable__label {background-color: #d4ebff;}#sk-container-id-2 div.sk-serial::before {content: \"\";position: absolute;border-left: 1px solid gray;box-sizing: border-box;top: 0;bottom: 0;left: 50%;z-index: 0;}#sk-container-id-2 div.sk-serial {display: flex;flex-direction: column;align-items: center;background-color: white;padding-right: 0.2em;padding-left: 0.2em;position: relative;}#sk-container-id-2 div.sk-item {position: relative;z-index: 1;}#sk-container-id-2 div.sk-parallel {display: flex;align-items: stretch;justify-content: center;background-color: white;position: relative;}#sk-container-id-2 div.sk-item::before, #sk-container-id-2 div.sk-parallel-item::before {content: \"\";position: absolute;border-left: 1px solid gray;box-sizing: border-box;top: 0;bottom: 0;left: 50%;z-index: -1;}#sk-container-id-2 div.sk-parallel-item {display: flex;flex-direction: column;z-index: 1;position: relative;background-color: white;}#sk-container-id-2 div.sk-parallel-item:first-child::after {align-self: flex-end;width: 50%;}#sk-container-id-2 div.sk-parallel-item:last-child::after {align-self: flex-start;width: 50%;}#sk-container-id-2 div.sk-parallel-item:only-child::after {width: 0;}#sk-container-id-2 div.sk-dashed-wrapped {border: 1px dashed gray;margin: 0 0.4em 0.5em 0.4em;box-sizing: border-box;padding-bottom: 0.4em;background-color: white;}#sk-container-id-2 div.sk-label label {font-family: monospace;font-weight: bold;display: inline-block;line-height: 1.2em;}#sk-container-id-2 div.sk-label-container {text-align: center;}#sk-container-id-2 div.sk-container {/* jupyter's `normalize.less` sets `[hidden] { display: none; }` but bootstrap.min.css set `[hidden] { display: none !important; }` so we also need the `!important` here to be able to override the default hidden behavior on the sphinx rendered scikit-learn.org. See: https://github.com/scikit-learn/scikit-learn/issues/21755 */display: inline-block !important;position: relative;}#sk-container-id-2 div.sk-text-repr-fallback {display: none;}</style><div id=\"sk-container-id-2\" class=\"sk-top-container\"><div class=\"sk-text-repr-fallback\"><pre>TfidfVectorizer(max_df=0.95, max_features=2500, min_df=3, strip_accents=&#x27;ascii&#x27;)</pre><b>In a Jupyter environment, please rerun this cell to show the HTML representation or trust the notebook. <br />On GitHub, the HTML representation is unable to render, please try loading this page with nbviewer.org.</b></div><div class=\"sk-container\" hidden><div class=\"sk-item\"><div class=\"sk-estimator sk-toggleable\"><input class=\"sk-toggleable__control sk-hidden--visually\" id=\"sk-estimator-id-2\" type=\"checkbox\" checked><label for=\"sk-estimator-id-2\" class=\"sk-toggleable__label sk-toggleable__label-arrow\">TfidfVectorizer</label><div class=\"sk-toggleable__content\"><pre>TfidfVectorizer(max_df=0.95, max_features=2500, min_df=3, strip_accents=&#x27;ascii&#x27;)</pre></div></div></div></div></div>"
            ]
          },
          "metadata": {},
          "execution_count": 115
        }
      ]
    },
    {
      "cell_type": "code",
      "source": [
        "print(list(cv.vocabulary_.items())[:20])"
      ],
      "metadata": {
        "colab": {
          "base_uri": "https://localhost:8080/"
        },
        "id": "YcYwGyL-lVDt",
        "outputId": "dd5e4199-c392-4dd8-dff9-61b62c756c10"
      },
      "execution_count": 116,
      "outputs": [
        {
          "output_type": "stream",
          "name": "stdout",
          "text": [
            "[('pleased', 1600), ('yes', 2489), ('people', 1556), ('packaging', 1513), ('happen', 957), ('like', 1200), ('small', 1983), ('sizes', 1968), ('tough', 2274), ('handle', 953), ('problem', 1658), ('although', 94), ('traveling', 2283), ('right', 1808), ('choice', 376), ('next', 1406), ('results', 1794), ('past', 1536), ('half', 951), ('mark', 1285)]\n"
          ]
        }
      ]
    },
    {
      "cell_type": "code",
      "source": [
        "X_train_ = cv.transform(X_train)\n",
        "X_test_ = cv.transform(X_test)"
      ],
      "metadata": {
        "id": "09HUFRNKlkmF"
      },
      "execution_count": 117,
      "outputs": []
    },
    {
      "cell_type": "markdown",
      "source": [
        "Voy a hacer una regresión logística. Utilizando validación cruzada, voy a obtener el valor de C para el que obtenemos un valor de accuracy mejor."
      ],
      "metadata": {
        "id": "5EeSCHGWupMv"
      }
    },
    {
      "cell_type": "code",
      "source": [
        "# Diferentes parámetros de C\n",
        "param_grid = {'C': [0.01, 0.05, 0.1, 0.5, 1, 5, 10]}\n",
        "\n",
        "# Inicializar el clasificador de regresión logística\n",
        "lr = LogisticRegression(solver='lbfgs', max_iter=500)\n",
        "\n",
        "# Inicializar GridSearchCV\n",
        "grid_search = GridSearchCV(lr, param_grid, cv=5, scoring='accuracy')\n",
        "\n",
        "# Entrenar GridSearchCV\n",
        "grid_search.fit(X_train_, y_train)\n",
        "\n",
        "# Obtener el mejor valor de C\n",
        "best_C = grid_search.best_params_['C']\n",
        "print(\"Mejor valor de C:\", best_C)"
      ],
      "metadata": {
        "colab": {
          "base_uri": "https://localhost:8080/"
        },
        "id": "AmVz2hSSoDhl",
        "outputId": "b5463c07-a06e-4533-dbc8-cc4440eefc54"
      },
      "execution_count": 118,
      "outputs": [
        {
          "output_type": "stream",
          "name": "stdout",
          "text": [
            "Mejor valor de C: 5\n"
          ]
        }
      ]
    },
    {
      "cell_type": "markdown",
      "source": [
        "Ahora, voy a entrenar mis datos en  otro modelo de regresión logística con este valor de C."
      ],
      "metadata": {
        "id": "I6Al5A1RDikw"
      }
    },
    {
      "cell_type": "code",
      "source": [
        "# Inicializar un nuevo clasificador de regresión logística con el mejor valor de C\n",
        "best_lr = LogisticRegression(C=best_C, solver='lbfgs', max_iter=500)\n",
        "\n",
        "# Entrenar el modelo con los datos de entrenamiento\n",
        "best_lr.fit(X_train_, y_train)\n",
        "\n",
        "# Predecir las etiquetas en los datos de prueba\n",
        "y_pred = best_lr.predict(X_test_)\n",
        "\n",
        "# Calcular el accuracy del modelo\n",
        "accuracy = accuracy_score(y_test, y_pred)\n",
        "print(\"Accuracy del mejor modelo con C={}: {:.4f}\".format(best_C, accuracy))"
      ],
      "metadata": {
        "colab": {
          "base_uri": "https://localhost:8080/"
        },
        "id": "eRll6RiEuVVu",
        "outputId": "9ad1db9e-ce1a-4f5e-b542-33f4822ac495"
      },
      "execution_count": 120,
      "outputs": [
        {
          "output_type": "stream",
          "name": "stdout",
          "text": [
            "Accuracy del mejor modelo con C=5: 0.8812\n"
          ]
        }
      ]
    },
    {
      "cell_type": "markdown",
      "source": [
        "Ahora voy a comparar mi modelo logístico con un modelo de Gradient Boosting, calculando el número de estimadores óptimos utilizando validación cruzada."
      ],
      "metadata": {
        "id": "ojtSkC3dxMAz"
      }
    },
    {
      "cell_type": "code",
      "source": [
        "# Diferentes valores de estimadores\n",
        "param_grid = {'n_estimators': [10, 20, 50, 100]}\n",
        "\n",
        "# Inicializar el clasificador de Gradient Boosting\n",
        "gb_clf = GradientBoostingClassifier()\n",
        "\n",
        "# Inicializar GridSearchCV\n",
        "grid_search = GridSearchCV(gb_clf, param_grid, cv=5, scoring='accuracy')\n",
        "\n",
        "# Entrenar GridSearchCV\n",
        "grid_search.fit(X_train_, y_train)\n",
        "\n",
        "# Obtener el mejor número de estimadores\n",
        "best_n_estimators = grid_search.best_params_['n_estimators']\n",
        "print(\"Mejor número de estimadores:\", best_n_estimators)"
      ],
      "metadata": {
        "colab": {
          "base_uri": "https://localhost:8080/"
        },
        "id": "UuYKgdZh2Ryj",
        "outputId": "cadf9689-64d6-403c-d7aa-98f58ce3da3a"
      },
      "execution_count": 121,
      "outputs": [
        {
          "output_type": "stream",
          "name": "stdout",
          "text": [
            "Mejor número de estimadores: 100\n"
          ]
        }
      ]
    },
    {
      "cell_type": "code",
      "source": [
        "# Obtener el mejor modelo\n",
        "best_model = grid_search.best_estimator_\n",
        "\n",
        "# Evaluar el modelo en los datos de prueba\n",
        "accuracy = best_model.score(X_test_, y_test)\n",
        "print(\"Accuracy del modelo con {} estimadores: {:.4f}\".format (best_n_estimators,accuracy))"
      ],
      "metadata": {
        "colab": {
          "base_uri": "https://localhost:8080/"
        },
        "id": "GFgSs5xa5MeE",
        "outputId": "30e17062-fbd8-4e9e-9811-94ec17ac99dc"
      },
      "execution_count": 122,
      "outputs": [
        {
          "output_type": "stream",
          "name": "stdout",
          "text": [
            "Accuracy del modelo con 100 estimadores: 0.8409\n"
          ]
        }
      ]
    },
    {
      "cell_type": "markdown",
      "source": [
        "Observamos que ambos modelos tienen un accuracy similar, ligeramente mejor el modelo de regresión logística. Al ser métricas muy parecidas, para decidirnos por uno u otro, tendríamos que tener en cuenta más métricas de evaluación como recall o F1-score. Otro punto a tener en cuenta es que los modelos de regresión logistica son más rápidos de entrenar y predecir que los modelos de Gradient Boosting."
      ],
      "metadata": {
        "id": "d-Y_Qj9kFd3V"
      }
    }
  ]
}